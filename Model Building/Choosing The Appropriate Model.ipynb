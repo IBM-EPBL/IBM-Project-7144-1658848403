{
  "cells": [
    {
      "cell_type": "markdown",
      "id": "2dc423de",
      "metadata": {
        "id": "2dc423de"
      },
      "source": [
        "# Import Libraries"
      ]
    },
    {
      "cell_type": "code",
      "execution_count": null,
      "id": "95025a6d",
      "metadata": {
        "id": "95025a6d"
      },
      "outputs": [],
      "source": [
        "import pandas as pd\n",
        "import numpy as np\n",
        "from sklearn.preprocessing import LabelEncoder\n",
        "from sklearn.model_selection import train_test_split, GridSearchCV\n",
        "from sklearn.metrics import mean_absolute_error, mean_squared_error, r2_score\n",
        "import pickle\n",
        "import wandb"
      ]
    },
    {
      "cell_type": "code",
      "execution_count": null,
      "id": "4a4ce874",
      "metadata": {
        "id": "4a4ce874"
      },
      "outputs": [],
      "source": [
        "from sklearn.ensemble import BaggingRegressor, RandomForestRegressor, HistGradientBoostingRegressor, ExtraTreesRegressor\n",
        "from xgboost.sklearn import XGBRegressor\n",
        "from lightgbm import LGBMRegressor"
      ]
    },
    {
      "cell_type": "markdown",
      "id": "562ddbdc",
      "metadata": {
        "id": "562ddbdc"
      },
      "source": [
        "# Import Preprocessed Data"
      ]
    },
    {
      "cell_type": "code",
      "execution_count": null,
      "id": "877b1bda",
      "metadata": {
        "id": "877b1bda"
      },
      "outputs": [],
      "source": [
        "data = pd.read_csv(\"/content/Processed_dataset.csv\", header=0, sep=',', encoding='Latin1')"
      ]
    },
    {
      "cell_type": "markdown",
      "id": "a4ba8f10",
      "metadata": {
        "id": "a4ba8f10"
      },
      "source": [
        "# Label Encoding"
      ]
    },
    {
      "cell_type": "code",
      "execution_count": null,
      "id": "3781eeec",
      "metadata": {
        "id": "3781eeec",
        "outputId": "baca5247-d651-4794-c4b3-2a042c7b60aa"
      },
      "outputs": [
        {
          "name": "stdout",
          "output_type": "stream",
          "text": [
            "Index(['price', 'yearOfRegistration', 'powerPS', 'kilometer',\n",
            "       'monthOfRegistration', 'gearbox_labels', 'notRepairedDamage_labels',\n",
            "       'model_labels', 'brand_labels', 'fuelType_labels',\n",
            "       'vehicleType_labels'],\n",
            "      dtype='object')\n"
          ]
        }
      ],
      "source": [
        "labels = ['gearbox', 'notRepairedDamage', 'model', 'brand', 'fuelType', 'vehicleType']\n",
        "\n",
        "mapper = {}\n",
        "for i in labels:\n",
        "    mapper[i] = LabelEncoder()\n",
        "    mapper[i].fit(data[i])\n",
        "    tr = mapper[i].transform(data[i])\n",
        "    np.save(str('classes'+i+'.npy'), mapper[i].classes_)\n",
        "    data.loc[:, i+'_labels'] = pd.Series(tr, index=data.index)\n",
        "    \n",
        "labeled = data[['price', 'yearOfRegistration','powerPS','kilometer','monthOfRegistration']\n",
        "                  +[x+\"_labels\" for x in labels]]\n",
        "\n",
        "print(labeled.columns)"
      ]
    },
    {
      "cell_type": "markdown",
      "id": "a8dedd0c",
      "metadata": {
        "id": "a8dedd0c"
      },
      "source": [
        "# Score Evaluation"
      ]
    },
    {
      "cell_type": "code",
      "execution_count": null,
      "id": "34317248",
      "metadata": {
        "id": "34317248"
      },
      "outputs": [],
      "source": [
        "def find_scores(Y_actual, Y_pred, X_train):\n",
        "    mae = mean_absolute_error(Y_actual, Y_pred)\n",
        "    mse = mean_squared_error(Y_actual, Y_pred)\n",
        "    rmse = np.sqrt(mse)\n",
        "    rmsle = np.log(rmse)\n",
        "    r2 = r2_score(Y_actual, Y_pred)\n",
        "    n, k = X_train.shape\n",
        "    adj_r2_score = 1 - ((1-r2)*(n-1)/(n-k-1))\n",
        "    \n",
        "    wandb.log({\"mae\": mae, \"mse\": mse, 'rmse':rmse, 'rmsle':rmsle, 'r2':r2, 'adj_r2':adj_r2_score})"
      ]
    },
    {
      "cell_type": "markdown",
      "id": "e21d0587",
      "metadata": {
        "id": "e21d0587"
      },
      "source": [
        "# Predictive Modeling"
      ]
    },
    {
      "cell_type": "markdown",
      "id": "f13c4661",
      "metadata": {
        "id": "f13c4661"
      },
      "source": [
        "# Bagging Regressor"
      ]
    },
    {
      "cell_type": "code",
      "execution_count": null,
      "id": "5bd84720",
      "metadata": {
        "id": "5bd84720"
      },
      "outputs": [],
      "source": [
        "def bagging_regressor():\n",
        "    config_defaults = {\n",
        "                'n_estimators':100,\n",
        "                'max_samples':0.4,\n",
        "                'bootstrap':True,\n",
        "                'random_state':42\n",
        "            }\n",
        "    wandb.init(config=config_defaults)\n",
        "    config = wandb.config\n",
        "    \n",
        "    X = labeled.iloc[:,1:].values\n",
        "    Y = labeled.iloc[:,0].values.reshape(-1,1)\n",
        "    \n",
        "    X_train, X_test, Y_train, Y_test = train_test_split(X, Y, test_size=0.4, random_state=42)\n",
        "    \n",
        "    model = BaggingRegressor(\n",
        "      n_estimators=config.n_estimators, \n",
        "      bootstrap=config.bootstrap,\n",
        "      max_samples=config.max_samples,\n",
        "      random_state = config.random_state)\n",
        "    \n",
        "    model.fit(X_train, Y_train)\n",
        "    \n",
        "    Y_pred = model.predict(X_test)\n",
        "    \n",
        "    find_scores(Y_test, Y_pred, X_train)"
      ]
    },
    {
      "cell_type": "code",
      "execution_count": null,
      "id": "4c9ab6c9",
      "metadata": {
        "id": "4c9ab6c9"
      },
      "outputs": [],
      "source": [
        "bagging_regressor_configs = {\n",
        "    \"name\":'BaggingRegressor',\n",
        "    \"method\": \"grid\",\n",
        "    \"metric\": {\n",
        "        \"name\": \"adj_r2\",\n",
        "        \"goal\": \"maximize\"\n",
        "    },\n",
        "    \"parameters\": {\n",
        "        \"n_estimators\": {\n",
        "            \"values\": [100, 200, 300]\n",
        "        },\n",
        "        \"max_samples\": {\n",
        "            \"values\": [0.4,0.5, 0.6]\n",
        "        }\n",
        "    }\n",
        "}"
      ]
    },
    {
      "cell_type": "code",
      "execution_count": null,
      "id": "8d889b70",
      "metadata": {
        "id": "8d889b70",
        "outputId": "bdc98265-8b25-406f-e42c-f60b580bff0d",
        "colab": {
          "referenced_widgets": [
            "8f43e3333f924ce98336ee4d492332f1",
            "d421f7a2a6a147aeb165c561c7003a67",
            "bb315ee394144fcfa688ccbc29ca8ac0",
            "eee7fa3e274a4fc9a6b2d7fbdbb90488",
            "5f8b5c607f1647f0b73908951407ba58",
            "7b78c60815604a46a7cf2fca2c12f494",
            "51d5ecf71f304c0e8d12fc853c8d35a2",
            "185988bceaa040e4b889c2f33d94bb28",
            "4bdc29c636e343e9a30bc844b94e6e67",
            "33987fedc0314e13a7625e6eab19a204",
            "bbc28e91477247e493f3e9432972d652"
          ]
        }
      },
      "outputs": [
        {
          "name": "stdout",
          "output_type": "stream",
          "text": [
            "Create sweep with ID: qazs1wvp\n",
            "Sweep URL: https://wandb.ai/rajeshtr/car_resale_value/sweeps/qazs1wvp\n"
          ]
        },
        {
          "name": "stderr",
          "output_type": "stream",
          "text": [
            "\u001b[34m\u001b[1mwandb\u001b[0m: Agent Starting Run: 4r3ljwa1 with config:\n",
            "\u001b[34m\u001b[1mwandb\u001b[0m: \tmax_samples: 0.4\n",
            "\u001b[34m\u001b[1mwandb\u001b[0m: \tn_estimators: 100\n",
            "\u001b[34m\u001b[1mwandb\u001b[0m: W&B API key is configured. Use \u001b[1m`wandb login --relogin`\u001b[0m to force relogin\n"
          ]
        },
        {
          "data": {
            "application/vnd.jupyter.widget-view+json": {
              "model_id": "8f43e3333f924ce98336ee4d492332f1",
              "version_major": 2,
              "version_minor": 0
            },
            "text/plain": [
              "VBox(children=(Label(value='Waiting for wandb.init()...\\r'), FloatProgress(value=0.01693333333435779, max=1.0)…"
            ]
          },
          "metadata": {},
          "output_type": "display_data"
        },
        {
          "data": {
            "text/html": [
              "Tracking run with wandb version 0.13.5"
            ],
            "text/plain": [
              "<IPython.core.display.HTML object>"
            ]
          },
          "metadata": {},
          "output_type": "display_data"
        },
        {
          "data": {
            "text/html": [
              "Run data is saved locally in <code>C:\\Users\\Rajesh\\wandb\\run-20221110_131511-4r3ljwa1</code>"
            ],
            "text/plain": [
              "<IPython.core.display.HTML object>"
            ]
          },
          "metadata": {},
          "output_type": "display_data"
        },
        {
          "data": {
            "text/html": [
              "Syncing run <strong><a href=\"https://wandb.ai/rajeshtr/car_resale_value/runs/4r3ljwa1\" target=\"_blank\">swift-sweep-1</a></strong> to <a href=\"https://wandb.ai/rajeshtr/car_resale_value\" target=\"_blank\">Weights & Biases</a> (<a href=\"https://wandb.me/run\" target=\"_blank\">docs</a>)<br/>Sweep page:  <a href=\"https://wandb.ai/rajeshtr/car_resale_value/sweeps/qazs1wvp\" target=\"_blank\">https://wandb.ai/rajeshtr/car_resale_value/sweeps/qazs1wvp</a>"
            ],
            "text/plain": [
              "<IPython.core.display.HTML object>"
            ]
          },
          "metadata": {},
          "output_type": "display_data"
        },
        {
          "name": "stderr",
          "output_type": "stream",
          "text": [
            "C:\\Users\\Rajesh\\anaconda3\\lib\\site-packages\\sklearn\\ensemble\\_bagging.py:429: DataConversionWarning: A column-vector y was passed when a 1d array was expected. Please change the shape of y to (n_samples, ), for example using ravel().\n",
            "  return column_or_1d(y, warn=True)\n"
          ]
        },
        {
          "data": {
            "text/html": [
              "Waiting for W&B process to finish... <strong style=\"color:green\">(success).</strong>"
            ],
            "text/plain": [
              "<IPython.core.display.HTML object>"
            ]
          },
          "metadata": {},
          "output_type": "display_data"
        },
        {
          "data": {
            "application/vnd.jupyter.widget-view+json": {
              "model_id": "d421f7a2a6a147aeb165c561c7003a67",
              "version_major": 2,
              "version_minor": 0
            },
            "text/plain": [
              "VBox(children=(Label(value='0.001 MB of 0.001 MB uploaded (0.000 MB deduped)\\r'), FloatProgress(value=1.0, max…"
            ]
          },
          "metadata": {},
          "output_type": "display_data"
        },
        {
          "data": {
            "text/html": [
              "<style>\n",
              "    table.wandb td:nth-child(1) { padding: 0 10px; text-align: left ; width: auto;} td:nth-child(2) {text-align: left ; width: 100%}\n",
              "    .wandb-row { display: flex; flex-direction: row; flex-wrap: wrap; justify-content: flex-start; width: 100% }\n",
              "    .wandb-col { display: flex; flex-direction: column; flex-basis: 100%; flex: 1; padding: 10px; }\n",
              "    </style>\n",
              "<div class=\"wandb-row\"><div class=\"wandb-col\"><h3>Run history:</h3><br/><table class=\"wandb\"><tr><td>adj_r2</td><td>▁</td></tr><tr><td>mae</td><td>▁</td></tr><tr><td>mse</td><td>▁</td></tr><tr><td>r2</td><td>▁</td></tr><tr><td>rmse</td><td>▁</td></tr><tr><td>rmsle</td><td>▁</td></tr></table><br/></div><div class=\"wandb-col\"><h3>Run summary:</h3><br/><table class=\"wandb\"><tr><td>adj_r2</td><td>0.85951</td></tr><tr><td>mae</td><td>1360.56321</td></tr><tr><td>mse</td><td>10013619.88798</td></tr><tr><td>r2</td><td>0.85952</td></tr><tr><td>rmse</td><td>3164.43042</td></tr><tr><td>rmsle</td><td>8.05973</td></tr></table><br/></div></div>"
            ],
            "text/plain": [
              "<IPython.core.display.HTML object>"
            ]
          },
          "metadata": {},
          "output_type": "display_data"
        },
        {
          "data": {
            "text/html": [
              "Synced <strong style=\"color:#cdcd00\">swift-sweep-1</strong>: <a href=\"https://wandb.ai/rajeshtr/car_resale_value/runs/4r3ljwa1\" target=\"_blank\">https://wandb.ai/rajeshtr/car_resale_value/runs/4r3ljwa1</a><br/>Synced 6 W&B file(s), 0 media file(s), 0 artifact file(s) and 0 other file(s)"
            ],
            "text/plain": [
              "<IPython.core.display.HTML object>"
            ]
          },
          "metadata": {},
          "output_type": "display_data"
        },
        {
          "data": {
            "text/html": [
              "Find logs at: <code>.\\wandb\\run-20221110_131511-4r3ljwa1\\logs</code>"
            ],
            "text/plain": [
              "<IPython.core.display.HTML object>"
            ]
          },
          "metadata": {},
          "output_type": "display_data"
        },
        {
          "name": "stderr",
          "output_type": "stream",
          "text": [
            "\u001b[34m\u001b[1mwandb\u001b[0m: Sweep Agent: Waiting for job.\n",
            "\u001b[34m\u001b[1mwandb\u001b[0m: Job received.\n",
            "\u001b[34m\u001b[1mwandb\u001b[0m: Agent Starting Run: ygrrap15 with config:\n",
            "\u001b[34m\u001b[1mwandb\u001b[0m: \tmax_samples: 0.4\n",
            "\u001b[34m\u001b[1mwandb\u001b[0m: \tn_estimators: 200\n",
            "\u001b[34m\u001b[1mwandb\u001b[0m: Currently logged in as: \u001b[33mrajeshtr\u001b[0m. Use \u001b[1m`wandb login --relogin`\u001b[0m to force relogin\n"
          ]
        },
        {
          "data": {
            "application/vnd.jupyter.widget-view+json": {
              "model_id": "bb315ee394144fcfa688ccbc29ca8ac0",
              "version_major": 2,
              "version_minor": 0
            },
            "text/plain": [
              "VBox(children=(Label(value='Waiting for wandb.init()...\\r'), FloatProgress(value=0.016933333330477276, max=1.0…"
            ]
          },
          "metadata": {},
          "output_type": "display_data"
        },
        {
          "data": {
            "text/html": [
              "Tracking run with wandb version 0.13.5"
            ],
            "text/plain": [
              "<IPython.core.display.HTML object>"
            ]
          },
          "metadata": {},
          "output_type": "display_data"
        },
        {
          "data": {
            "text/html": [
              "Run data is saved locally in <code>C:\\Users\\Rajesh\\wandb\\run-20221110_131627-ygrrap15</code>"
            ],
            "text/plain": [
              "<IPython.core.display.HTML object>"
            ]
          },
          "metadata": {},
          "output_type": "display_data"
        },
        {
          "data": {
            "text/html": [
              "Syncing run <strong><a href=\"https://wandb.ai/rajeshtr/car_resale_value/runs/ygrrap15\" target=\"_blank\">astral-sweep-2</a></strong> to <a href=\"https://wandb.ai/rajeshtr/car_resale_value\" target=\"_blank\">Weights & Biases</a> (<a href=\"https://wandb.me/run\" target=\"_blank\">docs</a>)<br/>Sweep page:  <a href=\"https://wandb.ai/rajeshtr/car_resale_value/sweeps/qazs1wvp\" target=\"_blank\">https://wandb.ai/rajeshtr/car_resale_value/sweeps/qazs1wvp</a>"
            ],
            "text/plain": [
              "<IPython.core.display.HTML object>"
            ]
          },
          "metadata": {},
          "output_type": "display_data"
        },
        {
          "name": "stderr",
          "output_type": "stream",
          "text": [
            "C:\\Users\\Rajesh\\anaconda3\\lib\\site-packages\\sklearn\\ensemble\\_bagging.py:429: DataConversionWarning: A column-vector y was passed when a 1d array was expected. Please change the shape of y to (n_samples, ), for example using ravel().\n",
            "  return column_or_1d(y, warn=True)\n"
          ]
        },
        {
          "data": {
            "text/html": [
              "Waiting for W&B process to finish... <strong style=\"color:green\">(success).</strong>"
            ],
            "text/plain": [
              "<IPython.core.display.HTML object>"
            ]
          },
          "metadata": {},
          "output_type": "display_data"
        },
        {
          "data": {
            "text/html": [
              "<style>\n",
              "    table.wandb td:nth-child(1) { padding: 0 10px; text-align: left ; width: auto;} td:nth-child(2) {text-align: left ; width: 100%}\n",
              "    .wandb-row { display: flex; flex-direction: row; flex-wrap: wrap; justify-content: flex-start; width: 100% }\n",
              "    .wandb-col { display: flex; flex-direction: column; flex-basis: 100%; flex: 1; padding: 10px; }\n",
              "    </style>\n",
              "<div class=\"wandb-row\"><div class=\"wandb-col\"><h3>Run history:</h3><br/><table class=\"wandb\"><tr><td>adj_r2</td><td>▁</td></tr><tr><td>mae</td><td>▁</td></tr><tr><td>mse</td><td>▁</td></tr><tr><td>r2</td><td>▁</td></tr><tr><td>rmse</td><td>▁</td></tr><tr><td>rmsle</td><td>▁</td></tr></table><br/></div><div class=\"wandb-col\"><h3>Run summary:</h3><br/><table class=\"wandb\"><tr><td>adj_r2</td><td>0.86053</td></tr><tr><td>mae</td><td>1355.21458</td></tr><tr><td>mse</td><td>9941267.35432</td></tr><tr><td>r2</td><td>0.86054</td></tr><tr><td>rmse</td><td>3152.97754</td></tr><tr><td>rmsle</td><td>8.0561</td></tr></table><br/></div></div>"
            ],
            "text/plain": [
              "<IPython.core.display.HTML object>"
            ]
          },
          "metadata": {},
          "output_type": "display_data"
        },
        {
          "data": {
            "text/html": [
              "Synced <strong style=\"color:#cdcd00\">astral-sweep-2</strong>: <a href=\"https://wandb.ai/rajeshtr/car_resale_value/runs/ygrrap15\" target=\"_blank\">https://wandb.ai/rajeshtr/car_resale_value/runs/ygrrap15</a><br/>Synced 6 W&B file(s), 0 media file(s), 0 artifact file(s) and 0 other file(s)"
            ],
            "text/plain": [
              "<IPython.core.display.HTML object>"
            ]
          },
          "metadata": {},
          "output_type": "display_data"
        },
        {
          "data": {
            "text/html": [
              "Find logs at: <code>.\\wandb\\run-20221110_131627-ygrrap15\\logs</code>"
            ],
            "text/plain": [
              "<IPython.core.display.HTML object>"
            ]
          },
          "metadata": {},
          "output_type": "display_data"
        },
        {
          "name": "stderr",
          "output_type": "stream",
          "text": [
            "\u001b[34m\u001b[1mwandb\u001b[0m: Sweep Agent: Waiting for job.\n",
            "\u001b[34m\u001b[1mwandb\u001b[0m: Job received.\n",
            "\u001b[34m\u001b[1mwandb\u001b[0m: Agent Starting Run: ep817v6k with config:\n",
            "\u001b[34m\u001b[1mwandb\u001b[0m: \tmax_samples: 0.4\n",
            "\u001b[34m\u001b[1mwandb\u001b[0m: \tn_estimators: 300\n"
          ]
        },
        {
          "data": {
            "application/vnd.jupyter.widget-view+json": {
              "model_id": "eee7fa3e274a4fc9a6b2d7fbdbb90488",
              "version_major": 2,
              "version_minor": 0
            },
            "text/plain": [
              "VBox(children=(Label(value='Waiting for wandb.init()...\\r'), FloatProgress(value=0.01691666666495924, max=1.0)…"
            ]
          },
          "metadata": {},
          "output_type": "display_data"
        },
        {
          "data": {
            "text/html": [
              "Tracking run with wandb version 0.13.5"
            ],
            "text/plain": [
              "<IPython.core.display.HTML object>"
            ]
          },
          "metadata": {},
          "output_type": "display_data"
        },
        {
          "data": {
            "text/html": [
              "Run data is saved locally in <code>C:\\Users\\Rajesh\\wandb\\run-20221110_131828-ep817v6k</code>"
            ],
            "text/plain": [
              "<IPython.core.display.HTML object>"
            ]
          },
          "metadata": {},
          "output_type": "display_data"
        },
        {
          "data": {
            "text/html": [
              "Syncing run <strong><a href=\"https://wandb.ai/rajeshtr/car_resale_value/runs/ep817v6k\" target=\"_blank\">icy-sweep-3</a></strong> to <a href=\"https://wandb.ai/rajeshtr/car_resale_value\" target=\"_blank\">Weights & Biases</a> (<a href=\"https://wandb.me/run\" target=\"_blank\">docs</a>)<br/>Sweep page:  <a href=\"https://wandb.ai/rajeshtr/car_resale_value/sweeps/qazs1wvp\" target=\"_blank\">https://wandb.ai/rajeshtr/car_resale_value/sweeps/qazs1wvp</a>"
            ],
            "text/plain": [
              "<IPython.core.display.HTML object>"
            ]
          },
          "metadata": {},
          "output_type": "display_data"
        },
        {
          "name": "stderr",
          "output_type": "stream",
          "text": [
            "C:\\Users\\Rajesh\\anaconda3\\lib\\site-packages\\sklearn\\ensemble\\_bagging.py:429: DataConversionWarning: A column-vector y was passed when a 1d array was expected. Please change the shape of y to (n_samples, ), for example using ravel().\n",
            "  return column_or_1d(y, warn=True)\n"
          ]
        },
        {
          "data": {
            "text/html": [
              "Waiting for W&B process to finish... <strong style=\"color:green\">(success).</strong>"
            ],
            "text/plain": [
              "<IPython.core.display.HTML object>"
            ]
          },
          "metadata": {},
          "output_type": "display_data"
        },
        {
          "data": {
            "text/html": [
              "<style>\n",
              "    table.wandb td:nth-child(1) { padding: 0 10px; text-align: left ; width: auto;} td:nth-child(2) {text-align: left ; width: 100%}\n",
              "    .wandb-row { display: flex; flex-direction: row; flex-wrap: wrap; justify-content: flex-start; width: 100% }\n",
              "    .wandb-col { display: flex; flex-direction: column; flex-basis: 100%; flex: 1; padding: 10px; }\n",
              "    </style>\n",
              "<div class=\"wandb-row\"><div class=\"wandb-col\"><h3>Run history:</h3><br/><table class=\"wandb\"><tr><td>adj_r2</td><td>▁</td></tr><tr><td>mae</td><td>▁</td></tr><tr><td>mse</td><td>▁</td></tr><tr><td>r2</td><td>▁</td></tr><tr><td>rmse</td><td>▁</td></tr><tr><td>rmsle</td><td>▁</td></tr></table><br/></div><div class=\"wandb-col\"><h3>Run summary:</h3><br/><table class=\"wandb\"><tr><td>adj_r2</td><td>0.8608</td></tr><tr><td>mae</td><td>1353.12189</td></tr><tr><td>mse</td><td>9921789.82886</td></tr><tr><td>r2</td><td>0.86081</td></tr><tr><td>rmse</td><td>3149.88727</td></tr><tr><td>rmsle</td><td>8.05512</td></tr></table><br/></div></div>"
            ],
            "text/plain": [
              "<IPython.core.display.HTML object>"
            ]
          },
          "metadata": {},
          "output_type": "display_data"
        },
        {
          "data": {
            "text/html": [
              "Synced <strong style=\"color:#cdcd00\">icy-sweep-3</strong>: <a href=\"https://wandb.ai/rajeshtr/car_resale_value/runs/ep817v6k\" target=\"_blank\">https://wandb.ai/rajeshtr/car_resale_value/runs/ep817v6k</a><br/>Synced 6 W&B file(s), 0 media file(s), 0 artifact file(s) and 0 other file(s)"
            ],
            "text/plain": [
              "<IPython.core.display.HTML object>"
            ]
          },
          "metadata": {},
          "output_type": "display_data"
        },
        {
          "data": {
            "text/html": [
              "Find logs at: <code>.\\wandb\\run-20221110_131828-ep817v6k\\logs</code>"
            ],
            "text/plain": [
              "<IPython.core.display.HTML object>"
            ]
          },
          "metadata": {},
          "output_type": "display_data"
        },
        {
          "name": "stderr",
          "output_type": "stream",
          "text": [
            "\u001b[34m\u001b[1mwandb\u001b[0m: Sweep Agent: Waiting for job.\n",
            "\u001b[34m\u001b[1mwandb\u001b[0m: Job received.\n",
            "\u001b[34m\u001b[1mwandb\u001b[0m: Agent Starting Run: 6fqaqg0s with config:\n",
            "\u001b[34m\u001b[1mwandb\u001b[0m: \tmax_samples: 0.5\n",
            "\u001b[34m\u001b[1mwandb\u001b[0m: \tn_estimators: 100\n"
          ]
        },
        {
          "data": {
            "application/vnd.jupyter.widget-view+json": {
              "model_id": "5f8b5c607f1647f0b73908951407ba58",
              "version_major": 2,
              "version_minor": 0
            },
            "text/plain": [
              "VBox(children=(Label(value='Waiting for wandb.init()...\\r'), FloatProgress(value=0.016666666666666666, max=1.0…"
            ]
          },
          "metadata": {},
          "output_type": "display_data"
        },
        {
          "data": {
            "text/html": [
              "Tracking run with wandb version 0.13.5"
            ],
            "text/plain": [
              "<IPython.core.display.HTML object>"
            ]
          },
          "metadata": {},
          "output_type": "display_data"
        },
        {
          "data": {
            "text/html": [
              "Run data is saved locally in <code>C:\\Users\\Rajesh\\wandb\\run-20221110_132236-6fqaqg0s</code>"
            ],
            "text/plain": [
              "<IPython.core.display.HTML object>"
            ]
          },
          "metadata": {},
          "output_type": "display_data"
        },
        {
          "data": {
            "text/html": [
              "Syncing run <strong><a href=\"https://wandb.ai/rajeshtr/car_resale_value/runs/6fqaqg0s\" target=\"_blank\">grateful-sweep-4</a></strong> to <a href=\"https://wandb.ai/rajeshtr/car_resale_value\" target=\"_blank\">Weights & Biases</a> (<a href=\"https://wandb.me/run\" target=\"_blank\">docs</a>)<br/>Sweep page:  <a href=\"https://wandb.ai/rajeshtr/car_resale_value/sweeps/qazs1wvp\" target=\"_blank\">https://wandb.ai/rajeshtr/car_resale_value/sweeps/qazs1wvp</a>"
            ],
            "text/plain": [
              "<IPython.core.display.HTML object>"
            ]
          },
          "metadata": {},
          "output_type": "display_data"
        },
        {
          "name": "stderr",
          "output_type": "stream",
          "text": [
            "C:\\Users\\Rajesh\\anaconda3\\lib\\site-packages\\sklearn\\ensemble\\_bagging.py:429: DataConversionWarning: A column-vector y was passed when a 1d array was expected. Please change the shape of y to (n_samples, ), for example using ravel().\n",
            "  return column_or_1d(y, warn=True)\n"
          ]
        },
        {
          "data": {
            "text/html": [
              "Waiting for W&B process to finish... <strong style=\"color:green\">(success).</strong>"
            ],
            "text/plain": [
              "<IPython.core.display.HTML object>"
            ]
          },
          "metadata": {},
          "output_type": "display_data"
        },
        {
          "data": {
            "text/html": [
              "<style>\n",
              "    table.wandb td:nth-child(1) { padding: 0 10px; text-align: left ; width: auto;} td:nth-child(2) {text-align: left ; width: 100%}\n",
              "    .wandb-row { display: flex; flex-direction: row; flex-wrap: wrap; justify-content: flex-start; width: 100% }\n",
              "    .wandb-col { display: flex; flex-direction: column; flex-basis: 100%; flex: 1; padding: 10px; }\n",
              "    </style>\n",
              "<div class=\"wandb-row\"><div class=\"wandb-col\"><h3>Run history:</h3><br/><table class=\"wandb\"><tr><td>adj_r2</td><td>▁</td></tr><tr><td>mae</td><td>▁</td></tr><tr><td>mse</td><td>▁</td></tr><tr><td>r2</td><td>▁</td></tr><tr><td>rmse</td><td>▁</td></tr><tr><td>rmsle</td><td>▁</td></tr></table><br/></div><div class=\"wandb-col\"><h3>Run summary:</h3><br/><table class=\"wandb\"><tr><td>adj_r2</td><td>0.86088</td></tr><tr><td>mae</td><td>1354.67024</td></tr><tr><td>mse</td><td>9915988.02731</td></tr><tr><td>r2</td><td>0.86089</td></tr><tr><td>rmse</td><td>3148.96618</td></tr><tr><td>rmsle</td><td>8.05483</td></tr></table><br/></div></div>"
            ],
            "text/plain": [
              "<IPython.core.display.HTML object>"
            ]
          },
          "metadata": {},
          "output_type": "display_data"
        },
        {
          "data": {
            "text/html": [
              "Synced <strong style=\"color:#cdcd00\">grateful-sweep-4</strong>: <a href=\"https://wandb.ai/rajeshtr/car_resale_value/runs/6fqaqg0s\" target=\"_blank\">https://wandb.ai/rajeshtr/car_resale_value/runs/6fqaqg0s</a><br/>Synced 6 W&B file(s), 0 media file(s), 0 artifact file(s) and 0 other file(s)"
            ],
            "text/plain": [
              "<IPython.core.display.HTML object>"
            ]
          },
          "metadata": {},
          "output_type": "display_data"
        },
        {
          "data": {
            "text/html": [
              "Find logs at: <code>.\\wandb\\run-20221110_132236-6fqaqg0s\\logs</code>"
            ],
            "text/plain": [
              "<IPython.core.display.HTML object>"
            ]
          },
          "metadata": {},
          "output_type": "display_data"
        },
        {
          "name": "stderr",
          "output_type": "stream",
          "text": [
            "\u001b[34m\u001b[1mwandb\u001b[0m: Agent Starting Run: e22c10t6 with config:\n",
            "\u001b[34m\u001b[1mwandb\u001b[0m: \tmax_samples: 0.5\n",
            "\u001b[34m\u001b[1mwandb\u001b[0m: \tn_estimators: 200\n"
          ]
        },
        {
          "data": {
            "application/vnd.jupyter.widget-view+json": {
              "model_id": "7b78c60815604a46a7cf2fca2c12f494",
              "version_major": 2,
              "version_minor": 0
            },
            "text/plain": [
              "VBox(children=(Label(value='Waiting for wandb.init()...\\r'), FloatProgress(value=0.016666666666666666, max=1.0…"
            ]
          },
          "metadata": {},
          "output_type": "display_data"
        },
        {
          "data": {
            "text/html": [
              "Tracking run with wandb version 0.13.5"
            ],
            "text/plain": [
              "<IPython.core.display.HTML object>"
            ]
          },
          "metadata": {},
          "output_type": "display_data"
        },
        {
          "data": {
            "text/html": [
              "Run data is saved locally in <code>C:\\Users\\Rajesh\\wandb\\run-20221110_132502-e22c10t6</code>"
            ],
            "text/plain": [
              "<IPython.core.display.HTML object>"
            ]
          },
          "metadata": {},
          "output_type": "display_data"
        },
        {
          "data": {
            "text/html": [
              "Syncing run <strong><a href=\"https://wandb.ai/rajeshtr/car_resale_value/runs/e22c10t6\" target=\"_blank\">deft-sweep-5</a></strong> to <a href=\"https://wandb.ai/rajeshtr/car_resale_value\" target=\"_blank\">Weights & Biases</a> (<a href=\"https://wandb.me/run\" target=\"_blank\">docs</a>)<br/>Sweep page:  <a href=\"https://wandb.ai/rajeshtr/car_resale_value/sweeps/qazs1wvp\" target=\"_blank\">https://wandb.ai/rajeshtr/car_resale_value/sweeps/qazs1wvp</a>"
            ],
            "text/plain": [
              "<IPython.core.display.HTML object>"
            ]
          },
          "metadata": {},
          "output_type": "display_data"
        },
        {
          "name": "stderr",
          "output_type": "stream",
          "text": [
            "C:\\Users\\Rajesh\\anaconda3\\lib\\site-packages\\sklearn\\ensemble\\_bagging.py:429: DataConversionWarning: A column-vector y was passed when a 1d array was expected. Please change the shape of y to (n_samples, ), for example using ravel().\n",
            "  return column_or_1d(y, warn=True)\n"
          ]
        },
        {
          "data": {
            "text/html": [
              "Waiting for W&B process to finish... <strong style=\"color:green\">(success).</strong>"
            ],
            "text/plain": [
              "<IPython.core.display.HTML object>"
            ]
          },
          "metadata": {},
          "output_type": "display_data"
        },
        {
          "data": {
            "text/html": [
              "<style>\n",
              "    table.wandb td:nth-child(1) { padding: 0 10px; text-align: left ; width: auto;} td:nth-child(2) {text-align: left ; width: 100%}\n",
              "    .wandb-row { display: flex; flex-direction: row; flex-wrap: wrap; justify-content: flex-start; width: 100% }\n",
              "    .wandb-col { display: flex; flex-direction: column; flex-basis: 100%; flex: 1; padding: 10px; }\n",
              "    </style>\n",
              "<div class=\"wandb-row\"><div class=\"wandb-col\"><h3>Run history:</h3><br/><table class=\"wandb\"><tr><td>adj_r2</td><td>▁</td></tr><tr><td>mae</td><td>▁</td></tr><tr><td>mse</td><td>▁</td></tr><tr><td>r2</td><td>▁</td></tr><tr><td>rmse</td><td>▁</td></tr><tr><td>rmsle</td><td>▁</td></tr></table><br/></div><div class=\"wandb-col\"><h3>Run summary:</h3><br/><table class=\"wandb\"><tr><td>adj_r2</td><td>0.86205</td></tr><tr><td>mae</td><td>1349.49155</td></tr><tr><td>mse</td><td>9832709.46008</td></tr><tr><td>r2</td><td>0.86206</td></tr><tr><td>rmse</td><td>3135.71514</td></tr><tr><td>rmsle</td><td>8.05061</td></tr></table><br/></div></div>"
            ],
            "text/plain": [
              "<IPython.core.display.HTML object>"
            ]
          },
          "metadata": {},
          "output_type": "display_data"
        },
        {
          "data": {
            "text/html": [
              "Synced <strong style=\"color:#cdcd00\">deft-sweep-5</strong>: <a href=\"https://wandb.ai/rajeshtr/car_resale_value/runs/e22c10t6\" target=\"_blank\">https://wandb.ai/rajeshtr/car_resale_value/runs/e22c10t6</a><br/>Synced 6 W&B file(s), 0 media file(s), 0 artifact file(s) and 0 other file(s)"
            ],
            "text/plain": [
              "<IPython.core.display.HTML object>"
            ]
          },
          "metadata": {},
          "output_type": "display_data"
        },
        {
          "data": {
            "text/html": [
              "Find logs at: <code>.\\wandb\\run-20221110_132502-e22c10t6\\logs</code>"
            ],
            "text/plain": [
              "<IPython.core.display.HTML object>"
            ]
          },
          "metadata": {},
          "output_type": "display_data"
        },
        {
          "name": "stderr",
          "output_type": "stream",
          "text": [
            "\u001b[34m\u001b[1mwandb\u001b[0m: Sweep Agent: Waiting for job.\n",
            "\u001b[34m\u001b[1mwandb\u001b[0m: Job received.\n",
            "\u001b[34m\u001b[1mwandb\u001b[0m: Agent Starting Run: jf0v5kf4 with config:\n",
            "\u001b[34m\u001b[1mwandb\u001b[0m: \tmax_samples: 0.5\n",
            "\u001b[34m\u001b[1mwandb\u001b[0m: \tn_estimators: 300\n"
          ]
        },
        {
          "data": {
            "application/vnd.jupyter.widget-view+json": {
              "model_id": "51d5ecf71f304c0e8d12fc853c8d35a2",
              "version_major": 2,
              "version_minor": 0
            },
            "text/plain": [
              "VBox(children=(Label(value='Waiting for wandb.init()...\\r'), FloatProgress(value=0.016666666666666666, max=1.0…"
            ]
          },
          "metadata": {},
          "output_type": "display_data"
        },
        {
          "data": {
            "text/html": [
              "Tracking run with wandb version 0.13.5"
            ],
            "text/plain": [
              "<IPython.core.display.HTML object>"
            ]
          },
          "metadata": {},
          "output_type": "display_data"
        },
        {
          "data": {
            "text/html": [
              "Run data is saved locally in <code>C:\\Users\\Rajesh\\wandb\\run-20221110_132719-jf0v5kf4</code>"
            ],
            "text/plain": [
              "<IPython.core.display.HTML object>"
            ]
          },
          "metadata": {},
          "output_type": "display_data"
        },
        {
          "data": {
            "text/html": [
              "Syncing run <strong><a href=\"https://wandb.ai/rajeshtr/car_resale_value/runs/jf0v5kf4\" target=\"_blank\">logical-sweep-6</a></strong> to <a href=\"https://wandb.ai/rajeshtr/car_resale_value\" target=\"_blank\">Weights & Biases</a> (<a href=\"https://wandb.me/run\" target=\"_blank\">docs</a>)<br/>Sweep page:  <a href=\"https://wandb.ai/rajeshtr/car_resale_value/sweeps/qazs1wvp\" target=\"_blank\">https://wandb.ai/rajeshtr/car_resale_value/sweeps/qazs1wvp</a>"
            ],
            "text/plain": [
              "<IPython.core.display.HTML object>"
            ]
          },
          "metadata": {},
          "output_type": "display_data"
        },
        {
          "name": "stderr",
          "output_type": "stream",
          "text": [
            "C:\\Users\\Rajesh\\anaconda3\\lib\\site-packages\\sklearn\\ensemble\\_bagging.py:429: DataConversionWarning: A column-vector y was passed when a 1d array was expected. Please change the shape of y to (n_samples, ), for example using ravel().\n",
            "  return column_or_1d(y, warn=True)\n"
          ]
        },
        {
          "data": {
            "text/html": [
              "Waiting for W&B process to finish... <strong style=\"color:green\">(success).</strong>"
            ],
            "text/plain": [
              "<IPython.core.display.HTML object>"
            ]
          },
          "metadata": {},
          "output_type": "display_data"
        },
        {
          "data": {
            "application/vnd.jupyter.widget-view+json": {
              "model_id": "185988bceaa040e4b889c2f33d94bb28",
              "version_major": 2,
              "version_minor": 0
            },
            "text/plain": [
              "VBox(children=(Label(value='0.001 MB of 0.001 MB uploaded (0.000 MB deduped)\\r'), FloatProgress(value=1.0, max…"
            ]
          },
          "metadata": {},
          "output_type": "display_data"
        },
        {
          "data": {
            "text/html": [
              "<style>\n",
              "    table.wandb td:nth-child(1) { padding: 0 10px; text-align: left ; width: auto;} td:nth-child(2) {text-align: left ; width: 100%}\n",
              "    .wandb-row { display: flex; flex-direction: row; flex-wrap: wrap; justify-content: flex-start; width: 100% }\n",
              "    .wandb-col { display: flex; flex-direction: column; flex-basis: 100%; flex: 1; padding: 10px; }\n",
              "    </style>\n",
              "<div class=\"wandb-row\"><div class=\"wandb-col\"><h3>Run history:</h3><br/><table class=\"wandb\"><tr><td>adj_r2</td><td>▁</td></tr><tr><td>mae</td><td>▁</td></tr><tr><td>mse</td><td>▁</td></tr><tr><td>r2</td><td>▁</td></tr><tr><td>rmse</td><td>▁</td></tr><tr><td>rmsle</td><td>▁</td></tr></table><br/></div><div class=\"wandb-col\"><h3>Run summary:</h3><br/><table class=\"wandb\"><tr><td>adj_r2</td><td>0.86254</td></tr><tr><td>mae</td><td>1347.52604</td></tr><tr><td>mse</td><td>9798039.51488</td></tr><tr><td>r2</td><td>0.86254</td></tr><tr><td>rmse</td><td>3130.18203</td></tr><tr><td>rmsle</td><td>8.04885</td></tr></table><br/></div></div>"
            ],
            "text/plain": [
              "<IPython.core.display.HTML object>"
            ]
          },
          "metadata": {},
          "output_type": "display_data"
        },
        {
          "data": {
            "text/html": [
              "Synced <strong style=\"color:#cdcd00\">logical-sweep-6</strong>: <a href=\"https://wandb.ai/rajeshtr/car_resale_value/runs/jf0v5kf4\" target=\"_blank\">https://wandb.ai/rajeshtr/car_resale_value/runs/jf0v5kf4</a><br/>Synced 6 W&B file(s), 0 media file(s), 0 artifact file(s) and 0 other file(s)"
            ],
            "text/plain": [
              "<IPython.core.display.HTML object>"
            ]
          },
          "metadata": {},
          "output_type": "display_data"
        },
        {
          "data": {
            "text/html": [
              "Find logs at: <code>.\\wandb\\run-20221110_132719-jf0v5kf4\\logs</code>"
            ],
            "text/plain": [
              "<IPython.core.display.HTML object>"
            ]
          },
          "metadata": {},
          "output_type": "display_data"
        },
        {
          "name": "stderr",
          "output_type": "stream",
          "text": [
            "\u001b[34m\u001b[1mwandb\u001b[0m: Sweep Agent: Waiting for job.\n",
            "\u001b[34m\u001b[1mwandb\u001b[0m: Job received.\n",
            "\u001b[34m\u001b[1mwandb\u001b[0m: Agent Starting Run: ods3pu4j with config:\n",
            "\u001b[34m\u001b[1mwandb\u001b[0m: \tmax_samples: 0.6\n",
            "\u001b[34m\u001b[1mwandb\u001b[0m: \tn_estimators: 100\n"
          ]
        },
        {
          "data": {
            "text/html": [
              "Tracking run with wandb version 0.13.5"
            ],
            "text/plain": [
              "<IPython.core.display.HTML object>"
            ]
          },
          "metadata": {},
          "output_type": "display_data"
        },
        {
          "data": {
            "text/html": [
              "Run data is saved locally in <code>C:\\Users\\Rajesh\\wandb\\run-20221110_132954-ods3pu4j</code>"
            ],
            "text/plain": [
              "<IPython.core.display.HTML object>"
            ]
          },
          "metadata": {},
          "output_type": "display_data"
        },
        {
          "data": {
            "text/html": [
              "Syncing run <strong><a href=\"https://wandb.ai/rajeshtr/car_resale_value/runs/ods3pu4j\" target=\"_blank\">toasty-sweep-7</a></strong> to <a href=\"https://wandb.ai/rajeshtr/car_resale_value\" target=\"_blank\">Weights & Biases</a> (<a href=\"https://wandb.me/run\" target=\"_blank\">docs</a>)<br/>Sweep page:  <a href=\"https://wandb.ai/rajeshtr/car_resale_value/sweeps/qazs1wvp\" target=\"_blank\">https://wandb.ai/rajeshtr/car_resale_value/sweeps/qazs1wvp</a>"
            ],
            "text/plain": [
              "<IPython.core.display.HTML object>"
            ]
          },
          "metadata": {},
          "output_type": "display_data"
        },
        {
          "name": "stderr",
          "output_type": "stream",
          "text": [
            "C:\\Users\\Rajesh\\anaconda3\\lib\\site-packages\\sklearn\\ensemble\\_bagging.py:429: DataConversionWarning: A column-vector y was passed when a 1d array was expected. Please change the shape of y to (n_samples, ), for example using ravel().\n",
            "  return column_or_1d(y, warn=True)\n"
          ]
        },
        {
          "data": {
            "text/html": [
              "Waiting for W&B process to finish... <strong style=\"color:green\">(success).</strong>"
            ],
            "text/plain": [
              "<IPython.core.display.HTML object>"
            ]
          },
          "metadata": {},
          "output_type": "display_data"
        },
        {
          "data": {
            "text/html": [
              "<style>\n",
              "    table.wandb td:nth-child(1) { padding: 0 10px; text-align: left ; width: auto;} td:nth-child(2) {text-align: left ; width: 100%}\n",
              "    .wandb-row { display: flex; flex-direction: row; flex-wrap: wrap; justify-content: flex-start; width: 100% }\n",
              "    .wandb-col { display: flex; flex-direction: column; flex-basis: 100%; flex: 1; padding: 10px; }\n",
              "    </style>\n",
              "<div class=\"wandb-row\"><div class=\"wandb-col\"><h3>Run history:</h3><br/><table class=\"wandb\"><tr><td>adj_r2</td><td>▁</td></tr><tr><td>mae</td><td>▁</td></tr><tr><td>mse</td><td>▁</td></tr><tr><td>r2</td><td>▁</td></tr><tr><td>rmse</td><td>▁</td></tr><tr><td>rmsle</td><td>▁</td></tr></table><br/></div><div class=\"wandb-col\"><h3>Run summary:</h3><br/><table class=\"wandb\"><tr><td>adj_r2</td><td>0.86142</td></tr><tr><td>mae</td><td>1350.98455</td></tr><tr><td>mse</td><td>9877320.28865</td></tr><tr><td>r2</td><td>0.86143</td></tr><tr><td>rmse</td><td>3142.82044</td></tr><tr><td>rmsle</td><td>8.05288</td></tr></table><br/></div></div>"
            ],
            "text/plain": [
              "<IPython.core.display.HTML object>"
            ]
          },
          "metadata": {},
          "output_type": "display_data"
        },
        {
          "data": {
            "text/html": [
              "Synced <strong style=\"color:#cdcd00\">toasty-sweep-7</strong>: <a href=\"https://wandb.ai/rajeshtr/car_resale_value/runs/ods3pu4j\" target=\"_blank\">https://wandb.ai/rajeshtr/car_resale_value/runs/ods3pu4j</a><br/>Synced 6 W&B file(s), 0 media file(s), 0 artifact file(s) and 0 other file(s)"
            ],
            "text/plain": [
              "<IPython.core.display.HTML object>"
            ]
          },
          "metadata": {},
          "output_type": "display_data"
        },
        {
          "data": {
            "text/html": [
              "Find logs at: <code>.\\wandb\\run-20221110_132954-ods3pu4j\\logs</code>"
            ],
            "text/plain": [
              "<IPython.core.display.HTML object>"
            ]
          },
          "metadata": {},
          "output_type": "display_data"
        },
        {
          "name": "stderr",
          "output_type": "stream",
          "text": [
            "\u001b[34m\u001b[1mwandb\u001b[0m: Sweep Agent: Waiting for job.\n",
            "\u001b[34m\u001b[1mwandb\u001b[0m: Job received.\n",
            "\u001b[34m\u001b[1mwandb\u001b[0m: Agent Starting Run: 3ducxy78 with config:\n",
            "\u001b[34m\u001b[1mwandb\u001b[0m: \tmax_samples: 0.6\n",
            "\u001b[34m\u001b[1mwandb\u001b[0m: \tn_estimators: 200\n"
          ]
        },
        {
          "data": {
            "application/vnd.jupyter.widget-view+json": {
              "model_id": "4bdc29c636e343e9a30bc844b94e6e67",
              "version_major": 2,
              "version_minor": 0
            },
            "text/plain": [
              "VBox(children=(Label(value='Waiting for wandb.init()...\\r'), FloatProgress(value=0.016666666666666666, max=1.0…"
            ]
          },
          "metadata": {},
          "output_type": "display_data"
        },
        {
          "data": {
            "text/html": [
              "Tracking run with wandb version 0.13.5"
            ],
            "text/plain": [
              "<IPython.core.display.HTML object>"
            ]
          },
          "metadata": {},
          "output_type": "display_data"
        },
        {
          "data": {
            "text/html": [
              "Run data is saved locally in <code>C:\\Users\\Rajesh\\wandb\\run-20221110_133149-3ducxy78</code>"
            ],
            "text/plain": [
              "<IPython.core.display.HTML object>"
            ]
          },
          "metadata": {},
          "output_type": "display_data"
        },
        {
          "data": {
            "text/html": [
              "Syncing run <strong><a href=\"https://wandb.ai/rajeshtr/car_resale_value/runs/3ducxy78\" target=\"_blank\">valiant-sweep-8</a></strong> to <a href=\"https://wandb.ai/rajeshtr/car_resale_value\" target=\"_blank\">Weights & Biases</a> (<a href=\"https://wandb.me/run\" target=\"_blank\">docs</a>)<br/>Sweep page:  <a href=\"https://wandb.ai/rajeshtr/car_resale_value/sweeps/qazs1wvp\" target=\"_blank\">https://wandb.ai/rajeshtr/car_resale_value/sweeps/qazs1wvp</a>"
            ],
            "text/plain": [
              "<IPython.core.display.HTML object>"
            ]
          },
          "metadata": {},
          "output_type": "display_data"
        },
        {
          "name": "stderr",
          "output_type": "stream",
          "text": [
            "C:\\Users\\Rajesh\\anaconda3\\lib\\site-packages\\sklearn\\ensemble\\_bagging.py:429: DataConversionWarning: A column-vector y was passed when a 1d array was expected. Please change the shape of y to (n_samples, ), for example using ravel().\n",
            "  return column_or_1d(y, warn=True)\n"
          ]
        },
        {
          "data": {
            "text/html": [
              "Waiting for W&B process to finish... <strong style=\"color:green\">(success).</strong>"
            ],
            "text/plain": [
              "<IPython.core.display.HTML object>"
            ]
          },
          "metadata": {},
          "output_type": "display_data"
        },
        {
          "data": {
            "application/vnd.jupyter.widget-view+json": {
              "model_id": "33987fedc0314e13a7625e6eab19a204",
              "version_major": 2,
              "version_minor": 0
            },
            "text/plain": [
              "VBox(children=(Label(value='0.001 MB of 0.001 MB uploaded (0.000 MB deduped)\\r'), FloatProgress(value=1.0, max…"
            ]
          },
          "metadata": {},
          "output_type": "display_data"
        },
        {
          "data": {
            "text/html": [
              "<style>\n",
              "    table.wandb td:nth-child(1) { padding: 0 10px; text-align: left ; width: auto;} td:nth-child(2) {text-align: left ; width: 100%}\n",
              "    .wandb-row { display: flex; flex-direction: row; flex-wrap: wrap; justify-content: flex-start; width: 100% }\n",
              "    .wandb-col { display: flex; flex-direction: column; flex-basis: 100%; flex: 1; padding: 10px; }\n",
              "    </style>\n",
              "<div class=\"wandb-row\"><div class=\"wandb-col\"><h3>Run history:</h3><br/><table class=\"wandb\"><tr><td>adj_r2</td><td>▁</td></tr><tr><td>mae</td><td>▁</td></tr><tr><td>mse</td><td>▁</td></tr><tr><td>r2</td><td>▁</td></tr><tr><td>rmse</td><td>▁</td></tr><tr><td>rmsle</td><td>▁</td></tr></table><br/></div><div class=\"wandb-col\"><h3>Run summary:</h3><br/><table class=\"wandb\"><tr><td>adj_r2</td><td>0.86257</td></tr><tr><td>mae</td><td>1347.26055</td></tr><tr><td>mse</td><td>9795571.47319</td></tr><tr><td>r2</td><td>0.86258</td></tr><tr><td>rmse</td><td>3129.78777</td></tr><tr><td>rmsle</td><td>8.04872</td></tr></table><br/></div></div>"
            ],
            "text/plain": [
              "<IPython.core.display.HTML object>"
            ]
          },
          "metadata": {},
          "output_type": "display_data"
        },
        {
          "data": {
            "text/html": [
              "Synced <strong style=\"color:#cdcd00\">valiant-sweep-8</strong>: <a href=\"https://wandb.ai/rajeshtr/car_resale_value/runs/3ducxy78\" target=\"_blank\">https://wandb.ai/rajeshtr/car_resale_value/runs/3ducxy78</a><br/>Synced 6 W&B file(s), 0 media file(s), 0 artifact file(s) and 0 other file(s)"
            ],
            "text/plain": [
              "<IPython.core.display.HTML object>"
            ]
          },
          "metadata": {},
          "output_type": "display_data"
        },
        {
          "data": {
            "text/html": [
              "Find logs at: <code>.\\wandb\\run-20221110_133149-3ducxy78\\logs</code>"
            ],
            "text/plain": [
              "<IPython.core.display.HTML object>"
            ]
          },
          "metadata": {},
          "output_type": "display_data"
        },
        {
          "name": "stderr",
          "output_type": "stream",
          "text": [
            "\u001b[34m\u001b[1mwandb\u001b[0m: Agent Starting Run: b3z35ga8 with config:\n",
            "\u001b[34m\u001b[1mwandb\u001b[0m: \tmax_samples: 0.6\n",
            "\u001b[34m\u001b[1mwandb\u001b[0m: \tn_estimators: 300\n"
          ]
        },
        {
          "data": {
            "application/vnd.jupyter.widget-view+json": {
              "model_id": "bbc28e91477247e493f3e9432972d652",
              "version_major": 2,
              "version_minor": 0
            },
            "text/plain": [
              "VBox(children=(Label(value='Waiting for wandb.init()...\\r'), FloatProgress(value=0.016666666666666666, max=1.0…"
            ]
          },
          "metadata": {},
          "output_type": "display_data"
        },
        {
          "data": {
            "text/html": [
              "Tracking run with wandb version 0.13.5"
            ],
            "text/plain": [
              "<IPython.core.display.HTML object>"
            ]
          },
          "metadata": {},
          "output_type": "display_data"
        },
        {
          "data": {
            "text/html": [
              "Run data is saved locally in <code>C:\\Users\\Rajesh\\wandb\\run-20221110_133346-b3z35ga8</code>"
            ],
            "text/plain": [
              "<IPython.core.display.HTML object>"
            ]
          },
          "metadata": {},
          "output_type": "display_data"
        },
        {
          "data": {
            "text/html": [
              "Syncing run <strong><a href=\"https://wandb.ai/rajeshtr/car_resale_value/runs/b3z35ga8\" target=\"_blank\">young-sweep-9</a></strong> to <a href=\"https://wandb.ai/rajeshtr/car_resale_value\" target=\"_blank\">Weights & Biases</a> (<a href=\"https://wandb.me/run\" target=\"_blank\">docs</a>)<br/>Sweep page:  <a href=\"https://wandb.ai/rajeshtr/car_resale_value/sweeps/qazs1wvp\" target=\"_blank\">https://wandb.ai/rajeshtr/car_resale_value/sweeps/qazs1wvp</a>"
            ],
            "text/plain": [
              "<IPython.core.display.HTML object>"
            ]
          },
          "metadata": {},
          "output_type": "display_data"
        },
        {
          "name": "stderr",
          "output_type": "stream",
          "text": [
            "C:\\Users\\Rajesh\\anaconda3\\lib\\site-packages\\sklearn\\ensemble\\_bagging.py:429: DataConversionWarning: A column-vector y was passed when a 1d array was expected. Please change the shape of y to (n_samples, ), for example using ravel().\n",
            "  return column_or_1d(y, warn=True)\n"
          ]
        },
        {
          "data": {
            "text/html": [
              "Waiting for W&B process to finish... <strong style=\"color:green\">(success).</strong>"
            ],
            "text/plain": [
              "<IPython.core.display.HTML object>"
            ]
          },
          "metadata": {},
          "output_type": "display_data"
        },
        {
          "data": {
            "text/html": [
              "<style>\n",
              "    table.wandb td:nth-child(1) { padding: 0 10px; text-align: left ; width: auto;} td:nth-child(2) {text-align: left ; width: 100%}\n",
              "    .wandb-row { display: flex; flex-direction: row; flex-wrap: wrap; justify-content: flex-start; width: 100% }\n",
              "    .wandb-col { display: flex; flex-direction: column; flex-basis: 100%; flex: 1; padding: 10px; }\n",
              "    </style>\n",
              "<div class=\"wandb-row\"><div class=\"wandb-col\"><h3>Run history:</h3><br/><table class=\"wandb\"><tr><td>adj_r2</td><td>▁</td></tr><tr><td>mae</td><td>▁</td></tr><tr><td>mse</td><td>▁</td></tr><tr><td>r2</td><td>▁</td></tr><tr><td>rmse</td><td>▁</td></tr><tr><td>rmsle</td><td>▁</td></tr></table><br/></div><div class=\"wandb-col\"><h3>Run summary:</h3><br/><table class=\"wandb\"><tr><td>adj_r2</td><td>0.86263</td></tr><tr><td>mae</td><td>1346.42732</td></tr><tr><td>mse</td><td>9791114.16887</td></tr><tr><td>r2</td><td>0.86264</td></tr><tr><td>rmse</td><td>3129.07561</td></tr><tr><td>rmsle</td><td>8.04849</td></tr></table><br/></div></div>"
            ],
            "text/plain": [
              "<IPython.core.display.HTML object>"
            ]
          },
          "metadata": {},
          "output_type": "display_data"
        },
        {
          "data": {
            "text/html": [
              "Synced <strong style=\"color:#cdcd00\">young-sweep-9</strong>: <a href=\"https://wandb.ai/rajeshtr/car_resale_value/runs/b3z35ga8\" target=\"_blank\">https://wandb.ai/rajeshtr/car_resale_value/runs/b3z35ga8</a><br/>Synced 6 W&B file(s), 0 media file(s), 0 artifact file(s) and 0 other file(s)"
            ],
            "text/plain": [
              "<IPython.core.display.HTML object>"
            ]
          },
          "metadata": {},
          "output_type": "display_data"
        },
        {
          "data": {
            "text/html": [
              "Find logs at: <code>.\\wandb\\run-20221110_133346-b3z35ga8\\logs</code>"
            ],
            "text/plain": [
              "<IPython.core.display.HTML object>"
            ]
          },
          "metadata": {},
          "output_type": "display_data"
        },
        {
          "name": "stderr",
          "output_type": "stream",
          "text": [
            "\u001b[34m\u001b[1mwandb\u001b[0m: Sweep Agent: Waiting for job.\n",
            "\u001b[34m\u001b[1mwandb\u001b[0m: Sweep Agent: Exiting.\n"
          ]
        }
      ],
      "source": [
        "sweep_id = wandb.sweep(sweep=bagging_regressor_configs, project=\"car_resale_value\")\n",
        "wandb.agent(sweep_id=sweep_id, function=bagging_regressor)"
      ]
    },
    {
      "cell_type": "markdown",
      "id": "700a2170",
      "metadata": {
        "id": "700a2170"
      },
      "source": [
        "# Bagging Regressor Results"
      ]
    },
    {
      "cell_type": "markdown",
      "id": "68a114e0",
      "metadata": {
        "id": "68a114e0"
      },
      "source": [
        "![W&B%20Chart%2011_10_2022,%201_44_32%20PM.png](attachment:W&B%20Chart%2011_10_2022,%201_44_32%20PM.png)"
      ]
    },
    {
      "cell_type": "markdown",
      "id": "47c20aa3",
      "metadata": {
        "id": "47c20aa3"
      },
      "source": [
        "# RandomForest Regressor"
      ]
    },
    {
      "cell_type": "code",
      "execution_count": null,
      "id": "ad84a673",
      "metadata": {
        "id": "ad84a673"
      },
      "outputs": [],
      "source": [
        "def random_forest_regressor():\n",
        "    config_defaults = {\n",
        "                'n_estimators':100,\n",
        "                'max_samples':0.4,\n",
        "                'criterion':'squared_error',\n",
        "                'bootstrap': True,\n",
        "                'random_state':42\n",
        "            }\n",
        "    wandb.init(config=config_defaults)\n",
        "    config = wandb.config\n",
        "    \n",
        "    X = labeled.iloc[:,1:].values\n",
        "    Y = labeled.iloc[:,0].values.reshape(-1,1)\n",
        "    \n",
        "    X_train, X_test, Y_train, Y_test = train_test_split(X, Y, test_size=0.4, random_state=42)\n",
        "    \n",
        "    model = RandomForestRegressor(\n",
        "      n_estimators=config.n_estimators,\n",
        "      criterion = config.criterion,\n",
        "      bootstrap=config.bootstrap,\n",
        "      max_samples=config.max_samples,\n",
        "      random_state = config.random_state)\n",
        "    \n",
        "    model.fit(X_train, Y_train)\n",
        "    \n",
        "    Y_pred = model.predict(X_test)\n",
        "    \n",
        "    find_scores(Y_test, Y_pred, X_train)"
      ]
    },
    {
      "cell_type": "code",
      "execution_count": null,
      "id": "ac13c083",
      "metadata": {
        "id": "ac13c083",
        "outputId": "691bc159-70d4-40d5-ce04-a3c814642a64",
        "colab": {
          "referenced_widgets": [
            "a774eb7433f54998ac276d9e9aff8715",
            "17e44bde3df3494d9f0f8839ecbfc068",
            "c6641ef7b82646f5b7a8c9cb2a36297d",
            "7e6cac90820f49b7acc0e3e7077a8790",
            "48e3b99db95046ee8b282885b0470c07",
            "f8f9a6ba27174691ad2ecd96321c8fc3",
            "d7ef086f19b345d89a2c1d9ae6f350bb",
            "4764a8923c3b40ddbc31d10aac5f1f6b",
            "ea4f75c6bb5c42f193d26b34a02a2a90",
            "6354dd63f4f2469b81c1b47405106ad1",
            "7355cdd672b14987bd490b801150d7aa",
            "d33931d6933b4ceda65b2ac0995eb001",
            "50f60da78f5a4dd4b3c48eab1b32d758"
          ]
        }
      },
      "outputs": [
        {
          "name": "stdout",
          "output_type": "stream",
          "text": [
            "Create sweep with ID: xvbhv8cq\n",
            "Sweep URL: https://wandb.ai/rajeshtr/car_resale_value/sweeps/xvbhv8cq\n"
          ]
        },
        {
          "name": "stderr",
          "output_type": "stream",
          "text": [
            "\u001b[34m\u001b[1mwandb\u001b[0m: Agent Starting Run: d9m5p5al with config:\n",
            "\u001b[34m\u001b[1mwandb\u001b[0m: \tmax_samples: 0.4\n",
            "\u001b[34m\u001b[1mwandb\u001b[0m: \tn_estimators: 100\n"
          ]
        },
        {
          "data": {
            "application/vnd.jupyter.widget-view+json": {
              "model_id": "a774eb7433f54998ac276d9e9aff8715",
              "version_major": 2,
              "version_minor": 0
            },
            "text/plain": [
              "VBox(children=(Label(value='Waiting for wandb.init()...\\r'), FloatProgress(value=0.017183333332650364, max=1.0…"
            ]
          },
          "metadata": {},
          "output_type": "display_data"
        },
        {
          "data": {
            "text/html": [
              "Tracking run with wandb version 0.13.5"
            ],
            "text/plain": [
              "<IPython.core.display.HTML object>"
            ]
          },
          "metadata": {},
          "output_type": "display_data"
        },
        {
          "data": {
            "text/html": [
              "Run data is saved locally in <code>C:\\Users\\Rajesh\\wandb\\run-20221110_134157-d9m5p5al</code>"
            ],
            "text/plain": [
              "<IPython.core.display.HTML object>"
            ]
          },
          "metadata": {},
          "output_type": "display_data"
        },
        {
          "data": {
            "text/html": [
              "Syncing run <strong><a href=\"https://wandb.ai/rajeshtr/car_resale_value/runs/d9m5p5al\" target=\"_blank\">visionary-sweep-1</a></strong> to <a href=\"https://wandb.ai/rajeshtr/car_resale_value\" target=\"_blank\">Weights & Biases</a> (<a href=\"https://wandb.me/run\" target=\"_blank\">docs</a>)<br/>Sweep page:  <a href=\"https://wandb.ai/rajeshtr/car_resale_value/sweeps/xvbhv8cq\" target=\"_blank\">https://wandb.ai/rajeshtr/car_resale_value/sweeps/xvbhv8cq</a>"
            ],
            "text/plain": [
              "<IPython.core.display.HTML object>"
            ]
          },
          "metadata": {},
          "output_type": "display_data"
        },
        {
          "name": "stderr",
          "output_type": "stream",
          "text": [
            "C:\\Users\\Rajesh\\AppData\\Local\\Temp\\ipykernel_33400\\3309427692.py:24: DataConversionWarning: A column-vector y was passed when a 1d array was expected. Please change the shape of y to (n_samples,), for example using ravel().\n",
            "  model.fit(X_train, Y_train)\n"
          ]
        },
        {
          "data": {
            "text/html": [
              "Waiting for W&B process to finish... <strong style=\"color:green\">(success).</strong>"
            ],
            "text/plain": [
              "<IPython.core.display.HTML object>"
            ]
          },
          "metadata": {},
          "output_type": "display_data"
        },
        {
          "data": {
            "application/vnd.jupyter.widget-view+json": {
              "model_id": "17e44bde3df3494d9f0f8839ecbfc068",
              "version_major": 2,
              "version_minor": 0
            },
            "text/plain": [
              "VBox(children=(Label(value='0.001 MB of 0.001 MB uploaded (0.000 MB deduped)\\r'), FloatProgress(value=1.0, max…"
            ]
          },
          "metadata": {},
          "output_type": "display_data"
        },
        {
          "data": {
            "text/html": [
              "<style>\n",
              "    table.wandb td:nth-child(1) { padding: 0 10px; text-align: left ; width: auto;} td:nth-child(2) {text-align: left ; width: 100%}\n",
              "    .wandb-row { display: flex; flex-direction: row; flex-wrap: wrap; justify-content: flex-start; width: 100% }\n",
              "    .wandb-col { display: flex; flex-direction: column; flex-basis: 100%; flex: 1; padding: 10px; }\n",
              "    </style>\n",
              "<div class=\"wandb-row\"><div class=\"wandb-col\"><h3>Run history:</h3><br/><table class=\"wandb\"><tr><td>adj_r2</td><td>▁</td></tr><tr><td>mae</td><td>▁</td></tr><tr><td>mse</td><td>▁</td></tr><tr><td>r2</td><td>▁</td></tr><tr><td>rmse</td><td>▁</td></tr><tr><td>rmsle</td><td>▁</td></tr></table><br/></div><div class=\"wandb-col\"><h3>Run summary:</h3><br/><table class=\"wandb\"><tr><td>adj_r2</td><td>0.86019</td></tr><tr><td>mae</td><td>1359.65132</td></tr><tr><td>mse</td><td>9965260.7893</td></tr><tr><td>r2</td><td>0.8602</td></tr><tr><td>rmse</td><td>3156.78013</td></tr><tr><td>rmsle</td><td>8.05731</td></tr></table><br/></div></div>"
            ],
            "text/plain": [
              "<IPython.core.display.HTML object>"
            ]
          },
          "metadata": {},
          "output_type": "display_data"
        },
        {
          "data": {
            "text/html": [
              "Synced <strong style=\"color:#cdcd00\">visionary-sweep-1</strong>: <a href=\"https://wandb.ai/rajeshtr/car_resale_value/runs/d9m5p5al\" target=\"_blank\">https://wandb.ai/rajeshtr/car_resale_value/runs/d9m5p5al</a><br/>Synced 6 W&B file(s), 0 media file(s), 0 artifact file(s) and 0 other file(s)"
            ],
            "text/plain": [
              "<IPython.core.display.HTML object>"
            ]
          },
          "metadata": {},
          "output_type": "display_data"
        },
        {
          "data": {
            "text/html": [
              "Find logs at: <code>.\\wandb\\run-20221110_134157-d9m5p5al\\logs</code>"
            ],
            "text/plain": [
              "<IPython.core.display.HTML object>"
            ]
          },
          "metadata": {},
          "output_type": "display_data"
        },
        {
          "name": "stderr",
          "output_type": "stream",
          "text": [
            "\u001b[34m\u001b[1mwandb\u001b[0m: Agent Starting Run: r4qy4pa3 with config:\n",
            "\u001b[34m\u001b[1mwandb\u001b[0m: \tmax_samples: 0.4\n",
            "\u001b[34m\u001b[1mwandb\u001b[0m: \tn_estimators: 200\n"
          ]
        },
        {
          "data": {
            "application/vnd.jupyter.widget-view+json": {
              "model_id": "c6641ef7b82646f5b7a8c9cb2a36297d",
              "version_major": 2,
              "version_minor": 0
            },
            "text/plain": [
              "VBox(children=(Label(value='Waiting for wandb.init()...\\r'), FloatProgress(value=0.01693333333435779, max=1.0)…"
            ]
          },
          "metadata": {},
          "output_type": "display_data"
        },
        {
          "data": {
            "text/html": [
              "Tracking run with wandb version 0.13.5"
            ],
            "text/plain": [
              "<IPython.core.display.HTML object>"
            ]
          },
          "metadata": {},
          "output_type": "display_data"
        },
        {
          "data": {
            "text/html": [
              "Run data is saved locally in <code>C:\\Users\\Rajesh\\wandb\\run-20221110_134300-r4qy4pa3</code>"
            ],
            "text/plain": [
              "<IPython.core.display.HTML object>"
            ]
          },
          "metadata": {},
          "output_type": "display_data"
        },
        {
          "data": {
            "text/html": [
              "Syncing run <strong><a href=\"https://wandb.ai/rajeshtr/car_resale_value/runs/r4qy4pa3\" target=\"_blank\">happy-sweep-2</a></strong> to <a href=\"https://wandb.ai/rajeshtr/car_resale_value\" target=\"_blank\">Weights & Biases</a> (<a href=\"https://wandb.me/run\" target=\"_blank\">docs</a>)<br/>Sweep page:  <a href=\"https://wandb.ai/rajeshtr/car_resale_value/sweeps/xvbhv8cq\" target=\"_blank\">https://wandb.ai/rajeshtr/car_resale_value/sweeps/xvbhv8cq</a>"
            ],
            "text/plain": [
              "<IPython.core.display.HTML object>"
            ]
          },
          "metadata": {},
          "output_type": "display_data"
        },
        {
          "name": "stderr",
          "output_type": "stream",
          "text": [
            "C:\\Users\\Rajesh\\AppData\\Local\\Temp\\ipykernel_33400\\3309427692.py:24: DataConversionWarning: A column-vector y was passed when a 1d array was expected. Please change the shape of y to (n_samples,), for example using ravel().\n",
            "  model.fit(X_train, Y_train)\n"
          ]
        },
        {
          "data": {
            "text/html": [
              "Waiting for W&B process to finish... <strong style=\"color:green\">(success).</strong>"
            ],
            "text/plain": [
              "<IPython.core.display.HTML object>"
            ]
          },
          "metadata": {},
          "output_type": "display_data"
        },
        {
          "data": {
            "application/vnd.jupyter.widget-view+json": {
              "model_id": "7e6cac90820f49b7acc0e3e7077a8790",
              "version_major": 2,
              "version_minor": 0
            },
            "text/plain": [
              "VBox(children=(Label(value='0.001 MB of 0.001 MB uploaded (0.000 MB deduped)\\r'), FloatProgress(value=1.0, max…"
            ]
          },
          "metadata": {},
          "output_type": "display_data"
        },
        {
          "data": {
            "text/html": [
              "<style>\n",
              "    table.wandb td:nth-child(1) { padding: 0 10px; text-align: left ; width: auto;} td:nth-child(2) {text-align: left ; width: 100%}\n",
              "    .wandb-row { display: flex; flex-direction: row; flex-wrap: wrap; justify-content: flex-start; width: 100% }\n",
              "    .wandb-col { display: flex; flex-direction: column; flex-basis: 100%; flex: 1; padding: 10px; }\n",
              "    </style>\n",
              "<div class=\"wandb-row\"><div class=\"wandb-col\"><h3>Run history:</h3><br/><table class=\"wandb\"><tr><td>adj_r2</td><td>▁</td></tr><tr><td>mae</td><td>▁</td></tr><tr><td>mse</td><td>▁</td></tr><tr><td>r2</td><td>▁</td></tr><tr><td>rmse</td><td>▁</td></tr><tr><td>rmsle</td><td>▁</td></tr></table><br/></div><div class=\"wandb-col\"><h3>Run summary:</h3><br/><table class=\"wandb\"><tr><td>adj_r2</td><td>0.86107</td></tr><tr><td>mae</td><td>1354.9736</td></tr><tr><td>mse</td><td>9902641.89359</td></tr><tr><td>r2</td><td>0.86108</td></tr><tr><td>rmse</td><td>3146.84634</td></tr><tr><td>rmsle</td><td>8.05416</td></tr></table><br/></div></div>"
            ],
            "text/plain": [
              "<IPython.core.display.HTML object>"
            ]
          },
          "metadata": {},
          "output_type": "display_data"
        },
        {
          "data": {
            "text/html": [
              "Synced <strong style=\"color:#cdcd00\">happy-sweep-2</strong>: <a href=\"https://wandb.ai/rajeshtr/car_resale_value/runs/r4qy4pa3\" target=\"_blank\">https://wandb.ai/rajeshtr/car_resale_value/runs/r4qy4pa3</a><br/>Synced 6 W&B file(s), 0 media file(s), 0 artifact file(s) and 0 other file(s)"
            ],
            "text/plain": [
              "<IPython.core.display.HTML object>"
            ]
          },
          "metadata": {},
          "output_type": "display_data"
        },
        {
          "data": {
            "text/html": [
              "Find logs at: <code>.\\wandb\\run-20221110_134300-r4qy4pa3\\logs</code>"
            ],
            "text/plain": [
              "<IPython.core.display.HTML object>"
            ]
          },
          "metadata": {},
          "output_type": "display_data"
        },
        {
          "name": "stderr",
          "output_type": "stream",
          "text": [
            "\u001b[34m\u001b[1mwandb\u001b[0m: Sweep Agent: Waiting for job.\n",
            "\u001b[34m\u001b[1mwandb\u001b[0m: Job received.\n",
            "\u001b[34m\u001b[1mwandb\u001b[0m: Agent Starting Run: q3c65msa with config:\n",
            "\u001b[34m\u001b[1mwandb\u001b[0m: \tmax_samples: 0.4\n",
            "\u001b[34m\u001b[1mwandb\u001b[0m: \tn_estimators: 300\n"
          ]
        },
        {
          "data": {
            "text/html": [
              "Tracking run with wandb version 0.13.5"
            ],
            "text/plain": [
              "<IPython.core.display.HTML object>"
            ]
          },
          "metadata": {},
          "output_type": "display_data"
        },
        {
          "data": {
            "text/html": [
              "Run data is saved locally in <code>C:\\Users\\Rajesh\\wandb\\run-20221110_134500-q3c65msa</code>"
            ],
            "text/plain": [
              "<IPython.core.display.HTML object>"
            ]
          },
          "metadata": {},
          "output_type": "display_data"
        },
        {
          "data": {
            "text/html": [
              "Syncing run <strong><a href=\"https://wandb.ai/rajeshtr/car_resale_value/runs/q3c65msa\" target=\"_blank\">expert-sweep-3</a></strong> to <a href=\"https://wandb.ai/rajeshtr/car_resale_value\" target=\"_blank\">Weights & Biases</a> (<a href=\"https://wandb.me/run\" target=\"_blank\">docs</a>)<br/>Sweep page:  <a href=\"https://wandb.ai/rajeshtr/car_resale_value/sweeps/xvbhv8cq\" target=\"_blank\">https://wandb.ai/rajeshtr/car_resale_value/sweeps/xvbhv8cq</a>"
            ],
            "text/plain": [
              "<IPython.core.display.HTML object>"
            ]
          },
          "metadata": {},
          "output_type": "display_data"
        },
        {
          "name": "stderr",
          "output_type": "stream",
          "text": [
            "C:\\Users\\Rajesh\\AppData\\Local\\Temp\\ipykernel_33400\\3309427692.py:24: DataConversionWarning: A column-vector y was passed when a 1d array was expected. Please change the shape of y to (n_samples,), for example using ravel().\n",
            "  model.fit(X_train, Y_train)\n"
          ]
        },
        {
          "data": {
            "text/html": [
              "Waiting for W&B process to finish... <strong style=\"color:green\">(success).</strong>"
            ],
            "text/plain": [
              "<IPython.core.display.HTML object>"
            ]
          },
          "metadata": {},
          "output_type": "display_data"
        },
        {
          "data": {
            "application/vnd.jupyter.widget-view+json": {
              "model_id": "48e3b99db95046ee8b282885b0470c07",
              "version_major": 2,
              "version_minor": 0
            },
            "text/plain": [
              "VBox(children=(Label(value='0.001 MB of 0.001 MB uploaded (0.000 MB deduped)\\r'), FloatProgress(value=1.0, max…"
            ]
          },
          "metadata": {},
          "output_type": "display_data"
        },
        {
          "data": {
            "text/html": [
              "<style>\n",
              "    table.wandb td:nth-child(1) { padding: 0 10px; text-align: left ; width: auto;} td:nth-child(2) {text-align: left ; width: 100%}\n",
              "    .wandb-row { display: flex; flex-direction: row; flex-wrap: wrap; justify-content: flex-start; width: 100% }\n",
              "    .wandb-col { display: flex; flex-direction: column; flex-basis: 100%; flex: 1; padding: 10px; }\n",
              "    </style>\n",
              "<div class=\"wandb-row\"><div class=\"wandb-col\"><h3>Run history:</h3><br/><table class=\"wandb\"><tr><td>adj_r2</td><td>▁</td></tr><tr><td>mae</td><td>▁</td></tr><tr><td>mse</td><td>▁</td></tr><tr><td>r2</td><td>▁</td></tr><tr><td>rmse</td><td>▁</td></tr><tr><td>rmsle</td><td>▁</td></tr></table><br/></div><div class=\"wandb-col\"><h3>Run summary:</h3><br/><table class=\"wandb\"><tr><td>adj_r2</td><td>0.8611</td></tr><tr><td>mae</td><td>1353.21882</td></tr><tr><td>mse</td><td>9900481.682</td></tr><tr><td>r2</td><td>0.86111</td></tr><tr><td>rmse</td><td>3146.50309</td></tr><tr><td>rmsle</td><td>8.05405</td></tr></table><br/></div></div>"
            ],
            "text/plain": [
              "<IPython.core.display.HTML object>"
            ]
          },
          "metadata": {},
          "output_type": "display_data"
        },
        {
          "data": {
            "text/html": [
              "Synced <strong style=\"color:#cdcd00\">expert-sweep-3</strong>: <a href=\"https://wandb.ai/rajeshtr/car_resale_value/runs/q3c65msa\" target=\"_blank\">https://wandb.ai/rajeshtr/car_resale_value/runs/q3c65msa</a><br/>Synced 6 W&B file(s), 0 media file(s), 0 artifact file(s) and 0 other file(s)"
            ],
            "text/plain": [
              "<IPython.core.display.HTML object>"
            ]
          },
          "metadata": {},
          "output_type": "display_data"
        },
        {
          "data": {
            "text/html": [
              "Find logs at: <code>.\\wandb\\run-20221110_134500-q3c65msa\\logs</code>"
            ],
            "text/plain": [
              "<IPython.core.display.HTML object>"
            ]
          },
          "metadata": {},
          "output_type": "display_data"
        },
        {
          "name": "stderr",
          "output_type": "stream",
          "text": [
            "\u001b[34m\u001b[1mwandb\u001b[0m: Sweep Agent: Waiting for job.\n",
            "\u001b[34m\u001b[1mwandb\u001b[0m: Job received.\n",
            "\u001b[34m\u001b[1mwandb\u001b[0m: Agent Starting Run: g86l35eh with config:\n",
            "\u001b[34m\u001b[1mwandb\u001b[0m: \tmax_samples: 0.5\n",
            "\u001b[34m\u001b[1mwandb\u001b[0m: \tn_estimators: 100\n"
          ]
        },
        {
          "data": {
            "application/vnd.jupyter.widget-view+json": {
              "model_id": "f8f9a6ba27174691ad2ecd96321c8fc3",
              "version_major": 2,
              "version_minor": 0
            },
            "text/plain": [
              "VBox(children=(Label(value='Waiting for wandb.init()...\\r'), FloatProgress(value=0.016666666666666666, max=1.0…"
            ]
          },
          "metadata": {},
          "output_type": "display_data"
        },
        {
          "data": {
            "text/html": [
              "Tracking run with wandb version 0.13.5"
            ],
            "text/plain": [
              "<IPython.core.display.HTML object>"
            ]
          },
          "metadata": {},
          "output_type": "display_data"
        },
        {
          "data": {
            "text/html": [
              "Run data is saved locally in <code>C:\\Users\\Rajesh\\wandb\\run-20221110_134708-g86l35eh</code>"
            ],
            "text/plain": [
              "<IPython.core.display.HTML object>"
            ]
          },
          "metadata": {},
          "output_type": "display_data"
        },
        {
          "data": {
            "text/html": [
              "Syncing run <strong><a href=\"https://wandb.ai/rajeshtr/car_resale_value/runs/g86l35eh\" target=\"_blank\">upbeat-sweep-4</a></strong> to <a href=\"https://wandb.ai/rajeshtr/car_resale_value\" target=\"_blank\">Weights & Biases</a> (<a href=\"https://wandb.me/run\" target=\"_blank\">docs</a>)<br/>Sweep page:  <a href=\"https://wandb.ai/rajeshtr/car_resale_value/sweeps/xvbhv8cq\" target=\"_blank\">https://wandb.ai/rajeshtr/car_resale_value/sweeps/xvbhv8cq</a>"
            ],
            "text/plain": [
              "<IPython.core.display.HTML object>"
            ]
          },
          "metadata": {},
          "output_type": "display_data"
        },
        {
          "name": "stderr",
          "output_type": "stream",
          "text": [
            "C:\\Users\\Rajesh\\AppData\\Local\\Temp\\ipykernel_33400\\3309427692.py:24: DataConversionWarning: A column-vector y was passed when a 1d array was expected. Please change the shape of y to (n_samples,), for example using ravel().\n",
            "  model.fit(X_train, Y_train)\n"
          ]
        },
        {
          "data": {
            "text/html": [
              "Waiting for W&B process to finish... <strong style=\"color:green\">(success).</strong>"
            ],
            "text/plain": [
              "<IPython.core.display.HTML object>"
            ]
          },
          "metadata": {},
          "output_type": "display_data"
        },
        {
          "data": {
            "application/vnd.jupyter.widget-view+json": {
              "model_id": "d7ef086f19b345d89a2c1d9ae6f350bb",
              "version_major": 2,
              "version_minor": 0
            },
            "text/plain": [
              "VBox(children=(Label(value='0.001 MB of 0.001 MB uploaded (0.000 MB deduped)\\r'), FloatProgress(value=1.0, max…"
            ]
          },
          "metadata": {},
          "output_type": "display_data"
        },
        {
          "data": {
            "text/html": [
              "<style>\n",
              "    table.wandb td:nth-child(1) { padding: 0 10px; text-align: left ; width: auto;} td:nth-child(2) {text-align: left ; width: 100%}\n",
              "    .wandb-row { display: flex; flex-direction: row; flex-wrap: wrap; justify-content: flex-start; width: 100% }\n",
              "    .wandb-col { display: flex; flex-direction: column; flex-basis: 100%; flex: 1; padding: 10px; }\n",
              "    </style>\n",
              "<div class=\"wandb-row\"><div class=\"wandb-col\"><h3>Run history:</h3><br/><table class=\"wandb\"><tr><td>adj_r2</td><td>▁</td></tr><tr><td>mae</td><td>▁</td></tr><tr><td>mse</td><td>▁</td></tr><tr><td>r2</td><td>▁</td></tr><tr><td>rmse</td><td>▁</td></tr><tr><td>rmsle</td><td>▁</td></tr></table><br/></div><div class=\"wandb-col\"><h3>Run summary:</h3><br/><table class=\"wandb\"><tr><td>adj_r2</td><td>0.86076</td></tr><tr><td>mae</td><td>1353.71088</td></tr><tr><td>mse</td><td>9924724.93996</td></tr><tr><td>r2</td><td>0.86077</td></tr><tr><td>rmse</td><td>3150.35315</td></tr><tr><td>rmsle</td><td>8.05527</td></tr></table><br/></div></div>"
            ],
            "text/plain": [
              "<IPython.core.display.HTML object>"
            ]
          },
          "metadata": {},
          "output_type": "display_data"
        },
        {
          "data": {
            "text/html": [
              "Synced <strong style=\"color:#cdcd00\">upbeat-sweep-4</strong>: <a href=\"https://wandb.ai/rajeshtr/car_resale_value/runs/g86l35eh\" target=\"_blank\">https://wandb.ai/rajeshtr/car_resale_value/runs/g86l35eh</a><br/>Synced 6 W&B file(s), 0 media file(s), 0 artifact file(s) and 0 other file(s)"
            ],
            "text/plain": [
              "<IPython.core.display.HTML object>"
            ]
          },
          "metadata": {},
          "output_type": "display_data"
        },
        {
          "data": {
            "text/html": [
              "Find logs at: <code>.\\wandb\\run-20221110_134708-g86l35eh\\logs</code>"
            ],
            "text/plain": [
              "<IPython.core.display.HTML object>"
            ]
          },
          "metadata": {},
          "output_type": "display_data"
        },
        {
          "name": "stderr",
          "output_type": "stream",
          "text": [
            "\u001b[34m\u001b[1mwandb\u001b[0m: Sweep Agent: Waiting for job.\n",
            "\u001b[34m\u001b[1mwandb\u001b[0m: Job received.\n",
            "\u001b[34m\u001b[1mwandb\u001b[0m: Agent Starting Run: k49dwxi3 with config:\n",
            "\u001b[34m\u001b[1mwandb\u001b[0m: \tmax_samples: 0.5\n",
            "\u001b[34m\u001b[1mwandb\u001b[0m: \tn_estimators: 200\n"
          ]
        },
        {
          "data": {
            "application/vnd.jupyter.widget-view+json": {
              "model_id": "4764a8923c3b40ddbc31d10aac5f1f6b",
              "version_major": 2,
              "version_minor": 0
            },
            "text/plain": [
              "VBox(children=(Label(value='Waiting for wandb.init()...\\r'), FloatProgress(value=0.01691666666883975, max=1.0)…"
            ]
          },
          "metadata": {},
          "output_type": "display_data"
        },
        {
          "data": {
            "text/html": [
              "Tracking run with wandb version 0.13.5"
            ],
            "text/plain": [
              "<IPython.core.display.HTML object>"
            ]
          },
          "metadata": {},
          "output_type": "display_data"
        },
        {
          "data": {
            "text/html": [
              "Run data is saved locally in <code>C:\\Users\\Rajesh\\wandb\\run-20221110_134833-k49dwxi3</code>"
            ],
            "text/plain": [
              "<IPython.core.display.HTML object>"
            ]
          },
          "metadata": {},
          "output_type": "display_data"
        },
        {
          "data": {
            "text/html": [
              "Syncing run <strong><a href=\"https://wandb.ai/rajeshtr/car_resale_value/runs/k49dwxi3\" target=\"_blank\">sage-sweep-5</a></strong> to <a href=\"https://wandb.ai/rajeshtr/car_resale_value\" target=\"_blank\">Weights & Biases</a> (<a href=\"https://wandb.me/run\" target=\"_blank\">docs</a>)<br/>Sweep page:  <a href=\"https://wandb.ai/rajeshtr/car_resale_value/sweeps/xvbhv8cq\" target=\"_blank\">https://wandb.ai/rajeshtr/car_resale_value/sweeps/xvbhv8cq</a>"
            ],
            "text/plain": [
              "<IPython.core.display.HTML object>"
            ]
          },
          "metadata": {},
          "output_type": "display_data"
        },
        {
          "name": "stderr",
          "output_type": "stream",
          "text": [
            "C:\\Users\\Rajesh\\AppData\\Local\\Temp\\ipykernel_33400\\3309427692.py:24: DataConversionWarning: A column-vector y was passed when a 1d array was expected. Please change the shape of y to (n_samples,), for example using ravel().\n",
            "  model.fit(X_train, Y_train)\n"
          ]
        },
        {
          "data": {
            "text/html": [
              "Waiting for W&B process to finish... <strong style=\"color:green\">(success).</strong>"
            ],
            "text/plain": [
              "<IPython.core.display.HTML object>"
            ]
          },
          "metadata": {},
          "output_type": "display_data"
        },
        {
          "data": {
            "text/html": [
              "<style>\n",
              "    table.wandb td:nth-child(1) { padding: 0 10px; text-align: left ; width: auto;} td:nth-child(2) {text-align: left ; width: 100%}\n",
              "    .wandb-row { display: flex; flex-direction: row; flex-wrap: wrap; justify-content: flex-start; width: 100% }\n",
              "    .wandb-col { display: flex; flex-direction: column; flex-basis: 100%; flex: 1; padding: 10px; }\n",
              "    </style>\n",
              "<div class=\"wandb-row\"><div class=\"wandb-col\"><h3>Run history:</h3><br/><table class=\"wandb\"><tr><td>adj_r2</td><td>▁</td></tr><tr><td>mae</td><td>▁</td></tr><tr><td>mse</td><td>▁</td></tr><tr><td>r2</td><td>▁</td></tr><tr><td>rmse</td><td>▁</td></tr><tr><td>rmsle</td><td>▁</td></tr></table><br/></div><div class=\"wandb-col\"><h3>Run summary:</h3><br/><table class=\"wandb\"><tr><td>adj_r2</td><td>0.86208</td></tr><tr><td>mae</td><td>1348.59188</td></tr><tr><td>mse</td><td>9830249.12098</td></tr><tr><td>r2</td><td>0.86209</td></tr><tr><td>rmse</td><td>3135.32281</td></tr><tr><td>rmsle</td><td>8.05049</td></tr></table><br/></div></div>"
            ],
            "text/plain": [
              "<IPython.core.display.HTML object>"
            ]
          },
          "metadata": {},
          "output_type": "display_data"
        },
        {
          "data": {
            "text/html": [
              "Synced <strong style=\"color:#cdcd00\">sage-sweep-5</strong>: <a href=\"https://wandb.ai/rajeshtr/car_resale_value/runs/k49dwxi3\" target=\"_blank\">https://wandb.ai/rajeshtr/car_resale_value/runs/k49dwxi3</a><br/>Synced 6 W&B file(s), 0 media file(s), 0 artifact file(s) and 0 other file(s)"
            ],
            "text/plain": [
              "<IPython.core.display.HTML object>"
            ]
          },
          "metadata": {},
          "output_type": "display_data"
        },
        {
          "data": {
            "text/html": [
              "Find logs at: <code>.\\wandb\\run-20221110_134833-k49dwxi3\\logs</code>"
            ],
            "text/plain": [
              "<IPython.core.display.HTML object>"
            ]
          },
          "metadata": {},
          "output_type": "display_data"
        },
        {
          "name": "stderr",
          "output_type": "stream",
          "text": [
            "\u001b[34m\u001b[1mwandb\u001b[0m: Agent Starting Run: bshp42ga with config:\n",
            "\u001b[34m\u001b[1mwandb\u001b[0m: \tmax_samples: 0.5\n",
            "\u001b[34m\u001b[1mwandb\u001b[0m: \tn_estimators: 300\n"
          ]
        },
        {
          "data": {
            "application/vnd.jupyter.widget-view+json": {
              "model_id": "ea4f75c6bb5c42f193d26b34a02a2a90",
              "version_major": 2,
              "version_minor": 0
            },
            "text/plain": [
              "VBox(children=(Label(value='Waiting for wandb.init()...\\r'), FloatProgress(value=0.016666666666666666, max=1.0…"
            ]
          },
          "metadata": {},
          "output_type": "display_data"
        },
        {
          "data": {
            "text/html": [
              "Tracking run with wandb version 0.13.5"
            ],
            "text/plain": [
              "<IPython.core.display.HTML object>"
            ]
          },
          "metadata": {},
          "output_type": "display_data"
        },
        {
          "data": {
            "text/html": [
              "Run data is saved locally in <code>C:\\Users\\Rajesh\\wandb\\run-20221110_135050-bshp42ga</code>"
            ],
            "text/plain": [
              "<IPython.core.display.HTML object>"
            ]
          },
          "metadata": {},
          "output_type": "display_data"
        },
        {
          "data": {
            "text/html": [
              "Syncing run <strong><a href=\"https://wandb.ai/rajeshtr/car_resale_value/runs/bshp42ga\" target=\"_blank\">distinctive-sweep-6</a></strong> to <a href=\"https://wandb.ai/rajeshtr/car_resale_value\" target=\"_blank\">Weights & Biases</a> (<a href=\"https://wandb.me/run\" target=\"_blank\">docs</a>)<br/>Sweep page:  <a href=\"https://wandb.ai/rajeshtr/car_resale_value/sweeps/xvbhv8cq\" target=\"_blank\">https://wandb.ai/rajeshtr/car_resale_value/sweeps/xvbhv8cq</a>"
            ],
            "text/plain": [
              "<IPython.core.display.HTML object>"
            ]
          },
          "metadata": {},
          "output_type": "display_data"
        },
        {
          "name": "stderr",
          "output_type": "stream",
          "text": [
            "C:\\Users\\Rajesh\\AppData\\Local\\Temp\\ipykernel_33400\\3309427692.py:24: DataConversionWarning: A column-vector y was passed when a 1d array was expected. Please change the shape of y to (n_samples,), for example using ravel().\n",
            "  model.fit(X_train, Y_train)\n"
          ]
        },
        {
          "data": {
            "text/html": [
              "Waiting for W&B process to finish... <strong style=\"color:green\">(success).</strong>"
            ],
            "text/plain": [
              "<IPython.core.display.HTML object>"
            ]
          },
          "metadata": {},
          "output_type": "display_data"
        },
        {
          "data": {
            "text/html": [
              "<style>\n",
              "    table.wandb td:nth-child(1) { padding: 0 10px; text-align: left ; width: auto;} td:nth-child(2) {text-align: left ; width: 100%}\n",
              "    .wandb-row { display: flex; flex-direction: row; flex-wrap: wrap; justify-content: flex-start; width: 100% }\n",
              "    .wandb-col { display: flex; flex-direction: column; flex-basis: 100%; flex: 1; padding: 10px; }\n",
              "    </style>\n",
              "<div class=\"wandb-row\"><div class=\"wandb-col\"><h3>Run history:</h3><br/><table class=\"wandb\"><tr><td>adj_r2</td><td>▁</td></tr><tr><td>mae</td><td>▁</td></tr><tr><td>mse</td><td>▁</td></tr><tr><td>r2</td><td>▁</td></tr><tr><td>rmse</td><td>▁</td></tr><tr><td>rmsle</td><td>▁</td></tr></table><br/></div><div class=\"wandb-col\"><h3>Run summary:</h3><br/><table class=\"wandb\"><tr><td>adj_r2</td><td>0.86248</td></tr><tr><td>mae</td><td>1346.99548</td></tr><tr><td>mse</td><td>9801958.91842</td></tr><tr><td>r2</td><td>0.86249</td></tr><tr><td>rmse</td><td>3130.80803</td></tr><tr><td>rmsle</td><td>8.04905</td></tr></table><br/></div></div>"
            ],
            "text/plain": [
              "<IPython.core.display.HTML object>"
            ]
          },
          "metadata": {},
          "output_type": "display_data"
        },
        {
          "data": {
            "text/html": [
              "Synced <strong style=\"color:#cdcd00\">distinctive-sweep-6</strong>: <a href=\"https://wandb.ai/rajeshtr/car_resale_value/runs/bshp42ga\" target=\"_blank\">https://wandb.ai/rajeshtr/car_resale_value/runs/bshp42ga</a><br/>Synced 6 W&B file(s), 0 media file(s), 0 artifact file(s) and 0 other file(s)"
            ],
            "text/plain": [
              "<IPython.core.display.HTML object>"
            ]
          },
          "metadata": {},
          "output_type": "display_data"
        },
        {
          "data": {
            "text/html": [
              "Find logs at: <code>.\\wandb\\run-20221110_135050-bshp42ga\\logs</code>"
            ],
            "text/plain": [
              "<IPython.core.display.HTML object>"
            ]
          },
          "metadata": {},
          "output_type": "display_data"
        },
        {
          "name": "stderr",
          "output_type": "stream",
          "text": [
            "\u001b[34m\u001b[1mwandb\u001b[0m: Agent Starting Run: 4yzl5w76 with config:\n",
            "\u001b[34m\u001b[1mwandb\u001b[0m: \tmax_samples: 0.6\n",
            "\u001b[34m\u001b[1mwandb\u001b[0m: \tn_estimators: 100\n"
          ]
        },
        {
          "data": {
            "application/vnd.jupyter.widget-view+json": {
              "model_id": "6354dd63f4f2469b81c1b47405106ad1",
              "version_major": 2,
              "version_minor": 0
            },
            "text/plain": [
              "VBox(children=(Label(value='Waiting for wandb.init()...\\r'), FloatProgress(value=0.01693333333435779, max=1.0)…"
            ]
          },
          "metadata": {},
          "output_type": "display_data"
        },
        {
          "data": {
            "text/html": [
              "Tracking run with wandb version 0.13.5"
            ],
            "text/plain": [
              "<IPython.core.display.HTML object>"
            ]
          },
          "metadata": {},
          "output_type": "display_data"
        },
        {
          "data": {
            "text/html": [
              "Run data is saved locally in <code>C:\\Users\\Rajesh\\wandb\\run-20221110_135326-4yzl5w76</code>"
            ],
            "text/plain": [
              "<IPython.core.display.HTML object>"
            ]
          },
          "metadata": {},
          "output_type": "display_data"
        },
        {
          "data": {
            "text/html": [
              "Syncing run <strong><a href=\"https://wandb.ai/rajeshtr/car_resale_value/runs/4yzl5w76\" target=\"_blank\">usual-sweep-7</a></strong> to <a href=\"https://wandb.ai/rajeshtr/car_resale_value\" target=\"_blank\">Weights & Biases</a> (<a href=\"https://wandb.me/run\" target=\"_blank\">docs</a>)<br/>Sweep page:  <a href=\"https://wandb.ai/rajeshtr/car_resale_value/sweeps/xvbhv8cq\" target=\"_blank\">https://wandb.ai/rajeshtr/car_resale_value/sweeps/xvbhv8cq</a>"
            ],
            "text/plain": [
              "<IPython.core.display.HTML object>"
            ]
          },
          "metadata": {},
          "output_type": "display_data"
        },
        {
          "name": "stderr",
          "output_type": "stream",
          "text": [
            "C:\\Users\\Rajesh\\AppData\\Local\\Temp\\ipykernel_33400\\3309427692.py:24: DataConversionWarning: A column-vector y was passed when a 1d array was expected. Please change the shape of y to (n_samples,), for example using ravel().\n",
            "  model.fit(X_train, Y_train)\n"
          ]
        },
        {
          "data": {
            "text/html": [
              "Waiting for W&B process to finish... <strong style=\"color:green\">(success).</strong>"
            ],
            "text/plain": [
              "<IPython.core.display.HTML object>"
            ]
          },
          "metadata": {},
          "output_type": "display_data"
        },
        {
          "data": {
            "text/html": [
              "<style>\n",
              "    table.wandb td:nth-child(1) { padding: 0 10px; text-align: left ; width: auto;} td:nth-child(2) {text-align: left ; width: 100%}\n",
              "    .wandb-row { display: flex; flex-direction: row; flex-wrap: wrap; justify-content: flex-start; width: 100% }\n",
              "    .wandb-col { display: flex; flex-direction: column; flex-basis: 100%; flex: 1; padding: 10px; }\n",
              "    </style>\n",
              "<div class=\"wandb-row\"><div class=\"wandb-col\"><h3>Run history:</h3><br/><table class=\"wandb\"><tr><td>adj_r2</td><td>▁</td></tr><tr><td>mae</td><td>▁</td></tr><tr><td>mse</td><td>▁</td></tr><tr><td>r2</td><td>▁</td></tr><tr><td>rmse</td><td>▁</td></tr><tr><td>rmsle</td><td>▁</td></tr></table><br/></div><div class=\"wandb-col\"><h3>Run summary:</h3><br/><table class=\"wandb\"><tr><td>adj_r2</td><td>0.86153</td></tr><tr><td>mae</td><td>1351.22017</td></tr><tr><td>mse</td><td>9869692.41171</td></tr><tr><td>r2</td><td>0.86154</td></tr><tr><td>rmse</td><td>3141.60666</td></tr><tr><td>rmsle</td><td>8.05249</td></tr></table><br/></div></div>"
            ],
            "text/plain": [
              "<IPython.core.display.HTML object>"
            ]
          },
          "metadata": {},
          "output_type": "display_data"
        },
        {
          "data": {
            "text/html": [
              "Synced <strong style=\"color:#cdcd00\">usual-sweep-7</strong>: <a href=\"https://wandb.ai/rajeshtr/car_resale_value/runs/4yzl5w76\" target=\"_blank\">https://wandb.ai/rajeshtr/car_resale_value/runs/4yzl5w76</a><br/>Synced 6 W&B file(s), 0 media file(s), 0 artifact file(s) and 0 other file(s)"
            ],
            "text/plain": [
              "<IPython.core.display.HTML object>"
            ]
          },
          "metadata": {},
          "output_type": "display_data"
        },
        {
          "data": {
            "text/html": [
              "Find logs at: <code>.\\wandb\\run-20221110_135326-4yzl5w76\\logs</code>"
            ],
            "text/plain": [
              "<IPython.core.display.HTML object>"
            ]
          },
          "metadata": {},
          "output_type": "display_data"
        },
        {
          "name": "stderr",
          "output_type": "stream",
          "text": [
            "\u001b[34m\u001b[1mwandb\u001b[0m: Sweep Agent: Waiting for job.\n",
            "\u001b[34m\u001b[1mwandb\u001b[0m: Job received.\n",
            "\u001b[34m\u001b[1mwandb\u001b[0m: Agent Starting Run: i9kx2qcp with config:\n",
            "\u001b[34m\u001b[1mwandb\u001b[0m: \tmax_samples: 0.6\n",
            "\u001b[34m\u001b[1mwandb\u001b[0m: \tn_estimators: 200\n"
          ]
        },
        {
          "data": {
            "application/vnd.jupyter.widget-view+json": {
              "model_id": "7355cdd672b14987bd490b801150d7aa",
              "version_major": 2,
              "version_minor": 0
            },
            "text/plain": [
              "VBox(children=(Label(value='Waiting for wandb.init()...\\r'), FloatProgress(value=0.01693333333435779, max=1.0)…"
            ]
          },
          "metadata": {},
          "output_type": "display_data"
        },
        {
          "data": {
            "text/html": [
              "Tracking run with wandb version 0.13.5"
            ],
            "text/plain": [
              "<IPython.core.display.HTML object>"
            ]
          },
          "metadata": {},
          "output_type": "display_data"
        },
        {
          "data": {
            "text/html": [
              "Run data is saved locally in <code>C:\\Users\\Rajesh\\wandb\\run-20221110_135525-i9kx2qcp</code>"
            ],
            "text/plain": [
              "<IPython.core.display.HTML object>"
            ]
          },
          "metadata": {},
          "output_type": "display_data"
        },
        {
          "data": {
            "text/html": [
              "Syncing run <strong><a href=\"https://wandb.ai/rajeshtr/car_resale_value/runs/i9kx2qcp\" target=\"_blank\">copper-sweep-8</a></strong> to <a href=\"https://wandb.ai/rajeshtr/car_resale_value\" target=\"_blank\">Weights & Biases</a> (<a href=\"https://wandb.me/run\" target=\"_blank\">docs</a>)<br/>Sweep page:  <a href=\"https://wandb.ai/rajeshtr/car_resale_value/sweeps/xvbhv8cq\" target=\"_blank\">https://wandb.ai/rajeshtr/car_resale_value/sweeps/xvbhv8cq</a>"
            ],
            "text/plain": [
              "<IPython.core.display.HTML object>"
            ]
          },
          "metadata": {},
          "output_type": "display_data"
        },
        {
          "name": "stderr",
          "output_type": "stream",
          "text": [
            "C:\\Users\\Rajesh\\AppData\\Local\\Temp\\ipykernel_33400\\3309427692.py:24: DataConversionWarning: A column-vector y was passed when a 1d array was expected. Please change the shape of y to (n_samples,), for example using ravel().\n",
            "  model.fit(X_train, Y_train)\n"
          ]
        },
        {
          "data": {
            "text/html": [
              "Waiting for W&B process to finish... <strong style=\"color:green\">(success).</strong>"
            ],
            "text/plain": [
              "<IPython.core.display.HTML object>"
            ]
          },
          "metadata": {},
          "output_type": "display_data"
        },
        {
          "data": {
            "text/html": [
              "<style>\n",
              "    table.wandb td:nth-child(1) { padding: 0 10px; text-align: left ; width: auto;} td:nth-child(2) {text-align: left ; width: 100%}\n",
              "    .wandb-row { display: flex; flex-direction: row; flex-wrap: wrap; justify-content: flex-start; width: 100% }\n",
              "    .wandb-col { display: flex; flex-direction: column; flex-basis: 100%; flex: 1; padding: 10px; }\n",
              "    </style>\n",
              "<div class=\"wandb-row\"><div class=\"wandb-col\"><h3>Run history:</h3><br/><table class=\"wandb\"><tr><td>adj_r2</td><td>▁</td></tr><tr><td>mae</td><td>▁</td></tr><tr><td>mse</td><td>▁</td></tr><tr><td>r2</td><td>▁</td></tr><tr><td>rmse</td><td>▁</td></tr><tr><td>rmsle</td><td>▁</td></tr></table><br/></div><div class=\"wandb-col\"><h3>Run summary:</h3><br/><table class=\"wandb\"><tr><td>adj_r2</td><td>0.86265</td></tr><tr><td>mae</td><td>1347.34878</td></tr><tr><td>mse</td><td>9789829.20211</td></tr><tr><td>r2</td><td>0.86266</td></tr><tr><td>rmse</td><td>3128.87028</td></tr><tr><td>rmsle</td><td>8.04843</td></tr></table><br/></div></div>"
            ],
            "text/plain": [
              "<IPython.core.display.HTML object>"
            ]
          },
          "metadata": {},
          "output_type": "display_data"
        },
        {
          "data": {
            "text/html": [
              "Synced <strong style=\"color:#cdcd00\">copper-sweep-8</strong>: <a href=\"https://wandb.ai/rajeshtr/car_resale_value/runs/i9kx2qcp\" target=\"_blank\">https://wandb.ai/rajeshtr/car_resale_value/runs/i9kx2qcp</a><br/>Synced 6 W&B file(s), 0 media file(s), 0 artifact file(s) and 0 other file(s)"
            ],
            "text/plain": [
              "<IPython.core.display.HTML object>"
            ]
          },
          "metadata": {},
          "output_type": "display_data"
        },
        {
          "data": {
            "text/html": [
              "Find logs at: <code>.\\wandb\\run-20221110_135525-i9kx2qcp\\logs</code>"
            ],
            "text/plain": [
              "<IPython.core.display.HTML object>"
            ]
          },
          "metadata": {},
          "output_type": "display_data"
        },
        {
          "name": "stderr",
          "output_type": "stream",
          "text": [
            "\u001b[34m\u001b[1mwandb\u001b[0m: Sweep Agent: Waiting for job.\n",
            "\u001b[34m\u001b[1mwandb\u001b[0m: Job received.\n",
            "\u001b[34m\u001b[1mwandb\u001b[0m: Agent Starting Run: bccpklwb with config:\n",
            "\u001b[34m\u001b[1mwandb\u001b[0m: \tmax_samples: 0.6\n",
            "\u001b[34m\u001b[1mwandb\u001b[0m: \tn_estimators: 300\n"
          ]
        },
        {
          "data": {
            "application/vnd.jupyter.widget-view+json": {
              "model_id": "d33931d6933b4ceda65b2ac0995eb001",
              "version_major": 2,
              "version_minor": 0
            },
            "text/plain": [
              "VBox(children=(Label(value='Waiting for wandb.init()...\\r'), FloatProgress(value=0.016666666666666666, max=1.0…"
            ]
          },
          "metadata": {},
          "output_type": "display_data"
        },
        {
          "data": {
            "text/html": [
              "Tracking run with wandb version 0.13.5"
            ],
            "text/plain": [
              "<IPython.core.display.HTML object>"
            ]
          },
          "metadata": {},
          "output_type": "display_data"
        },
        {
          "data": {
            "text/html": [
              "Run data is saved locally in <code>C:\\Users\\Rajesh\\wandb\\run-20221110_135841-bccpklwb</code>"
            ],
            "text/plain": [
              "<IPython.core.display.HTML object>"
            ]
          },
          "metadata": {},
          "output_type": "display_data"
        },
        {
          "data": {
            "text/html": [
              "Syncing run <strong><a href=\"https://wandb.ai/rajeshtr/car_resale_value/runs/bccpklwb\" target=\"_blank\">smart-sweep-9</a></strong> to <a href=\"https://wandb.ai/rajeshtr/car_resale_value\" target=\"_blank\">Weights & Biases</a> (<a href=\"https://wandb.me/run\" target=\"_blank\">docs</a>)<br/>Sweep page:  <a href=\"https://wandb.ai/rajeshtr/car_resale_value/sweeps/xvbhv8cq\" target=\"_blank\">https://wandb.ai/rajeshtr/car_resale_value/sweeps/xvbhv8cq</a>"
            ],
            "text/plain": [
              "<IPython.core.display.HTML object>"
            ]
          },
          "metadata": {},
          "output_type": "display_data"
        },
        {
          "name": "stderr",
          "output_type": "stream",
          "text": [
            "C:\\Users\\Rajesh\\AppData\\Local\\Temp\\ipykernel_33400\\3309427692.py:24: DataConversionWarning: A column-vector y was passed when a 1d array was expected. Please change the shape of y to (n_samples,), for example using ravel().\n",
            "  model.fit(X_train, Y_train)\n"
          ]
        },
        {
          "data": {
            "text/html": [
              "Waiting for W&B process to finish... <strong style=\"color:green\">(success).</strong>"
            ],
            "text/plain": [
              "<IPython.core.display.HTML object>"
            ]
          },
          "metadata": {},
          "output_type": "display_data"
        },
        {
          "data": {
            "application/vnd.jupyter.widget-view+json": {
              "model_id": "50f60da78f5a4dd4b3c48eab1b32d758",
              "version_major": 2,
              "version_minor": 0
            },
            "text/plain": [
              "VBox(children=(Label(value='0.001 MB of 0.001 MB uploaded (0.000 MB deduped)\\r'), FloatProgress(value=1.0, max…"
            ]
          },
          "metadata": {},
          "output_type": "display_data"
        },
        {
          "data": {
            "text/html": [
              "<style>\n",
              "    table.wandb td:nth-child(1) { padding: 0 10px; text-align: left ; width: auto;} td:nth-child(2) {text-align: left ; width: 100%}\n",
              "    .wandb-row { display: flex; flex-direction: row; flex-wrap: wrap; justify-content: flex-start; width: 100% }\n",
              "    .wandb-col { display: flex; flex-direction: column; flex-basis: 100%; flex: 1; padding: 10px; }\n",
              "    </style>\n",
              "<div class=\"wandb-row\"><div class=\"wandb-col\"><h3>Run history:</h3><br/><table class=\"wandb\"><tr><td>adj_r2</td><td>▁</td></tr><tr><td>mae</td><td>▁</td></tr><tr><td>mse</td><td>▁</td></tr><tr><td>r2</td><td>▁</td></tr><tr><td>rmse</td><td>▁</td></tr><tr><td>rmsle</td><td>▁</td></tr></table><br/></div><div class=\"wandb-col\"><h3>Run summary:</h3><br/><table class=\"wandb\"><tr><td>adj_r2</td><td>0.86281</td></tr><tr><td>mae</td><td>1346.18468</td></tr><tr><td>mse</td><td>9778805.08474</td></tr><tr><td>r2</td><td>0.86281</td></tr><tr><td>rmse</td><td>3127.1081</td></tr><tr><td>rmsle</td><td>8.04786</td></tr></table><br/></div></div>"
            ],
            "text/plain": [
              "<IPython.core.display.HTML object>"
            ]
          },
          "metadata": {},
          "output_type": "display_data"
        },
        {
          "data": {
            "text/html": [
              "Synced <strong style=\"color:#cdcd00\">smart-sweep-9</strong>: <a href=\"https://wandb.ai/rajeshtr/car_resale_value/runs/bccpklwb\" target=\"_blank\">https://wandb.ai/rajeshtr/car_resale_value/runs/bccpklwb</a><br/>Synced 6 W&B file(s), 0 media file(s), 0 artifact file(s) and 0 other file(s)"
            ],
            "text/plain": [
              "<IPython.core.display.HTML object>"
            ]
          },
          "metadata": {},
          "output_type": "display_data"
        },
        {
          "data": {
            "text/html": [
              "Find logs at: <code>.\\wandb\\run-20221110_135841-bccpklwb\\logs</code>"
            ],
            "text/plain": [
              "<IPython.core.display.HTML object>"
            ]
          },
          "metadata": {},
          "output_type": "display_data"
        },
        {
          "name": "stderr",
          "output_type": "stream",
          "text": [
            "\u001b[34m\u001b[1mwandb\u001b[0m: Sweep Agent: Waiting for job.\n",
            "\u001b[34m\u001b[1mwandb\u001b[0m: Sweep Agent: Exiting.\n"
          ]
        }
      ],
      "source": [
        "random_forest_configs = {\n",
        "    \"name\":'RandomForestRegressor',\n",
        "    \"method\": \"grid\",\n",
        "    \"metric\": {\n",
        "        \"name\": \"adj_r2\",\n",
        "        \"goal\": \"maximize\"\n",
        "    },\n",
        "    \"parameters\": {\n",
        "        \"n_estimators\": {\n",
        "            \"values\": [100, 200, 300]\n",
        "        },\n",
        "        \"max_samples\": {\n",
        "            \"values\": [0.4,0.5, 0.6]\n",
        "        }\n",
        "    }\n",
        "}\n",
        "\n",
        "sweep_id = wandb.sweep(sweep=random_forest_configs, project=\"car_resale_value\")\n",
        "wandb.agent(sweep_id=sweep_id, function=random_forest_regressor)"
      ]
    },
    {
      "cell_type": "markdown",
      "id": "37fe6a85",
      "metadata": {
        "id": "37fe6a85"
      },
      "source": [
        "# Random Forest Regressor Results"
      ]
    },
    {
      "cell_type": "markdown",
      "id": "043f3bfa",
      "metadata": {
        "id": "043f3bfa"
      },
      "source": [
        "![W&B%20Chart%2011_10_2022,%202_05_41%20PM.png](attachment:W&B%20Chart%2011_10_2022,%202_05_41%20PM.png)"
      ]
    },
    {
      "cell_type": "markdown",
      "id": "c3773987",
      "metadata": {
        "id": "c3773987"
      },
      "source": [
        "# LGBM Regressor"
      ]
    },
    {
      "cell_type": "code",
      "execution_count": null,
      "id": "da3f6805",
      "metadata": {
        "id": "da3f6805"
      },
      "outputs": [],
      "source": [
        "def LGBM_regressor():\n",
        "    config_defaults = {\n",
        "                'objective':'root_mean_squared_error',\n",
        "                'reg_sqrt': True,\n",
        "                'metric':'rmse',\n",
        "                'random_state':42\n",
        "            }\n",
        "    wandb.init(config=config_defaults)\n",
        "    config = wandb.config\n",
        "    \n",
        "    X = labeled.iloc[:,1:].values\n",
        "    Y = labeled.iloc[:,0].values.reshape(-1,1)\n",
        "    \n",
        "    X_train, X_test, Y_train, Y_test = train_test_split(X, Y, test_size=0.4, random_state=42)\n",
        "    \n",
        "    model = LGBMRegressor(\n",
        "      learning_rate=config.learning_rate,\n",
        "      n_estimators = config.n_estimators,\n",
        "      random_state = config.random_state)\n",
        "    \n",
        "    model.fit(X_train, Y_train)\n",
        "    \n",
        "    Y_pred = model.predict(X_test)\n",
        "    \n",
        "    find_scores(Y_test, Y_pred, X_train)"
      ]
    },
    {
      "cell_type": "code",
      "execution_count": null,
      "id": "82ed3314",
      "metadata": {
        "id": "82ed3314",
        "outputId": "01656399-6cf4-408f-e92c-1d7c3493ac0a",
        "colab": {
          "referenced_widgets": [
            "6b3d0145fbb646d6ae2f89c19898a88e",
            "8ccfd46801d3433e8f877dd6635dcf2b",
            "48ad4e692a454ac48a2707f15e7fa376",
            "be34abb6762d43888f5360cfd8ab77c8",
            "665f963c49a34a2488309a869b5481c6",
            "0ff2f61ce09f4e6986a00bcbc4d34513",
            "ace8dfce4f684ac8baa855691eb5020e",
            "2ff3cd0c62714e91aa18ee0dd6841555",
            "bea7b1968152498692581d88c18104f3",
            "432b2b35e4b64331920be99d6f7d34e4",
            "688750ae86ed4bbf967962adc63a8993",
            "0b674d444fbe4966b5eb09e81ab5e158",
            "d3799bb677ab4618b87dffbb5cc4e2dc",
            "37afd38337ce46c2ba0221502cdf933f",
            "a111045b5f194b00903e47c001c12f72",
            "5539be739b994b99b3f4c676c872b18b",
            "161a5c1093cf4665849e05e5226aa408",
            "f60bc58a581a4888aee6a68b6ec01452",
            "cbe8be5561454a86aeb44352d7c2441d",
            "f550f050da1b478bb306192ddf5947fd",
            "3a9cf91aae764adebc8ec622ea205f5f",
            "eeb34a17936140aea0c1a9b52f11c638",
            "85bf0212b9e34092804e22ec111a9134",
            "ec6ba3a168d741b6b166d7bbf981d05a",
            "c009f33b279f462997d04997f01fb2e4",
            "40b8accd7b574b3f9f474b7a1ef8307b",
            "b0653e23d4f94e65814874c548739cd3",
            "b1256827ab7e4d02956bcbfdd740abef",
            "a298c57d50314b13b34fa5bf87939491",
            "97c90d51fc5f47e29f468a8e523d89ed",
            "769da12a41d14b05be41c5bfb7d5018a",
            "91cc9fde97784823bece789e8a707a09",
            "1849385e2d574a89946cdaac78346b97",
            "4efda49ea5194e488caeeb0d2f54f961",
            "7be2a21a45a94ac58e518056edf7db44",
            "8ba42f69579a42ab9b7dd6f7daf37014",
            "0b79a9c3763b4db18fc547f022793c7c",
            "bce2f22e3db5494fb4caf65518bab74b",
            "9b40c70461c34086afc572542b59c523",
            "6f062476e50c4bc38c8e3fbcdbfc014e",
            "9cc808e831a8431b81b222a4e90c82f8",
            "c6d1b40000a24e5a941716a90e2df9c5",
            "58cc50135bc24e75871ed0cc0a33eb11",
            "52e2389e74984b8c9a07ca7280af67ee",
            "147a007ee3af4a40ac7e208c81befa33",
            "1a51a9b0a84a4ba882b2babbfec808bd",
            "54de6a5802b846f082cd85914de02892",
            "3535be5f2ed74559b62ba4655015bcbe"
          ]
        }
      },
      "outputs": [
        {
          "name": "stdout",
          "output_type": "stream",
          "text": [
            "Create sweep with ID: b30glh4n\n",
            "Sweep URL: https://wandb.ai/rajeshtr/car_resale_value/sweeps/b30glh4n\n"
          ]
        },
        {
          "name": "stderr",
          "output_type": "stream",
          "text": [
            "\u001b[34m\u001b[1mwandb\u001b[0m: Agent Starting Run: 38h98sq1 with config:\n",
            "\u001b[34m\u001b[1mwandb\u001b[0m: \tboosting_type: gbdt\n",
            "\u001b[34m\u001b[1mwandb\u001b[0m: \tlearning_rate: 0.01\n",
            "\u001b[34m\u001b[1mwandb\u001b[0m: \tmetric: rmse\n",
            "\u001b[34m\u001b[1mwandb\u001b[0m: \tn_estimators: 100\n",
            "\u001b[34m\u001b[1mwandb\u001b[0m: \tobjective: root_mean_squared_error\n",
            "\u001b[34m\u001b[1mwandb\u001b[0m: \trandom_state: 42\n",
            "\u001b[34m\u001b[1mwandb\u001b[0m: \treg_sqrt: True\n"
          ]
        },
        {
          "data": {
            "application/vnd.jupyter.widget-view+json": {
              "model_id": "6b3d0145fbb646d6ae2f89c19898a88e",
              "version_major": 2,
              "version_minor": 0
            },
            "text/plain": [
              "VBox(children=(Label(value='Waiting for wandb.init()...\\r'), FloatProgress(value=0.016666666666666666, max=1.0…"
            ]
          },
          "metadata": {},
          "output_type": "display_data"
        },
        {
          "data": {
            "text/html": [
              "Tracking run with wandb version 0.13.5"
            ],
            "text/plain": [
              "<IPython.core.display.HTML object>"
            ]
          },
          "metadata": {},
          "output_type": "display_data"
        },
        {
          "data": {
            "text/html": [
              "Run data is saved locally in <code>C:\\Users\\Rajesh\\wandb\\run-20221110_140758-38h98sq1</code>"
            ],
            "text/plain": [
              "<IPython.core.display.HTML object>"
            ]
          },
          "metadata": {},
          "output_type": "display_data"
        },
        {
          "data": {
            "text/html": [
              "Syncing run <strong><a href=\"https://wandb.ai/rajeshtr/car_resale_value/runs/38h98sq1\" target=\"_blank\">vocal-sweep-1</a></strong> to <a href=\"https://wandb.ai/rajeshtr/car_resale_value\" target=\"_blank\">Weights & Biases</a> (<a href=\"https://wandb.me/run\" target=\"_blank\">docs</a>)<br/>Sweep page:  <a href=\"https://wandb.ai/rajeshtr/car_resale_value/sweeps/b30glh4n\" target=\"_blank\">https://wandb.ai/rajeshtr/car_resale_value/sweeps/b30glh4n</a>"
            ],
            "text/plain": [
              "<IPython.core.display.HTML object>"
            ]
          },
          "metadata": {},
          "output_type": "display_data"
        },
        {
          "name": "stderr",
          "output_type": "stream",
          "text": [
            "C:\\Users\\Rajesh\\anaconda3\\lib\\site-packages\\sklearn\\utils\\validation.py:993: DataConversionWarning: A column-vector y was passed when a 1d array was expected. Please change the shape of y to (n_samples, ), for example using ravel().\n",
            "  y = column_or_1d(y, warn=True)\n"
          ]
        },
        {
          "data": {
            "text/html": [
              "Waiting for W&B process to finish... <strong style=\"color:green\">(success).</strong>"
            ],
            "text/plain": [
              "<IPython.core.display.HTML object>"
            ]
          },
          "metadata": {},
          "output_type": "display_data"
        },
        {
          "data": {
            "text/html": [
              "<style>\n",
              "    table.wandb td:nth-child(1) { padding: 0 10px; text-align: left ; width: auto;} td:nth-child(2) {text-align: left ; width: 100%}\n",
              "    .wandb-row { display: flex; flex-direction: row; flex-wrap: wrap; justify-content: flex-start; width: 100% }\n",
              "    .wandb-col { display: flex; flex-direction: column; flex-basis: 100%; flex: 1; padding: 10px; }\n",
              "    </style>\n",
              "<div class=\"wandb-row\"><div class=\"wandb-col\"><h3>Run history:</h3><br/><table class=\"wandb\"><tr><td>adj_r2</td><td>▁</td></tr><tr><td>mae</td><td>▁</td></tr><tr><td>mse</td><td>▁</td></tr><tr><td>r2</td><td>▁</td></tr><tr><td>rmse</td><td>▁</td></tr><tr><td>rmsle</td><td>▁</td></tr></table><br/></div><div class=\"wandb-col\"><h3>Run summary:</h3><br/><table class=\"wandb\"><tr><td>adj_r2</td><td>0.63522</td></tr><tr><td>mae</td><td>2868.23264</td></tr><tr><td>mse</td><td>26000513.79616</td></tr><tr><td>r2</td><td>0.63524</td></tr><tr><td>rmse</td><td>5099.0699</td></tr><tr><td>rmsle</td><td>8.53681</td></tr></table><br/></div></div>"
            ],
            "text/plain": [
              "<IPython.core.display.HTML object>"
            ]
          },
          "metadata": {},
          "output_type": "display_data"
        },
        {
          "data": {
            "text/html": [
              "Synced <strong style=\"color:#cdcd00\">vocal-sweep-1</strong>: <a href=\"https://wandb.ai/rajeshtr/car_resale_value/runs/38h98sq1\" target=\"_blank\">https://wandb.ai/rajeshtr/car_resale_value/runs/38h98sq1</a><br/>Synced 6 W&B file(s), 0 media file(s), 0 artifact file(s) and 0 other file(s)"
            ],
            "text/plain": [
              "<IPython.core.display.HTML object>"
            ]
          },
          "metadata": {},
          "output_type": "display_data"
        },
        {
          "data": {
            "text/html": [
              "Find logs at: <code>.\\wandb\\run-20221110_140758-38h98sq1\\logs</code>"
            ],
            "text/plain": [
              "<IPython.core.display.HTML object>"
            ]
          },
          "metadata": {},
          "output_type": "display_data"
        },
        {
          "name": "stderr",
          "output_type": "stream",
          "text": [
            "\u001b[34m\u001b[1mwandb\u001b[0m: Agent Starting Run: 1ybay1vn with config:\n",
            "\u001b[34m\u001b[1mwandb\u001b[0m: \tboosting_type: gbdt\n",
            "\u001b[34m\u001b[1mwandb\u001b[0m: \tlearning_rate: 0.01\n",
            "\u001b[34m\u001b[1mwandb\u001b[0m: \tmetric: rmse\n",
            "\u001b[34m\u001b[1mwandb\u001b[0m: \tn_estimators: 200\n",
            "\u001b[34m\u001b[1mwandb\u001b[0m: \tobjective: root_mean_squared_error\n",
            "\u001b[34m\u001b[1mwandb\u001b[0m: \trandom_state: 42\n",
            "\u001b[34m\u001b[1mwandb\u001b[0m: \treg_sqrt: True\n"
          ]
        },
        {
          "data": {
            "application/vnd.jupyter.widget-view+json": {
              "model_id": "8ccfd46801d3433e8f877dd6635dcf2b",
              "version_major": 2,
              "version_minor": 0
            },
            "text/plain": [
              "VBox(children=(Label(value='Waiting for wandb.init()...\\r'), FloatProgress(value=0.01693333333435779, max=1.0)…"
            ]
          },
          "metadata": {},
          "output_type": "display_data"
        },
        {
          "data": {
            "text/html": [
              "Tracking run with wandb version 0.13.5"
            ],
            "text/plain": [
              "<IPython.core.display.HTML object>"
            ]
          },
          "metadata": {},
          "output_type": "display_data"
        },
        {
          "data": {
            "text/html": [
              "Run data is saved locally in <code>C:\\Users\\Rajesh\\wandb\\run-20221110_140901-1ybay1vn</code>"
            ],
            "text/plain": [
              "<IPython.core.display.HTML object>"
            ]
          },
          "metadata": {},
          "output_type": "display_data"
        },
        {
          "data": {
            "text/html": [
              "Syncing run <strong><a href=\"https://wandb.ai/rajeshtr/car_resale_value/runs/1ybay1vn\" target=\"_blank\">fresh-sweep-2</a></strong> to <a href=\"https://wandb.ai/rajeshtr/car_resale_value\" target=\"_blank\">Weights & Biases</a> (<a href=\"https://wandb.me/run\" target=\"_blank\">docs</a>)<br/>Sweep page:  <a href=\"https://wandb.ai/rajeshtr/car_resale_value/sweeps/b30glh4n\" target=\"_blank\">https://wandb.ai/rajeshtr/car_resale_value/sweeps/b30glh4n</a>"
            ],
            "text/plain": [
              "<IPython.core.display.HTML object>"
            ]
          },
          "metadata": {},
          "output_type": "display_data"
        },
        {
          "name": "stderr",
          "output_type": "stream",
          "text": [
            "C:\\Users\\Rajesh\\anaconda3\\lib\\site-packages\\sklearn\\utils\\validation.py:993: DataConversionWarning: A column-vector y was passed when a 1d array was expected. Please change the shape of y to (n_samples, ), for example using ravel().\n",
            "  y = column_or_1d(y, warn=True)\n"
          ]
        },
        {
          "data": {
            "text/html": [
              "Waiting for W&B process to finish... <strong style=\"color:green\">(success).</strong>"
            ],
            "text/plain": [
              "<IPython.core.display.HTML object>"
            ]
          },
          "metadata": {},
          "output_type": "display_data"
        },
        {
          "data": {
            "text/html": [
              "<style>\n",
              "    table.wandb td:nth-child(1) { padding: 0 10px; text-align: left ; width: auto;} td:nth-child(2) {text-align: left ; width: 100%}\n",
              "    .wandb-row { display: flex; flex-direction: row; flex-wrap: wrap; justify-content: flex-start; width: 100% }\n",
              "    .wandb-col { display: flex; flex-direction: column; flex-basis: 100%; flex: 1; padding: 10px; }\n",
              "    </style>\n",
              "<div class=\"wandb-row\"><div class=\"wandb-col\"><h3>Run history:</h3><br/><table class=\"wandb\"><tr><td>adj_r2</td><td>▁</td></tr><tr><td>mae</td><td>▁</td></tr><tr><td>mse</td><td>▁</td></tr><tr><td>r2</td><td>▁</td></tr><tr><td>rmse</td><td>▁</td></tr><tr><td>rmsle</td><td>▁</td></tr></table><br/></div><div class=\"wandb-col\"><h3>Run summary:</h3><br/><table class=\"wandb\"><tr><td>adj_r2</td><td>0.7705</td></tr><tr><td>mae</td><td>2085.96387</td></tr><tr><td>mse</td><td>16358084.55903</td></tr><tr><td>r2</td><td>0.77052</td></tr><tr><td>rmse</td><td>4044.5129</td></tr><tr><td>rmsle</td><td>8.30512</td></tr></table><br/></div></div>"
            ],
            "text/plain": [
              "<IPython.core.display.HTML object>"
            ]
          },
          "metadata": {},
          "output_type": "display_data"
        },
        {
          "data": {
            "text/html": [
              "Synced <strong style=\"color:#cdcd00\">fresh-sweep-2</strong>: <a href=\"https://wandb.ai/rajeshtr/car_resale_value/runs/1ybay1vn\" target=\"_blank\">https://wandb.ai/rajeshtr/car_resale_value/runs/1ybay1vn</a><br/>Synced 6 W&B file(s), 0 media file(s), 0 artifact file(s) and 0 other file(s)"
            ],
            "text/plain": [
              "<IPython.core.display.HTML object>"
            ]
          },
          "metadata": {},
          "output_type": "display_data"
        },
        {
          "data": {
            "text/html": [
              "Find logs at: <code>.\\wandb\\run-20221110_140901-1ybay1vn\\logs</code>"
            ],
            "text/plain": [
              "<IPython.core.display.HTML object>"
            ]
          },
          "metadata": {},
          "output_type": "display_data"
        },
        {
          "name": "stderr",
          "output_type": "stream",
          "text": [
            "\u001b[34m\u001b[1mwandb\u001b[0m: Sweep Agent: Waiting for job.\n",
            "\u001b[34m\u001b[1mwandb\u001b[0m: Job received.\n",
            "\u001b[34m\u001b[1mwandb\u001b[0m: Agent Starting Run: e1lcrzj6 with config:\n",
            "\u001b[34m\u001b[1mwandb\u001b[0m: \tboosting_type: gbdt\n",
            "\u001b[34m\u001b[1mwandb\u001b[0m: \tlearning_rate: 0.01\n",
            "\u001b[34m\u001b[1mwandb\u001b[0m: \tmetric: rmse\n",
            "\u001b[34m\u001b[1mwandb\u001b[0m: \tn_estimators: 300\n",
            "\u001b[34m\u001b[1mwandb\u001b[0m: \tobjective: root_mean_squared_error\n",
            "\u001b[34m\u001b[1mwandb\u001b[0m: \trandom_state: 42\n",
            "\u001b[34m\u001b[1mwandb\u001b[0m: \treg_sqrt: True\n"
          ]
        },
        {
          "data": {
            "application/vnd.jupyter.widget-view+json": {
              "model_id": "48ad4e692a454ac48a2707f15e7fa376",
              "version_major": 2,
              "version_minor": 0
            },
            "text/plain": [
              "VBox(children=(Label(value='Waiting for wandb.init()...\\r'), FloatProgress(value=0.01693333333435779, max=1.0)…"
            ]
          },
          "metadata": {},
          "output_type": "display_data"
        },
        {
          "data": {
            "text/html": [
              "Tracking run with wandb version 0.13.5"
            ],
            "text/plain": [
              "<IPython.core.display.HTML object>"
            ]
          },
          "metadata": {},
          "output_type": "display_data"
        },
        {
          "data": {
            "text/html": [
              "Run data is saved locally in <code>C:\\Users\\Rajesh\\wandb\\run-20221110_141538-e1lcrzj6</code>"
            ],
            "text/plain": [
              "<IPython.core.display.HTML object>"
            ]
          },
          "metadata": {},
          "output_type": "display_data"
        },
        {
          "data": {
            "text/html": [
              "Syncing run <strong><a href=\"https://wandb.ai/rajeshtr/car_resale_value/runs/e1lcrzj6\" target=\"_blank\">treasured-sweep-3</a></strong> to <a href=\"https://wandb.ai/rajeshtr/car_resale_value\" target=\"_blank\">Weights & Biases</a> (<a href=\"https://wandb.me/run\" target=\"_blank\">docs</a>)<br/>Sweep page:  <a href=\"https://wandb.ai/rajeshtr/car_resale_value/sweeps/b30glh4n\" target=\"_blank\">https://wandb.ai/rajeshtr/car_resale_value/sweeps/b30glh4n</a>"
            ],
            "text/plain": [
              "<IPython.core.display.HTML object>"
            ]
          },
          "metadata": {},
          "output_type": "display_data"
        },
        {
          "name": "stderr",
          "output_type": "stream",
          "text": [
            "C:\\Users\\Rajesh\\anaconda3\\lib\\site-packages\\sklearn\\utils\\validation.py:993: DataConversionWarning: A column-vector y was passed when a 1d array was expected. Please change the shape of y to (n_samples, ), for example using ravel().\n",
            "  y = column_or_1d(y, warn=True)\n"
          ]
        },
        {
          "data": {
            "text/html": [
              "Waiting for W&B process to finish... <strong style=\"color:green\">(success).</strong>"
            ],
            "text/plain": [
              "<IPython.core.display.HTML object>"
            ]
          },
          "metadata": {},
          "output_type": "display_data"
        },
        {
          "data": {
            "text/html": [
              "<style>\n",
              "    table.wandb td:nth-child(1) { padding: 0 10px; text-align: left ; width: auto;} td:nth-child(2) {text-align: left ; width: 100%}\n",
              "    .wandb-row { display: flex; flex-direction: row; flex-wrap: wrap; justify-content: flex-start; width: 100% }\n",
              "    .wandb-col { display: flex; flex-direction: column; flex-basis: 100%; flex: 1; padding: 10px; }\n",
              "    </style>\n",
              "<div class=\"wandb-row\"><div class=\"wandb-col\"><h3>Run history:</h3><br/><table class=\"wandb\"><tr><td>adj_r2</td><td>▁</td></tr><tr><td>mae</td><td>▁</td></tr><tr><td>mse</td><td>▁</td></tr><tr><td>r2</td><td>▁</td></tr><tr><td>rmse</td><td>▁</td></tr><tr><td>rmsle</td><td>▁</td></tr></table><br/></div><div class=\"wandb-col\"><h3>Run summary:</h3><br/><table class=\"wandb\"><tr><td>adj_r2</td><td>0.81645</td></tr><tr><td>mae</td><td>1759.82706</td></tr><tr><td>mse</td><td>13082914.16355</td></tr><tr><td>r2</td><td>0.81646</td></tr><tr><td>rmse</td><td>3617.03113</td></tr><tr><td>rmsle</td><td>8.19341</td></tr></table><br/></div></div>"
            ],
            "text/plain": [
              "<IPython.core.display.HTML object>"
            ]
          },
          "metadata": {},
          "output_type": "display_data"
        },
        {
          "data": {
            "text/html": [
              "Synced <strong style=\"color:#cdcd00\">treasured-sweep-3</strong>: <a href=\"https://wandb.ai/rajeshtr/car_resale_value/runs/e1lcrzj6\" target=\"_blank\">https://wandb.ai/rajeshtr/car_resale_value/runs/e1lcrzj6</a><br/>Synced 6 W&B file(s), 0 media file(s), 0 artifact file(s) and 0 other file(s)"
            ],
            "text/plain": [
              "<IPython.core.display.HTML object>"
            ]
          },
          "metadata": {},
          "output_type": "display_data"
        },
        {
          "data": {
            "text/html": [
              "Find logs at: <code>.\\wandb\\run-20221110_141538-e1lcrzj6\\logs</code>"
            ],
            "text/plain": [
              "<IPython.core.display.HTML object>"
            ]
          },
          "metadata": {},
          "output_type": "display_data"
        },
        {
          "name": "stderr",
          "output_type": "stream",
          "text": [
            "\u001b[34m\u001b[1mwandb\u001b[0m: Sweep Agent: Waiting for job.\n",
            "\u001b[34m\u001b[1mwandb\u001b[0m: Job received.\n",
            "\u001b[34m\u001b[1mwandb\u001b[0m: Agent Starting Run: nrlq3d8p with config:\n",
            "\u001b[34m\u001b[1mwandb\u001b[0m: \tboosting_type: gbdt\n",
            "\u001b[34m\u001b[1mwandb\u001b[0m: \tlearning_rate: 0.03\n",
            "\u001b[34m\u001b[1mwandb\u001b[0m: \tmetric: rmse\n",
            "\u001b[34m\u001b[1mwandb\u001b[0m: \tn_estimators: 100\n",
            "\u001b[34m\u001b[1mwandb\u001b[0m: \tobjective: root_mean_squared_error\n",
            "\u001b[34m\u001b[1mwandb\u001b[0m: \trandom_state: 42\n",
            "\u001b[34m\u001b[1mwandb\u001b[0m: \treg_sqrt: True\n"
          ]
        },
        {
          "data": {
            "application/vnd.jupyter.widget-view+json": {
              "model_id": "be34abb6762d43888f5360cfd8ab77c8",
              "version_major": 2,
              "version_minor": 0
            },
            "text/plain": [
              "VBox(children=(Label(value='Waiting for wandb.init()...\\r'), FloatProgress(value=0.016666666666666666, max=1.0…"
            ]
          },
          "metadata": {},
          "output_type": "display_data"
        },
        {
          "data": {
            "text/html": [
              "Tracking run with wandb version 0.13.5"
            ],
            "text/plain": [
              "<IPython.core.display.HTML object>"
            ]
          },
          "metadata": {},
          "output_type": "display_data"
        },
        {
          "data": {
            "text/html": [
              "Run data is saved locally in <code>C:\\Users\\Rajesh\\wandb\\run-20221110_141642-nrlq3d8p</code>"
            ],
            "text/plain": [
              "<IPython.core.display.HTML object>"
            ]
          },
          "metadata": {},
          "output_type": "display_data"
        },
        {
          "data": {
            "text/html": [
              "Syncing run <strong><a href=\"https://wandb.ai/rajeshtr/car_resale_value/runs/nrlq3d8p\" target=\"_blank\">brisk-sweep-4</a></strong> to <a href=\"https://wandb.ai/rajeshtr/car_resale_value\" target=\"_blank\">Weights & Biases</a> (<a href=\"https://wandb.me/run\" target=\"_blank\">docs</a>)<br/>Sweep page:  <a href=\"https://wandb.ai/rajeshtr/car_resale_value/sweeps/b30glh4n\" target=\"_blank\">https://wandb.ai/rajeshtr/car_resale_value/sweeps/b30glh4n</a>"
            ],
            "text/plain": [
              "<IPython.core.display.HTML object>"
            ]
          },
          "metadata": {},
          "output_type": "display_data"
        },
        {
          "name": "stderr",
          "output_type": "stream",
          "text": [
            "C:\\Users\\Rajesh\\anaconda3\\lib\\site-packages\\sklearn\\utils\\validation.py:993: DataConversionWarning: A column-vector y was passed when a 1d array was expected. Please change the shape of y to (n_samples, ), for example using ravel().\n",
            "  y = column_or_1d(y, warn=True)\n"
          ]
        },
        {
          "data": {
            "text/html": [
              "Waiting for W&B process to finish... <strong style=\"color:green\">(success).</strong>"
            ],
            "text/plain": [
              "<IPython.core.display.HTML object>"
            ]
          },
          "metadata": {},
          "output_type": "display_data"
        },
        {
          "data": {
            "text/html": [
              "<style>\n",
              "    table.wandb td:nth-child(1) { padding: 0 10px; text-align: left ; width: auto;} td:nth-child(2) {text-align: left ; width: 100%}\n",
              "    .wandb-row { display: flex; flex-direction: row; flex-wrap: wrap; justify-content: flex-start; width: 100% }\n",
              "    .wandb-col { display: flex; flex-direction: column; flex-basis: 100%; flex: 1; padding: 10px; }\n",
              "    </style>\n",
              "<div class=\"wandb-row\"><div class=\"wandb-col\"><h3>Run history:</h3><br/><table class=\"wandb\"><tr><td>adj_r2</td><td>▁</td></tr><tr><td>mae</td><td>▁</td></tr><tr><td>mse</td><td>▁</td></tr><tr><td>r2</td><td>▁</td></tr><tr><td>rmse</td><td>▁</td></tr><tr><td>rmsle</td><td>▁</td></tr></table><br/></div><div class=\"wandb-col\"><h3>Run summary:</h3><br/><table class=\"wandb\"><tr><td>adj_r2</td><td>0.81665</td></tr><tr><td>mae</td><td>1754.95412</td></tr><tr><td>mse</td><td>13068726.24592</td></tr><tr><td>r2</td><td>0.81666</td></tr><tr><td>rmse</td><td>3615.06933</td></tr><tr><td>rmsle</td><td>8.19287</td></tr></table><br/></div></div>"
            ],
            "text/plain": [
              "<IPython.core.display.HTML object>"
            ]
          },
          "metadata": {},
          "output_type": "display_data"
        },
        {
          "data": {
            "text/html": [
              "Synced <strong style=\"color:#cdcd00\">brisk-sweep-4</strong>: <a href=\"https://wandb.ai/rajeshtr/car_resale_value/runs/nrlq3d8p\" target=\"_blank\">https://wandb.ai/rajeshtr/car_resale_value/runs/nrlq3d8p</a><br/>Synced 6 W&B file(s), 0 media file(s), 0 artifact file(s) and 0 other file(s)"
            ],
            "text/plain": [
              "<IPython.core.display.HTML object>"
            ]
          },
          "metadata": {},
          "output_type": "display_data"
        },
        {
          "data": {
            "text/html": [
              "Find logs at: <code>.\\wandb\\run-20221110_141642-nrlq3d8p\\logs</code>"
            ],
            "text/plain": [
              "<IPython.core.display.HTML object>"
            ]
          },
          "metadata": {},
          "output_type": "display_data"
        },
        {
          "name": "stderr",
          "output_type": "stream",
          "text": [
            "\u001b[34m\u001b[1mwandb\u001b[0m: Agent Starting Run: ibla7pjr with config:\n",
            "\u001b[34m\u001b[1mwandb\u001b[0m: \tboosting_type: gbdt\n",
            "\u001b[34m\u001b[1mwandb\u001b[0m: \tlearning_rate: 0.03\n",
            "\u001b[34m\u001b[1mwandb\u001b[0m: \tmetric: rmse\n",
            "\u001b[34m\u001b[1mwandb\u001b[0m: \tn_estimators: 200\n",
            "\u001b[34m\u001b[1mwandb\u001b[0m: \tobjective: root_mean_squared_error\n",
            "\u001b[34m\u001b[1mwandb\u001b[0m: \trandom_state: 42\n",
            "\u001b[34m\u001b[1mwandb\u001b[0m: \treg_sqrt: True\n"
          ]
        },
        {
          "data": {
            "application/vnd.jupyter.widget-view+json": {
              "model_id": "665f963c49a34a2488309a869b5481c6",
              "version_major": 2,
              "version_minor": 0
            },
            "text/plain": [
              "VBox(children=(Label(value='Waiting for wandb.init()...\\r'), FloatProgress(value=0.016666666666666666, max=1.0…"
            ]
          },
          "metadata": {},
          "output_type": "display_data"
        },
        {
          "data": {
            "text/html": [
              "Tracking run with wandb version 0.13.5"
            ],
            "text/plain": [
              "<IPython.core.display.HTML object>"
            ]
          },
          "metadata": {},
          "output_type": "display_data"
        },
        {
          "data": {
            "text/html": [
              "Run data is saved locally in <code>C:\\Users\\Rajesh\\wandb\\run-20221110_141725-ibla7pjr</code>"
            ],
            "text/plain": [
              "<IPython.core.display.HTML object>"
            ]
          },
          "metadata": {},
          "output_type": "display_data"
        },
        {
          "data": {
            "text/html": [
              "Syncing run <strong><a href=\"https://wandb.ai/rajeshtr/car_resale_value/runs/ibla7pjr\" target=\"_blank\">decent-sweep-5</a></strong> to <a href=\"https://wandb.ai/rajeshtr/car_resale_value\" target=\"_blank\">Weights & Biases</a> (<a href=\"https://wandb.me/run\" target=\"_blank\">docs</a>)<br/>Sweep page:  <a href=\"https://wandb.ai/rajeshtr/car_resale_value/sweeps/b30glh4n\" target=\"_blank\">https://wandb.ai/rajeshtr/car_resale_value/sweeps/b30glh4n</a>"
            ],
            "text/plain": [
              "<IPython.core.display.HTML object>"
            ]
          },
          "metadata": {},
          "output_type": "display_data"
        },
        {
          "name": "stderr",
          "output_type": "stream",
          "text": [
            "C:\\Users\\Rajesh\\anaconda3\\lib\\site-packages\\sklearn\\utils\\validation.py:993: DataConversionWarning: A column-vector y was passed when a 1d array was expected. Please change the shape of y to (n_samples, ), for example using ravel().\n",
            "  y = column_or_1d(y, warn=True)\n"
          ]
        },
        {
          "data": {
            "text/html": [
              "Waiting for W&B process to finish... <strong style=\"color:green\">(success).</strong>"
            ],
            "text/plain": [
              "<IPython.core.display.HTML object>"
            ]
          },
          "metadata": {},
          "output_type": "display_data"
        },
        {
          "data": {
            "text/html": [
              "<style>\n",
              "    table.wandb td:nth-child(1) { padding: 0 10px; text-align: left ; width: auto;} td:nth-child(2) {text-align: left ; width: 100%}\n",
              "    .wandb-row { display: flex; flex-direction: row; flex-wrap: wrap; justify-content: flex-start; width: 100% }\n",
              "    .wandb-col { display: flex; flex-direction: column; flex-basis: 100%; flex: 1; padding: 10px; }\n",
              "    </style>\n",
              "<div class=\"wandb-row\"><div class=\"wandb-col\"><h3>Run history:</h3><br/><table class=\"wandb\"><tr><td>adj_r2</td><td>▁</td></tr><tr><td>mae</td><td>▁</td></tr><tr><td>mse</td><td>▁</td></tr><tr><td>r2</td><td>▁</td></tr><tr><td>rmse</td><td>▁</td></tr><tr><td>rmsle</td><td>▁</td></tr></table><br/></div><div class=\"wandb-col\"><h3>Run summary:</h3><br/><table class=\"wandb\"><tr><td>adj_r2</td><td>0.85067</td></tr><tr><td>mae</td><td>1495.09347</td></tr><tr><td>mse</td><td>10643875.82927</td></tr><tr><td>r2</td><td>0.85068</td></tr><tr><td>rmse</td><td>3262.49534</td></tr><tr><td>rmsle</td><td>8.09025</td></tr></table><br/></div></div>"
            ],
            "text/plain": [
              "<IPython.core.display.HTML object>"
            ]
          },
          "metadata": {},
          "output_type": "display_data"
        },
        {
          "data": {
            "text/html": [
              "Synced <strong style=\"color:#cdcd00\">decent-sweep-5</strong>: <a href=\"https://wandb.ai/rajeshtr/car_resale_value/runs/ibla7pjr\" target=\"_blank\">https://wandb.ai/rajeshtr/car_resale_value/runs/ibla7pjr</a><br/>Synced 6 W&B file(s), 0 media file(s), 0 artifact file(s) and 0 other file(s)"
            ],
            "text/plain": [
              "<IPython.core.display.HTML object>"
            ]
          },
          "metadata": {},
          "output_type": "display_data"
        },
        {
          "data": {
            "text/html": [
              "Find logs at: <code>.\\wandb\\run-20221110_141725-ibla7pjr\\logs</code>"
            ],
            "text/plain": [
              "<IPython.core.display.HTML object>"
            ]
          },
          "metadata": {},
          "output_type": "display_data"
        },
        {
          "name": "stderr",
          "output_type": "stream",
          "text": [
            "\u001b[34m\u001b[1mwandb\u001b[0m: Agent Starting Run: ez04vt8j with config:\n",
            "\u001b[34m\u001b[1mwandb\u001b[0m: \tboosting_type: gbdt\n",
            "\u001b[34m\u001b[1mwandb\u001b[0m: \tlearning_rate: 0.03\n",
            "\u001b[34m\u001b[1mwandb\u001b[0m: \tmetric: rmse\n",
            "\u001b[34m\u001b[1mwandb\u001b[0m: \tn_estimators: 300\n",
            "\u001b[34m\u001b[1mwandb\u001b[0m: \tobjective: root_mean_squared_error\n",
            "\u001b[34m\u001b[1mwandb\u001b[0m: \trandom_state: 42\n",
            "\u001b[34m\u001b[1mwandb\u001b[0m: \treg_sqrt: True\n"
          ]
        },
        {
          "data": {
            "application/vnd.jupyter.widget-view+json": {
              "model_id": "0ff2f61ce09f4e6986a00bcbc4d34513",
              "version_major": 2,
              "version_minor": 0
            },
            "text/plain": [
              "VBox(children=(Label(value='Waiting for wandb.init()...\\r'), FloatProgress(value=0.016666666666666666, max=1.0…"
            ]
          },
          "metadata": {},
          "output_type": "display_data"
        },
        {
          "data": {
            "text/html": [
              "Tracking run with wandb version 0.13.5"
            ],
            "text/plain": [
              "<IPython.core.display.HTML object>"
            ]
          },
          "metadata": {},
          "output_type": "display_data"
        },
        {
          "data": {
            "text/html": [
              "Run data is saved locally in <code>C:\\Users\\Rajesh\\wandb\\run-20221110_141805-ez04vt8j</code>"
            ],
            "text/plain": [
              "<IPython.core.display.HTML object>"
            ]
          },
          "metadata": {},
          "output_type": "display_data"
        },
        {
          "data": {
            "text/html": [
              "Syncing run <strong><a href=\"https://wandb.ai/rajeshtr/car_resale_value/runs/ez04vt8j\" target=\"_blank\">tough-sweep-6</a></strong> to <a href=\"https://wandb.ai/rajeshtr/car_resale_value\" target=\"_blank\">Weights & Biases</a> (<a href=\"https://wandb.me/run\" target=\"_blank\">docs</a>)<br/>Sweep page:  <a href=\"https://wandb.ai/rajeshtr/car_resale_value/sweeps/b30glh4n\" target=\"_blank\">https://wandb.ai/rajeshtr/car_resale_value/sweeps/b30glh4n</a>"
            ],
            "text/plain": [
              "<IPython.core.display.HTML object>"
            ]
          },
          "metadata": {},
          "output_type": "display_data"
        },
        {
          "name": "stderr",
          "output_type": "stream",
          "text": [
            "C:\\Users\\Rajesh\\anaconda3\\lib\\site-packages\\sklearn\\utils\\validation.py:993: DataConversionWarning: A column-vector y was passed when a 1d array was expected. Please change the shape of y to (n_samples, ), for example using ravel().\n",
            "  y = column_or_1d(y, warn=True)\n"
          ]
        },
        {
          "data": {
            "text/html": [
              "Waiting for W&B process to finish... <strong style=\"color:green\">(success).</strong>"
            ],
            "text/plain": [
              "<IPython.core.display.HTML object>"
            ]
          },
          "metadata": {},
          "output_type": "display_data"
        },
        {
          "data": {
            "text/html": [
              "<style>\n",
              "    table.wandb td:nth-child(1) { padding: 0 10px; text-align: left ; width: auto;} td:nth-child(2) {text-align: left ; width: 100%}\n",
              "    .wandb-row { display: flex; flex-direction: row; flex-wrap: wrap; justify-content: flex-start; width: 100% }\n",
              "    .wandb-col { display: flex; flex-direction: column; flex-basis: 100%; flex: 1; padding: 10px; }\n",
              "    </style>\n",
              "<div class=\"wandb-row\"><div class=\"wandb-col\"><h3>Run history:</h3><br/><table class=\"wandb\"><tr><td>adj_r2</td><td>▁</td></tr><tr><td>mae</td><td>▁</td></tr><tr><td>mse</td><td>▁</td></tr><tr><td>r2</td><td>▁</td></tr><tr><td>rmse</td><td>▁</td></tr><tr><td>rmsle</td><td>▁</td></tr></table><br/></div><div class=\"wandb-col\"><h3>Run summary:</h3><br/><table class=\"wandb\"><tr><td>adj_r2</td><td>0.85858</td></tr><tr><td>mae</td><td>1439.8065</td></tr><tr><td>mse</td><td>10080191.14825</td></tr><tr><td>r2</td><td>0.85859</td></tr><tr><td>rmse</td><td>3174.93168</td></tr><tr><td>rmsle</td><td>8.06304</td></tr></table><br/></div></div>"
            ],
            "text/plain": [
              "<IPython.core.display.HTML object>"
            ]
          },
          "metadata": {},
          "output_type": "display_data"
        },
        {
          "data": {
            "text/html": [
              "Synced <strong style=\"color:#cdcd00\">tough-sweep-6</strong>: <a href=\"https://wandb.ai/rajeshtr/car_resale_value/runs/ez04vt8j\" target=\"_blank\">https://wandb.ai/rajeshtr/car_resale_value/runs/ez04vt8j</a><br/>Synced 6 W&B file(s), 0 media file(s), 0 artifact file(s) and 0 other file(s)"
            ],
            "text/plain": [
              "<IPython.core.display.HTML object>"
            ]
          },
          "metadata": {},
          "output_type": "display_data"
        },
        {
          "data": {
            "text/html": [
              "Find logs at: <code>.\\wandb\\run-20221110_141805-ez04vt8j\\logs</code>"
            ],
            "text/plain": [
              "<IPython.core.display.HTML object>"
            ]
          },
          "metadata": {},
          "output_type": "display_data"
        },
        {
          "name": "stderr",
          "output_type": "stream",
          "text": [
            "\u001b[34m\u001b[1mwandb\u001b[0m: Agent Starting Run: ybmhcrjj with config:\n",
            "\u001b[34m\u001b[1mwandb\u001b[0m: \tboosting_type: gbdt\n",
            "\u001b[34m\u001b[1mwandb\u001b[0m: \tlearning_rate: 0.05\n",
            "\u001b[34m\u001b[1mwandb\u001b[0m: \tmetric: rmse\n",
            "\u001b[34m\u001b[1mwandb\u001b[0m: \tn_estimators: 100\n",
            "\u001b[34m\u001b[1mwandb\u001b[0m: \tobjective: root_mean_squared_error\n",
            "\u001b[34m\u001b[1mwandb\u001b[0m: \trandom_state: 42\n",
            "\u001b[34m\u001b[1mwandb\u001b[0m: \treg_sqrt: True\n"
          ]
        },
        {
          "data": {
            "application/vnd.jupyter.widget-view+json": {
              "model_id": "ace8dfce4f684ac8baa855691eb5020e",
              "version_major": 2,
              "version_minor": 0
            },
            "text/plain": [
              "VBox(children=(Label(value='Waiting for wandb.init()...\\r'), FloatProgress(value=0.016933333330477276, max=1.0…"
            ]
          },
          "metadata": {},
          "output_type": "display_data"
        },
        {
          "data": {
            "text/html": [
              "Tracking run with wandb version 0.13.5"
            ],
            "text/plain": [
              "<IPython.core.display.HTML object>"
            ]
          },
          "metadata": {},
          "output_type": "display_data"
        },
        {
          "data": {
            "text/html": [
              "Run data is saved locally in <code>C:\\Users\\Rajesh\\wandb\\run-20221110_141853-ybmhcrjj</code>"
            ],
            "text/plain": [
              "<IPython.core.display.HTML object>"
            ]
          },
          "metadata": {},
          "output_type": "display_data"
        },
        {
          "data": {
            "text/html": [
              "Syncing run <strong><a href=\"https://wandb.ai/rajeshtr/car_resale_value/runs/ybmhcrjj\" target=\"_blank\">vital-sweep-7</a></strong> to <a href=\"https://wandb.ai/rajeshtr/car_resale_value\" target=\"_blank\">Weights & Biases</a> (<a href=\"https://wandb.me/run\" target=\"_blank\">docs</a>)<br/>Sweep page:  <a href=\"https://wandb.ai/rajeshtr/car_resale_value/sweeps/b30glh4n\" target=\"_blank\">https://wandb.ai/rajeshtr/car_resale_value/sweeps/b30glh4n</a>"
            ],
            "text/plain": [
              "<IPython.core.display.HTML object>"
            ]
          },
          "metadata": {},
          "output_type": "display_data"
        },
        {
          "name": "stderr",
          "output_type": "stream",
          "text": [
            "C:\\Users\\Rajesh\\anaconda3\\lib\\site-packages\\sklearn\\utils\\validation.py:993: DataConversionWarning: A column-vector y was passed when a 1d array was expected. Please change the shape of y to (n_samples, ), for example using ravel().\n",
            "  y = column_or_1d(y, warn=True)\n"
          ]
        },
        {
          "data": {
            "text/html": [
              "Waiting for W&B process to finish... <strong style=\"color:green\">(success).</strong>"
            ],
            "text/plain": [
              "<IPython.core.display.HTML object>"
            ]
          },
          "metadata": {},
          "output_type": "display_data"
        },
        {
          "data": {
            "text/html": [
              "<style>\n",
              "    table.wandb td:nth-child(1) { padding: 0 10px; text-align: left ; width: auto;} td:nth-child(2) {text-align: left ; width: 100%}\n",
              "    .wandb-row { display: flex; flex-direction: row; flex-wrap: wrap; justify-content: flex-start; width: 100% }\n",
              "    .wandb-col { display: flex; flex-direction: column; flex-basis: 100%; flex: 1; padding: 10px; }\n",
              "    </style>\n",
              "<div class=\"wandb-row\"><div class=\"wandb-col\"><h3>Run history:</h3><br/><table class=\"wandb\"><tr><td>adj_r2</td><td>▁</td></tr><tr><td>mae</td><td>▁</td></tr><tr><td>mse</td><td>▁</td></tr><tr><td>r2</td><td>▁</td></tr><tr><td>rmse</td><td>▁</td></tr><tr><td>rmsle</td><td>▁</td></tr></table><br/></div><div class=\"wandb-col\"><h3>Run summary:</h3><br/><table class=\"wandb\"><tr><td>adj_r2</td><td>0.84626</td></tr><tr><td>mae</td><td>1530.49088</td></tr><tr><td>mse</td><td>10957978.66601</td></tr><tr><td>r2</td><td>0.84627</td></tr><tr><td>rmse</td><td>3310.28377</td></tr><tr><td>rmsle</td><td>8.10479</td></tr></table><br/></div></div>"
            ],
            "text/plain": [
              "<IPython.core.display.HTML object>"
            ]
          },
          "metadata": {},
          "output_type": "display_data"
        },
        {
          "data": {
            "text/html": [
              "Synced <strong style=\"color:#cdcd00\">vital-sweep-7</strong>: <a href=\"https://wandb.ai/rajeshtr/car_resale_value/runs/ybmhcrjj\" target=\"_blank\">https://wandb.ai/rajeshtr/car_resale_value/runs/ybmhcrjj</a><br/>Synced 6 W&B file(s), 0 media file(s), 0 artifact file(s) and 0 other file(s)"
            ],
            "text/plain": [
              "<IPython.core.display.HTML object>"
            ]
          },
          "metadata": {},
          "output_type": "display_data"
        },
        {
          "data": {
            "text/html": [
              "Find logs at: <code>.\\wandb\\run-20221110_141853-ybmhcrjj\\logs</code>"
            ],
            "text/plain": [
              "<IPython.core.display.HTML object>"
            ]
          },
          "metadata": {},
          "output_type": "display_data"
        },
        {
          "name": "stderr",
          "output_type": "stream",
          "text": [
            "\u001b[34m\u001b[1mwandb\u001b[0m: Agent Starting Run: l5gd8qye with config:\n",
            "\u001b[34m\u001b[1mwandb\u001b[0m: \tboosting_type: gbdt\n",
            "\u001b[34m\u001b[1mwandb\u001b[0m: \tlearning_rate: 0.05\n",
            "\u001b[34m\u001b[1mwandb\u001b[0m: \tmetric: rmse\n",
            "\u001b[34m\u001b[1mwandb\u001b[0m: \tn_estimators: 200\n",
            "\u001b[34m\u001b[1mwandb\u001b[0m: \tobjective: root_mean_squared_error\n",
            "\u001b[34m\u001b[1mwandb\u001b[0m: \trandom_state: 42\n",
            "\u001b[34m\u001b[1mwandb\u001b[0m: \treg_sqrt: True\n"
          ]
        },
        {
          "data": {
            "application/vnd.jupyter.widget-view+json": {
              "model_id": "2ff3cd0c62714e91aa18ee0dd6841555",
              "version_major": 2,
              "version_minor": 0
            },
            "text/plain": [
              "VBox(children=(Label(value='Waiting for wandb.init()...\\r'), FloatProgress(value=0.016666666666666666, max=1.0…"
            ]
          },
          "metadata": {},
          "output_type": "display_data"
        },
        {
          "data": {
            "text/html": [
              "Tracking run with wandb version 0.13.5"
            ],
            "text/plain": [
              "<IPython.core.display.HTML object>"
            ]
          },
          "metadata": {},
          "output_type": "display_data"
        },
        {
          "data": {
            "text/html": [
              "Run data is saved locally in <code>C:\\Users\\Rajesh\\wandb\\run-20221110_141930-l5gd8qye</code>"
            ],
            "text/plain": [
              "<IPython.core.display.HTML object>"
            ]
          },
          "metadata": {},
          "output_type": "display_data"
        },
        {
          "data": {
            "text/html": [
              "Syncing run <strong><a href=\"https://wandb.ai/rajeshtr/car_resale_value/runs/l5gd8qye\" target=\"_blank\">valiant-sweep-8</a></strong> to <a href=\"https://wandb.ai/rajeshtr/car_resale_value\" target=\"_blank\">Weights & Biases</a> (<a href=\"https://wandb.me/run\" target=\"_blank\">docs</a>)<br/>Sweep page:  <a href=\"https://wandb.ai/rajeshtr/car_resale_value/sweeps/b30glh4n\" target=\"_blank\">https://wandb.ai/rajeshtr/car_resale_value/sweeps/b30glh4n</a>"
            ],
            "text/plain": [
              "<IPython.core.display.HTML object>"
            ]
          },
          "metadata": {},
          "output_type": "display_data"
        },
        {
          "name": "stderr",
          "output_type": "stream",
          "text": [
            "C:\\Users\\Rajesh\\anaconda3\\lib\\site-packages\\sklearn\\utils\\validation.py:993: DataConversionWarning: A column-vector y was passed when a 1d array was expected. Please change the shape of y to (n_samples, ), for example using ravel().\n",
            "  y = column_or_1d(y, warn=True)\n"
          ]
        },
        {
          "data": {
            "text/html": [
              "Waiting for W&B process to finish... <strong style=\"color:green\">(success).</strong>"
            ],
            "text/plain": [
              "<IPython.core.display.HTML object>"
            ]
          },
          "metadata": {},
          "output_type": "display_data"
        },
        {
          "data": {
            "text/html": [
              "<style>\n",
              "    table.wandb td:nth-child(1) { padding: 0 10px; text-align: left ; width: auto;} td:nth-child(2) {text-align: left ; width: 100%}\n",
              "    .wandb-row { display: flex; flex-direction: row; flex-wrap: wrap; justify-content: flex-start; width: 100% }\n",
              "    .wandb-col { display: flex; flex-direction: column; flex-basis: 100%; flex: 1; padding: 10px; }\n",
              "    </style>\n",
              "<div class=\"wandb-row\"><div class=\"wandb-col\"><h3>Run history:</h3><br/><table class=\"wandb\"><tr><td>adj_r2</td><td>▁</td></tr><tr><td>mae</td><td>▁</td></tr><tr><td>mse</td><td>▁</td></tr><tr><td>r2</td><td>▁</td></tr><tr><td>rmse</td><td>▁</td></tr><tr><td>rmsle</td><td>▁</td></tr></table><br/></div><div class=\"wandb-col\"><h3>Run summary:</h3><br/><table class=\"wandb\"><tr><td>adj_r2</td><td>0.86099</td></tr><tr><td>mae</td><td>1429.55205</td></tr><tr><td>mse</td><td>9908330.98023</td></tr><tr><td>r2</td><td>0.861</td></tr><tr><td>rmse</td><td>3147.75015</td></tr><tr><td>rmsle</td><td>8.05444</td></tr></table><br/></div></div>"
            ],
            "text/plain": [
              "<IPython.core.display.HTML object>"
            ]
          },
          "metadata": {},
          "output_type": "display_data"
        },
        {
          "data": {
            "text/html": [
              "Synced <strong style=\"color:#cdcd00\">valiant-sweep-8</strong>: <a href=\"https://wandb.ai/rajeshtr/car_resale_value/runs/l5gd8qye\" target=\"_blank\">https://wandb.ai/rajeshtr/car_resale_value/runs/l5gd8qye</a><br/>Synced 6 W&B file(s), 0 media file(s), 0 artifact file(s) and 0 other file(s)"
            ],
            "text/plain": [
              "<IPython.core.display.HTML object>"
            ]
          },
          "metadata": {},
          "output_type": "display_data"
        },
        {
          "data": {
            "text/html": [
              "Find logs at: <code>.\\wandb\\run-20221110_141930-l5gd8qye\\logs</code>"
            ],
            "text/plain": [
              "<IPython.core.display.HTML object>"
            ]
          },
          "metadata": {},
          "output_type": "display_data"
        },
        {
          "name": "stderr",
          "output_type": "stream",
          "text": [
            "\u001b[34m\u001b[1mwandb\u001b[0m: Sweep Agent: Waiting for job.\n",
            "\u001b[34m\u001b[1mwandb\u001b[0m: Job received.\n",
            "\u001b[34m\u001b[1mwandb\u001b[0m: Agent Starting Run: p63eian0 with config:\n",
            "\u001b[34m\u001b[1mwandb\u001b[0m: \tboosting_type: gbdt\n",
            "\u001b[34m\u001b[1mwandb\u001b[0m: \tlearning_rate: 0.05\n",
            "\u001b[34m\u001b[1mwandb\u001b[0m: \tmetric: rmse\n",
            "\u001b[34m\u001b[1mwandb\u001b[0m: \tn_estimators: 300\n",
            "\u001b[34m\u001b[1mwandb\u001b[0m: \tobjective: root_mean_squared_error\n",
            "\u001b[34m\u001b[1mwandb\u001b[0m: \trandom_state: 42\n",
            "\u001b[34m\u001b[1mwandb\u001b[0m: \treg_sqrt: True\n"
          ]
        },
        {
          "data": {
            "application/vnd.jupyter.widget-view+json": {
              "model_id": "bea7b1968152498692581d88c18104f3",
              "version_major": 2,
              "version_minor": 0
            },
            "text/plain": [
              "VBox(children=(Label(value='Waiting for wandb.init()...\\r'), FloatProgress(value=0.01691666666883975, max=1.0)…"
            ]
          },
          "metadata": {},
          "output_type": "display_data"
        },
        {
          "data": {
            "text/html": [
              "Tracking run with wandb version 0.13.5"
            ],
            "text/plain": [
              "<IPython.core.display.HTML object>"
            ]
          },
          "metadata": {},
          "output_type": "display_data"
        },
        {
          "data": {
            "text/html": [
              "Run data is saved locally in <code>C:\\Users\\Rajesh\\wandb\\run-20221110_142042-p63eian0</code>"
            ],
            "text/plain": [
              "<IPython.core.display.HTML object>"
            ]
          },
          "metadata": {},
          "output_type": "display_data"
        },
        {
          "data": {
            "text/html": [
              "Syncing run <strong><a href=\"https://wandb.ai/rajeshtr/car_resale_value/runs/p63eian0\" target=\"_blank\">effortless-sweep-9</a></strong> to <a href=\"https://wandb.ai/rajeshtr/car_resale_value\" target=\"_blank\">Weights & Biases</a> (<a href=\"https://wandb.me/run\" target=\"_blank\">docs</a>)<br/>Sweep page:  <a href=\"https://wandb.ai/rajeshtr/car_resale_value/sweeps/b30glh4n\" target=\"_blank\">https://wandb.ai/rajeshtr/car_resale_value/sweeps/b30glh4n</a>"
            ],
            "text/plain": [
              "<IPython.core.display.HTML object>"
            ]
          },
          "metadata": {},
          "output_type": "display_data"
        },
        {
          "name": "stderr",
          "output_type": "stream",
          "text": [
            "C:\\Users\\Rajesh\\anaconda3\\lib\\site-packages\\sklearn\\utils\\validation.py:993: DataConversionWarning: A column-vector y was passed when a 1d array was expected. Please change the shape of y to (n_samples, ), for example using ravel().\n",
            "  y = column_or_1d(y, warn=True)\n"
          ]
        },
        {
          "data": {
            "text/html": [
              "Waiting for W&B process to finish... <strong style=\"color:green\">(success).</strong>"
            ],
            "text/plain": [
              "<IPython.core.display.HTML object>"
            ]
          },
          "metadata": {},
          "output_type": "display_data"
        },
        {
          "data": {
            "text/html": [
              "<style>\n",
              "    table.wandb td:nth-child(1) { padding: 0 10px; text-align: left ; width: auto;} td:nth-child(2) {text-align: left ; width: 100%}\n",
              "    .wandb-row { display: flex; flex-direction: row; flex-wrap: wrap; justify-content: flex-start; width: 100% }\n",
              "    .wandb-col { display: flex; flex-direction: column; flex-basis: 100%; flex: 1; padding: 10px; }\n",
              "    </style>\n",
              "<div class=\"wandb-row\"><div class=\"wandb-col\"><h3>Run history:</h3><br/><table class=\"wandb\"><tr><td>adj_r2</td><td>▁</td></tr><tr><td>mae</td><td>▁</td></tr><tr><td>mse</td><td>▁</td></tr><tr><td>r2</td><td>▁</td></tr><tr><td>rmse</td><td>▁</td></tr><tr><td>rmsle</td><td>▁</td></tr></table><br/></div><div class=\"wandb-col\"><h3>Run summary:</h3><br/><table class=\"wandb\"><tr><td>adj_r2</td><td>0.86549</td></tr><tr><td>mae</td><td>1392.98454</td></tr><tr><td>mse</td><td>9587424.95896</td></tr><tr><td>r2</td><td>0.8655</td></tr><tr><td>rmse</td><td>3096.35672</td></tr><tr><td>rmsle</td><td>8.03798</td></tr></table><br/></div></div>"
            ],
            "text/plain": [
              "<IPython.core.display.HTML object>"
            ]
          },
          "metadata": {},
          "output_type": "display_data"
        },
        {
          "data": {
            "text/html": [
              "Synced <strong style=\"color:#cdcd00\">effortless-sweep-9</strong>: <a href=\"https://wandb.ai/rajeshtr/car_resale_value/runs/p63eian0\" target=\"_blank\">https://wandb.ai/rajeshtr/car_resale_value/runs/p63eian0</a><br/>Synced 6 W&B file(s), 0 media file(s), 0 artifact file(s) and 0 other file(s)"
            ],
            "text/plain": [
              "<IPython.core.display.HTML object>"
            ]
          },
          "metadata": {},
          "output_type": "display_data"
        },
        {
          "data": {
            "text/html": [
              "Find logs at: <code>.\\wandb\\run-20221110_142042-p63eian0\\logs</code>"
            ],
            "text/plain": [
              "<IPython.core.display.HTML object>"
            ]
          },
          "metadata": {},
          "output_type": "display_data"
        },
        {
          "name": "stderr",
          "output_type": "stream",
          "text": [
            "\u001b[34m\u001b[1mwandb\u001b[0m: Agent Starting Run: hnvlh5fq with config:\n",
            "\u001b[34m\u001b[1mwandb\u001b[0m: \tboosting_type: gbdt\n",
            "\u001b[34m\u001b[1mwandb\u001b[0m: \tlearning_rate: 0.07\n",
            "\u001b[34m\u001b[1mwandb\u001b[0m: \tmetric: rmse\n",
            "\u001b[34m\u001b[1mwandb\u001b[0m: \tn_estimators: 100\n",
            "\u001b[34m\u001b[1mwandb\u001b[0m: \tobjective: root_mean_squared_error\n",
            "\u001b[34m\u001b[1mwandb\u001b[0m: \trandom_state: 42\n",
            "\u001b[34m\u001b[1mwandb\u001b[0m: \treg_sqrt: True\n"
          ]
        },
        {
          "data": {
            "application/vnd.jupyter.widget-view+json": {
              "model_id": "432b2b35e4b64331920be99d6f7d34e4",
              "version_major": 2,
              "version_minor": 0
            },
            "text/plain": [
              "VBox(children=(Label(value='Waiting for wandb.init()...\\r'), FloatProgress(value=0.016666666666666666, max=1.0…"
            ]
          },
          "metadata": {},
          "output_type": "display_data"
        },
        {
          "data": {
            "text/html": [
              "Tracking run with wandb version 0.13.5"
            ],
            "text/plain": [
              "<IPython.core.display.HTML object>"
            ]
          },
          "metadata": {},
          "output_type": "display_data"
        },
        {
          "data": {
            "text/html": [
              "Run data is saved locally in <code>C:\\Users\\Rajesh\\wandb\\run-20221110_142125-hnvlh5fq</code>"
            ],
            "text/plain": [
              "<IPython.core.display.HTML object>"
            ]
          },
          "metadata": {},
          "output_type": "display_data"
        },
        {
          "data": {
            "text/html": [
              "Syncing run <strong><a href=\"https://wandb.ai/rajeshtr/car_resale_value/runs/hnvlh5fq\" target=\"_blank\">happy-sweep-10</a></strong> to <a href=\"https://wandb.ai/rajeshtr/car_resale_value\" target=\"_blank\">Weights & Biases</a> (<a href=\"https://wandb.me/run\" target=\"_blank\">docs</a>)<br/>Sweep page:  <a href=\"https://wandb.ai/rajeshtr/car_resale_value/sweeps/b30glh4n\" target=\"_blank\">https://wandb.ai/rajeshtr/car_resale_value/sweeps/b30glh4n</a>"
            ],
            "text/plain": [
              "<IPython.core.display.HTML object>"
            ]
          },
          "metadata": {},
          "output_type": "display_data"
        },
        {
          "name": "stderr",
          "output_type": "stream",
          "text": [
            "C:\\Users\\Rajesh\\anaconda3\\lib\\site-packages\\sklearn\\utils\\validation.py:993: DataConversionWarning: A column-vector y was passed when a 1d array was expected. Please change the shape of y to (n_samples, ), for example using ravel().\n",
            "  y = column_or_1d(y, warn=True)\n"
          ]
        },
        {
          "data": {
            "text/html": [
              "Waiting for W&B process to finish... <strong style=\"color:green\">(success).</strong>"
            ],
            "text/plain": [
              "<IPython.core.display.HTML object>"
            ]
          },
          "metadata": {},
          "output_type": "display_data"
        },
        {
          "data": {
            "text/html": [
              "<style>\n",
              "    table.wandb td:nth-child(1) { padding: 0 10px; text-align: left ; width: auto;} td:nth-child(2) {text-align: left ; width: 100%}\n",
              "    .wandb-row { display: flex; flex-direction: row; flex-wrap: wrap; justify-content: flex-start; width: 100% }\n",
              "    .wandb-col { display: flex; flex-direction: column; flex-basis: 100%; flex: 1; padding: 10px; }\n",
              "    </style>\n",
              "<div class=\"wandb-row\"><div class=\"wandb-col\"><h3>Run history:</h3><br/><table class=\"wandb\"><tr><td>adj_r2</td><td>▁</td></tr><tr><td>mae</td><td>▁</td></tr><tr><td>mse</td><td>▁</td></tr><tr><td>r2</td><td>▁</td></tr><tr><td>rmse</td><td>▁</td></tr><tr><td>rmsle</td><td>▁</td></tr></table><br/></div><div class=\"wandb-col\"><h3>Run summary:</h3><br/><table class=\"wandb\"><tr><td>adj_r2</td><td>0.85557</td></tr><tr><td>mae</td><td>1467.09127</td></tr><tr><td>mse</td><td>10294938.17779</td></tr><tr><td>r2</td><td>0.85557</td></tr><tr><td>rmse</td><td>3208.57261</td></tr><tr><td>rmsle</td><td>8.07358</td></tr></table><br/></div></div>"
            ],
            "text/plain": [
              "<IPython.core.display.HTML object>"
            ]
          },
          "metadata": {},
          "output_type": "display_data"
        },
        {
          "data": {
            "text/html": [
              "Synced <strong style=\"color:#cdcd00\">happy-sweep-10</strong>: <a href=\"https://wandb.ai/rajeshtr/car_resale_value/runs/hnvlh5fq\" target=\"_blank\">https://wandb.ai/rajeshtr/car_resale_value/runs/hnvlh5fq</a><br/>Synced 6 W&B file(s), 0 media file(s), 0 artifact file(s) and 0 other file(s)"
            ],
            "text/plain": [
              "<IPython.core.display.HTML object>"
            ]
          },
          "metadata": {},
          "output_type": "display_data"
        },
        {
          "data": {
            "text/html": [
              "Find logs at: <code>.\\wandb\\run-20221110_142125-hnvlh5fq\\logs</code>"
            ],
            "text/plain": [
              "<IPython.core.display.HTML object>"
            ]
          },
          "metadata": {},
          "output_type": "display_data"
        },
        {
          "name": "stderr",
          "output_type": "stream",
          "text": [
            "\u001b[34m\u001b[1mwandb\u001b[0m: Agent Starting Run: vcv1it9s with config:\n",
            "\u001b[34m\u001b[1mwandb\u001b[0m: \tboosting_type: gbdt\n",
            "\u001b[34m\u001b[1mwandb\u001b[0m: \tlearning_rate: 0.07\n",
            "\u001b[34m\u001b[1mwandb\u001b[0m: \tmetric: rmse\n",
            "\u001b[34m\u001b[1mwandb\u001b[0m: \tn_estimators: 200\n",
            "\u001b[34m\u001b[1mwandb\u001b[0m: \tobjective: root_mean_squared_error\n",
            "\u001b[34m\u001b[1mwandb\u001b[0m: \trandom_state: 42\n",
            "\u001b[34m\u001b[1mwandb\u001b[0m: \treg_sqrt: True\n"
          ]
        },
        {
          "data": {
            "application/vnd.jupyter.widget-view+json": {
              "model_id": "688750ae86ed4bbf967962adc63a8993",
              "version_major": 2,
              "version_minor": 0
            },
            "text/plain": [
              "VBox(children=(Label(value='Waiting for wandb.init()...\\r'), FloatProgress(value=0.01693333333435779, max=1.0)…"
            ]
          },
          "metadata": {},
          "output_type": "display_data"
        },
        {
          "data": {
            "text/html": [
              "Tracking run with wandb version 0.13.5"
            ],
            "text/plain": [
              "<IPython.core.display.HTML object>"
            ]
          },
          "metadata": {},
          "output_type": "display_data"
        },
        {
          "data": {
            "text/html": [
              "Run data is saved locally in <code>C:\\Users\\Rajesh\\wandb\\run-20221110_142216-vcv1it9s</code>"
            ],
            "text/plain": [
              "<IPython.core.display.HTML object>"
            ]
          },
          "metadata": {},
          "output_type": "display_data"
        },
        {
          "data": {
            "text/html": [
              "Syncing run <strong><a href=\"https://wandb.ai/rajeshtr/car_resale_value/runs/vcv1it9s\" target=\"_blank\">astral-sweep-11</a></strong> to <a href=\"https://wandb.ai/rajeshtr/car_resale_value\" target=\"_blank\">Weights & Biases</a> (<a href=\"https://wandb.me/run\" target=\"_blank\">docs</a>)<br/>Sweep page:  <a href=\"https://wandb.ai/rajeshtr/car_resale_value/sweeps/b30glh4n\" target=\"_blank\">https://wandb.ai/rajeshtr/car_resale_value/sweeps/b30glh4n</a>"
            ],
            "text/plain": [
              "<IPython.core.display.HTML object>"
            ]
          },
          "metadata": {},
          "output_type": "display_data"
        },
        {
          "name": "stderr",
          "output_type": "stream",
          "text": [
            "C:\\Users\\Rajesh\\anaconda3\\lib\\site-packages\\sklearn\\utils\\validation.py:993: DataConversionWarning: A column-vector y was passed when a 1d array was expected. Please change the shape of y to (n_samples, ), for example using ravel().\n",
            "  y = column_or_1d(y, warn=True)\n"
          ]
        },
        {
          "data": {
            "text/html": [
              "Waiting for W&B process to finish... <strong style=\"color:green\">(success).</strong>"
            ],
            "text/plain": [
              "<IPython.core.display.HTML object>"
            ]
          },
          "metadata": {},
          "output_type": "display_data"
        },
        {
          "data": {
            "text/html": [
              "<style>\n",
              "    table.wandb td:nth-child(1) { padding: 0 10px; text-align: left ; width: auto;} td:nth-child(2) {text-align: left ; width: 100%}\n",
              "    .wandb-row { display: flex; flex-direction: row; flex-wrap: wrap; justify-content: flex-start; width: 100% }\n",
              "    .wandb-col { display: flex; flex-direction: column; flex-basis: 100%; flex: 1; padding: 10px; }\n",
              "    </style>\n",
              "<div class=\"wandb-row\"><div class=\"wandb-col\"><h3>Run history:</h3><br/><table class=\"wandb\"><tr><td>adj_r2</td><td>▁</td></tr><tr><td>mae</td><td>▁</td></tr><tr><td>mse</td><td>▁</td></tr><tr><td>r2</td><td>▁</td></tr><tr><td>rmse</td><td>▁</td></tr><tr><td>rmsle</td><td>▁</td></tr></table><br/></div><div class=\"wandb-col\"><h3>Run summary:</h3><br/><table class=\"wandb\"><tr><td>adj_r2</td><td>0.86505</td></tr><tr><td>mae</td><td>1400.49904</td></tr><tr><td>mse</td><td>9618944.77269</td></tr><tr><td>r2</td><td>0.86506</td></tr><tr><td>rmse</td><td>3101.44237</td></tr><tr><td>rmsle</td><td>8.03962</td></tr></table><br/></div></div>"
            ],
            "text/plain": [
              "<IPython.core.display.HTML object>"
            ]
          },
          "metadata": {},
          "output_type": "display_data"
        },
        {
          "data": {
            "text/html": [
              "Synced <strong style=\"color:#cdcd00\">astral-sweep-11</strong>: <a href=\"https://wandb.ai/rajeshtr/car_resale_value/runs/vcv1it9s\" target=\"_blank\">https://wandb.ai/rajeshtr/car_resale_value/runs/vcv1it9s</a><br/>Synced 6 W&B file(s), 0 media file(s), 0 artifact file(s) and 0 other file(s)"
            ],
            "text/plain": [
              "<IPython.core.display.HTML object>"
            ]
          },
          "metadata": {},
          "output_type": "display_data"
        },
        {
          "data": {
            "text/html": [
              "Find logs at: <code>.\\wandb\\run-20221110_142216-vcv1it9s\\logs</code>"
            ],
            "text/plain": [
              "<IPython.core.display.HTML object>"
            ]
          },
          "metadata": {},
          "output_type": "display_data"
        },
        {
          "name": "stderr",
          "output_type": "stream",
          "text": [
            "\u001b[34m\u001b[1mwandb\u001b[0m: Sweep Agent: Waiting for job.\n",
            "\u001b[34m\u001b[1mwandb\u001b[0m: Job received.\n",
            "\u001b[34m\u001b[1mwandb\u001b[0m: Agent Starting Run: lo20veyy with config:\n",
            "\u001b[34m\u001b[1mwandb\u001b[0m: \tboosting_type: gbdt\n",
            "\u001b[34m\u001b[1mwandb\u001b[0m: \tlearning_rate: 0.07\n",
            "\u001b[34m\u001b[1mwandb\u001b[0m: \tmetric: rmse\n",
            "\u001b[34m\u001b[1mwandb\u001b[0m: \tn_estimators: 300\n",
            "\u001b[34m\u001b[1mwandb\u001b[0m: \tobjective: root_mean_squared_error\n",
            "\u001b[34m\u001b[1mwandb\u001b[0m: \trandom_state: 42\n",
            "\u001b[34m\u001b[1mwandb\u001b[0m: \treg_sqrt: True\n"
          ]
        },
        {
          "data": {
            "application/vnd.jupyter.widget-view+json": {
              "model_id": "0b674d444fbe4966b5eb09e81ab5e158",
              "version_major": 2,
              "version_minor": 0
            },
            "text/plain": [
              "VBox(children=(Label(value='Waiting for wandb.init()...\\r'), FloatProgress(value=0.01693333333435779, max=1.0)…"
            ]
          },
          "metadata": {},
          "output_type": "display_data"
        },
        {
          "data": {
            "text/html": [
              "Tracking run with wandb version 0.13.5"
            ],
            "text/plain": [
              "<IPython.core.display.HTML object>"
            ]
          },
          "metadata": {},
          "output_type": "display_data"
        },
        {
          "data": {
            "text/html": [
              "Run data is saved locally in <code>C:\\Users\\Rajesh\\wandb\\run-20221110_142336-lo20veyy</code>"
            ],
            "text/plain": [
              "<IPython.core.display.HTML object>"
            ]
          },
          "metadata": {},
          "output_type": "display_data"
        },
        {
          "data": {
            "text/html": [
              "Syncing run <strong><a href=\"https://wandb.ai/rajeshtr/car_resale_value/runs/lo20veyy\" target=\"_blank\">dutiful-sweep-12</a></strong> to <a href=\"https://wandb.ai/rajeshtr/car_resale_value\" target=\"_blank\">Weights & Biases</a> (<a href=\"https://wandb.me/run\" target=\"_blank\">docs</a>)<br/>Sweep page:  <a href=\"https://wandb.ai/rajeshtr/car_resale_value/sweeps/b30glh4n\" target=\"_blank\">https://wandb.ai/rajeshtr/car_resale_value/sweeps/b30glh4n</a>"
            ],
            "text/plain": [
              "<IPython.core.display.HTML object>"
            ]
          },
          "metadata": {},
          "output_type": "display_data"
        },
        {
          "name": "stderr",
          "output_type": "stream",
          "text": [
            "C:\\Users\\Rajesh\\anaconda3\\lib\\site-packages\\sklearn\\utils\\validation.py:993: DataConversionWarning: A column-vector y was passed when a 1d array was expected. Please change the shape of y to (n_samples, ), for example using ravel().\n",
            "  y = column_or_1d(y, warn=True)\n"
          ]
        },
        {
          "data": {
            "text/html": [
              "Waiting for W&B process to finish... <strong style=\"color:green\">(success).</strong>"
            ],
            "text/plain": [
              "<IPython.core.display.HTML object>"
            ]
          },
          "metadata": {},
          "output_type": "display_data"
        },
        {
          "data": {
            "text/html": [
              "<style>\n",
              "    table.wandb td:nth-child(1) { padding: 0 10px; text-align: left ; width: auto;} td:nth-child(2) {text-align: left ; width: 100%}\n",
              "    .wandb-row { display: flex; flex-direction: row; flex-wrap: wrap; justify-content: flex-start; width: 100% }\n",
              "    .wandb-col { display: flex; flex-direction: column; flex-basis: 100%; flex: 1; padding: 10px; }\n",
              "    </style>\n",
              "<div class=\"wandb-row\"><div class=\"wandb-col\"><h3>Run history:</h3><br/><table class=\"wandb\"><tr><td>adj_r2</td><td>▁</td></tr><tr><td>mae</td><td>▁</td></tr><tr><td>mse</td><td>▁</td></tr><tr><td>r2</td><td>▁</td></tr><tr><td>rmse</td><td>▁</td></tr><tr><td>rmsle</td><td>▁</td></tr></table><br/></div><div class=\"wandb-col\"><h3>Run summary:</h3><br/><table class=\"wandb\"><tr><td>adj_r2</td><td>0.86949</td></tr><tr><td>mae</td><td>1366.21695</td></tr><tr><td>mse</td><td>9302686.85872</td></tr><tr><td>r2</td><td>0.86949</td></tr><tr><td>rmse</td><td>3050.03063</td></tr><tr><td>rmsle</td><td>8.02291</td></tr></table><br/></div></div>"
            ],
            "text/plain": [
              "<IPython.core.display.HTML object>"
            ]
          },
          "metadata": {},
          "output_type": "display_data"
        },
        {
          "data": {
            "text/html": [
              "Synced <strong style=\"color:#cdcd00\">dutiful-sweep-12</strong>: <a href=\"https://wandb.ai/rajeshtr/car_resale_value/runs/lo20veyy\" target=\"_blank\">https://wandb.ai/rajeshtr/car_resale_value/runs/lo20veyy</a><br/>Synced 6 W&B file(s), 0 media file(s), 0 artifact file(s) and 0 other file(s)"
            ],
            "text/plain": [
              "<IPython.core.display.HTML object>"
            ]
          },
          "metadata": {},
          "output_type": "display_data"
        },
        {
          "data": {
            "text/html": [
              "Find logs at: <code>.\\wandb\\run-20221110_142336-lo20veyy\\logs</code>"
            ],
            "text/plain": [
              "<IPython.core.display.HTML object>"
            ]
          },
          "metadata": {},
          "output_type": "display_data"
        },
        {
          "name": "stderr",
          "output_type": "stream",
          "text": [
            "\u001b[34m\u001b[1mwandb\u001b[0m: Agent Starting Run: 50talv1q with config:\n",
            "\u001b[34m\u001b[1mwandb\u001b[0m: \tboosting_type: dart\n",
            "\u001b[34m\u001b[1mwandb\u001b[0m: \tlearning_rate: 0.01\n",
            "\u001b[34m\u001b[1mwandb\u001b[0m: \tmetric: rmse\n",
            "\u001b[34m\u001b[1mwandb\u001b[0m: \tn_estimators: 100\n",
            "\u001b[34m\u001b[1mwandb\u001b[0m: \tobjective: root_mean_squared_error\n",
            "\u001b[34m\u001b[1mwandb\u001b[0m: \trandom_state: 42\n",
            "\u001b[34m\u001b[1mwandb\u001b[0m: \treg_sqrt: True\n"
          ]
        },
        {
          "data": {
            "application/vnd.jupyter.widget-view+json": {
              "model_id": "d3799bb677ab4618b87dffbb5cc4e2dc",
              "version_major": 2,
              "version_minor": 0
            },
            "text/plain": [
              "VBox(children=(Label(value='Waiting for wandb.init()...\\r'), FloatProgress(value=0.016666666666666666, max=1.0…"
            ]
          },
          "metadata": {},
          "output_type": "display_data"
        },
        {
          "data": {
            "text/html": [
              "Tracking run with wandb version 0.13.5"
            ],
            "text/plain": [
              "<IPython.core.display.HTML object>"
            ]
          },
          "metadata": {},
          "output_type": "display_data"
        },
        {
          "data": {
            "text/html": [
              "Run data is saved locally in <code>C:\\Users\\Rajesh\\wandb\\run-20221110_142445-50talv1q</code>"
            ],
            "text/plain": [
              "<IPython.core.display.HTML object>"
            ]
          },
          "metadata": {},
          "output_type": "display_data"
        },
        {
          "data": {
            "text/html": [
              "Syncing run <strong><a href=\"https://wandb.ai/rajeshtr/car_resale_value/runs/50talv1q\" target=\"_blank\">young-sweep-13</a></strong> to <a href=\"https://wandb.ai/rajeshtr/car_resale_value\" target=\"_blank\">Weights & Biases</a> (<a href=\"https://wandb.me/run\" target=\"_blank\">docs</a>)<br/>Sweep page:  <a href=\"https://wandb.ai/rajeshtr/car_resale_value/sweeps/b30glh4n\" target=\"_blank\">https://wandb.ai/rajeshtr/car_resale_value/sweeps/b30glh4n</a>"
            ],
            "text/plain": [
              "<IPython.core.display.HTML object>"
            ]
          },
          "metadata": {},
          "output_type": "display_data"
        },
        {
          "name": "stderr",
          "output_type": "stream",
          "text": [
            "C:\\Users\\Rajesh\\anaconda3\\lib\\site-packages\\sklearn\\utils\\validation.py:993: DataConversionWarning: A column-vector y was passed when a 1d array was expected. Please change the shape of y to (n_samples, ), for example using ravel().\n",
            "  y = column_or_1d(y, warn=True)\n"
          ]
        },
        {
          "data": {
            "text/html": [
              "Waiting for W&B process to finish... <strong style=\"color:green\">(success).</strong>"
            ],
            "text/plain": [
              "<IPython.core.display.HTML object>"
            ]
          },
          "metadata": {},
          "output_type": "display_data"
        },
        {
          "data": {
            "text/html": [
              "<style>\n",
              "    table.wandb td:nth-child(1) { padding: 0 10px; text-align: left ; width: auto;} td:nth-child(2) {text-align: left ; width: 100%}\n",
              "    .wandb-row { display: flex; flex-direction: row; flex-wrap: wrap; justify-content: flex-start; width: 100% }\n",
              "    .wandb-col { display: flex; flex-direction: column; flex-basis: 100%; flex: 1; padding: 10px; }\n",
              "    </style>\n",
              "<div class=\"wandb-row\"><div class=\"wandb-col\"><h3>Run history:</h3><br/><table class=\"wandb\"><tr><td>adj_r2</td><td>▁</td></tr><tr><td>mae</td><td>▁</td></tr><tr><td>mse</td><td>▁</td></tr><tr><td>r2</td><td>▁</td></tr><tr><td>rmse</td><td>▁</td></tr><tr><td>rmsle</td><td>▁</td></tr></table><br/></div><div class=\"wandb-col\"><h3>Run summary:</h3><br/><table class=\"wandb\"><tr><td>adj_r2</td><td>0.63522</td></tr><tr><td>mae</td><td>2868.23264</td></tr><tr><td>mse</td><td>26000513.79616</td></tr><tr><td>r2</td><td>0.63524</td></tr><tr><td>rmse</td><td>5099.0699</td></tr><tr><td>rmsle</td><td>8.53681</td></tr></table><br/></div></div>"
            ],
            "text/plain": [
              "<IPython.core.display.HTML object>"
            ]
          },
          "metadata": {},
          "output_type": "display_data"
        },
        {
          "data": {
            "text/html": [
              "Synced <strong style=\"color:#cdcd00\">young-sweep-13</strong>: <a href=\"https://wandb.ai/rajeshtr/car_resale_value/runs/50talv1q\" target=\"_blank\">https://wandb.ai/rajeshtr/car_resale_value/runs/50talv1q</a><br/>Synced 6 W&B file(s), 0 media file(s), 0 artifact file(s) and 0 other file(s)"
            ],
            "text/plain": [
              "<IPython.core.display.HTML object>"
            ]
          },
          "metadata": {},
          "output_type": "display_data"
        },
        {
          "data": {
            "text/html": [
              "Find logs at: <code>.\\wandb\\run-20221110_142445-50talv1q\\logs</code>"
            ],
            "text/plain": [
              "<IPython.core.display.HTML object>"
            ]
          },
          "metadata": {},
          "output_type": "display_data"
        },
        {
          "name": "stderr",
          "output_type": "stream",
          "text": [
            "\u001b[34m\u001b[1mwandb\u001b[0m: Sweep Agent: Waiting for job.\n",
            "\u001b[34m\u001b[1mwandb\u001b[0m: Job received.\n",
            "\u001b[34m\u001b[1mwandb\u001b[0m: Agent Starting Run: i2lm4247 with config:\n",
            "\u001b[34m\u001b[1mwandb\u001b[0m: \tboosting_type: dart\n",
            "\u001b[34m\u001b[1mwandb\u001b[0m: \tlearning_rate: 0.01\n",
            "\u001b[34m\u001b[1mwandb\u001b[0m: \tmetric: rmse\n",
            "\u001b[34m\u001b[1mwandb\u001b[0m: \tn_estimators: 200\n",
            "\u001b[34m\u001b[1mwandb\u001b[0m: \tobjective: root_mean_squared_error\n",
            "\u001b[34m\u001b[1mwandb\u001b[0m: \trandom_state: 42\n",
            "\u001b[34m\u001b[1mwandb\u001b[0m: \treg_sqrt: True\n"
          ]
        },
        {
          "data": {
            "application/vnd.jupyter.widget-view+json": {
              "model_id": "37afd38337ce46c2ba0221502cdf933f",
              "version_major": 2,
              "version_minor": 0
            },
            "text/plain": [
              "VBox(children=(Label(value='Waiting for wandb.init()...\\r'), FloatProgress(value=0.01691666666495924, max=1.0)…"
            ]
          },
          "metadata": {},
          "output_type": "display_data"
        },
        {
          "data": {
            "text/html": [
              "Tracking run with wandb version 0.13.5"
            ],
            "text/plain": [
              "<IPython.core.display.HTML object>"
            ]
          },
          "metadata": {},
          "output_type": "display_data"
        },
        {
          "data": {
            "text/html": [
              "Run data is saved locally in <code>C:\\Users\\Rajesh\\wandb\\run-20221110_142553-i2lm4247</code>"
            ],
            "text/plain": [
              "<IPython.core.display.HTML object>"
            ]
          },
          "metadata": {},
          "output_type": "display_data"
        },
        {
          "data": {
            "text/html": [
              "Syncing run <strong><a href=\"https://wandb.ai/rajeshtr/car_resale_value/runs/i2lm4247\" target=\"_blank\">soft-sweep-14</a></strong> to <a href=\"https://wandb.ai/rajeshtr/car_resale_value\" target=\"_blank\">Weights & Biases</a> (<a href=\"https://wandb.me/run\" target=\"_blank\">docs</a>)<br/>Sweep page:  <a href=\"https://wandb.ai/rajeshtr/car_resale_value/sweeps/b30glh4n\" target=\"_blank\">https://wandb.ai/rajeshtr/car_resale_value/sweeps/b30glh4n</a>"
            ],
            "text/plain": [
              "<IPython.core.display.HTML object>"
            ]
          },
          "metadata": {},
          "output_type": "display_data"
        },
        {
          "name": "stderr",
          "output_type": "stream",
          "text": [
            "C:\\Users\\Rajesh\\anaconda3\\lib\\site-packages\\sklearn\\utils\\validation.py:993: DataConversionWarning: A column-vector y was passed when a 1d array was expected. Please change the shape of y to (n_samples, ), for example using ravel().\n",
            "  y = column_or_1d(y, warn=True)\n"
          ]
        },
        {
          "data": {
            "text/html": [
              "Waiting for W&B process to finish... <strong style=\"color:green\">(success).</strong>"
            ],
            "text/plain": [
              "<IPython.core.display.HTML object>"
            ]
          },
          "metadata": {},
          "output_type": "display_data"
        },
        {
          "data": {
            "text/html": [
              "<style>\n",
              "    table.wandb td:nth-child(1) { padding: 0 10px; text-align: left ; width: auto;} td:nth-child(2) {text-align: left ; width: 100%}\n",
              "    .wandb-row { display: flex; flex-direction: row; flex-wrap: wrap; justify-content: flex-start; width: 100% }\n",
              "    .wandb-col { display: flex; flex-direction: column; flex-basis: 100%; flex: 1; padding: 10px; }\n",
              "    </style>\n",
              "<div class=\"wandb-row\"><div class=\"wandb-col\"><h3>Run history:</h3><br/><table class=\"wandb\"><tr><td>adj_r2</td><td>▁</td></tr><tr><td>mae</td><td>▁</td></tr><tr><td>mse</td><td>▁</td></tr><tr><td>r2</td><td>▁</td></tr><tr><td>rmse</td><td>▁</td></tr><tr><td>rmsle</td><td>▁</td></tr></table><br/></div><div class=\"wandb-col\"><h3>Run summary:</h3><br/><table class=\"wandb\"><tr><td>adj_r2</td><td>0.7705</td></tr><tr><td>mae</td><td>2085.96387</td></tr><tr><td>mse</td><td>16358084.55903</td></tr><tr><td>r2</td><td>0.77052</td></tr><tr><td>rmse</td><td>4044.5129</td></tr><tr><td>rmsle</td><td>8.30512</td></tr></table><br/></div></div>"
            ],
            "text/plain": [
              "<IPython.core.display.HTML object>"
            ]
          },
          "metadata": {},
          "output_type": "display_data"
        },
        {
          "data": {
            "text/html": [
              "Synced <strong style=\"color:#cdcd00\">soft-sweep-14</strong>: <a href=\"https://wandb.ai/rajeshtr/car_resale_value/runs/i2lm4247\" target=\"_blank\">https://wandb.ai/rajeshtr/car_resale_value/runs/i2lm4247</a><br/>Synced 6 W&B file(s), 0 media file(s), 0 artifact file(s) and 0 other file(s)"
            ],
            "text/plain": [
              "<IPython.core.display.HTML object>"
            ]
          },
          "metadata": {},
          "output_type": "display_data"
        },
        {
          "data": {
            "text/html": [
              "Find logs at: <code>.\\wandb\\run-20221110_142553-i2lm4247\\logs</code>"
            ],
            "text/plain": [
              "<IPython.core.display.HTML object>"
            ]
          },
          "metadata": {},
          "output_type": "display_data"
        },
        {
          "name": "stderr",
          "output_type": "stream",
          "text": [
            "\u001b[34m\u001b[1mwandb\u001b[0m: Sweep Agent: Waiting for job.\n",
            "\u001b[34m\u001b[1mwandb\u001b[0m: Job received.\n",
            "\u001b[34m\u001b[1mwandb\u001b[0m: Agent Starting Run: uykb9pj3 with config:\n",
            "\u001b[34m\u001b[1mwandb\u001b[0m: \tboosting_type: dart\n",
            "\u001b[34m\u001b[1mwandb\u001b[0m: \tlearning_rate: 0.01\n",
            "\u001b[34m\u001b[1mwandb\u001b[0m: \tmetric: rmse\n",
            "\u001b[34m\u001b[1mwandb\u001b[0m: \tn_estimators: 300\n",
            "\u001b[34m\u001b[1mwandb\u001b[0m: \tobjective: root_mean_squared_error\n",
            "\u001b[34m\u001b[1mwandb\u001b[0m: \trandom_state: 42\n",
            "\u001b[34m\u001b[1mwandb\u001b[0m: \treg_sqrt: True\n"
          ]
        },
        {
          "data": {
            "application/vnd.jupyter.widget-view+json": {
              "model_id": "a111045b5f194b00903e47c001c12f72",
              "version_major": 2,
              "version_minor": 0
            },
            "text/plain": [
              "VBox(children=(Label(value='Waiting for wandb.init()...\\r'), FloatProgress(value=0.016666666666666666, max=1.0…"
            ]
          },
          "metadata": {},
          "output_type": "display_data"
        },
        {
          "data": {
            "text/html": [
              "Tracking run with wandb version 0.13.5"
            ],
            "text/plain": [
              "<IPython.core.display.HTML object>"
            ]
          },
          "metadata": {},
          "output_type": "display_data"
        },
        {
          "data": {
            "text/html": [
              "Run data is saved locally in <code>C:\\Users\\Rajesh\\wandb\\run-20221110_142644-uykb9pj3</code>"
            ],
            "text/plain": [
              "<IPython.core.display.HTML object>"
            ]
          },
          "metadata": {},
          "output_type": "display_data"
        },
        {
          "data": {
            "text/html": [
              "Syncing run <strong><a href=\"https://wandb.ai/rajeshtr/car_resale_value/runs/uykb9pj3\" target=\"_blank\">noble-sweep-15</a></strong> to <a href=\"https://wandb.ai/rajeshtr/car_resale_value\" target=\"_blank\">Weights & Biases</a> (<a href=\"https://wandb.me/run\" target=\"_blank\">docs</a>)<br/>Sweep page:  <a href=\"https://wandb.ai/rajeshtr/car_resale_value/sweeps/b30glh4n\" target=\"_blank\">https://wandb.ai/rajeshtr/car_resale_value/sweeps/b30glh4n</a>"
            ],
            "text/plain": [
              "<IPython.core.display.HTML object>"
            ]
          },
          "metadata": {},
          "output_type": "display_data"
        },
        {
          "name": "stderr",
          "output_type": "stream",
          "text": [
            "C:\\Users\\Rajesh\\anaconda3\\lib\\site-packages\\sklearn\\utils\\validation.py:993: DataConversionWarning: A column-vector y was passed when a 1d array was expected. Please change the shape of y to (n_samples, ), for example using ravel().\n",
            "  y = column_or_1d(y, warn=True)\n"
          ]
        },
        {
          "data": {
            "text/html": [
              "Waiting for W&B process to finish... <strong style=\"color:green\">(success).</strong>"
            ],
            "text/plain": [
              "<IPython.core.display.HTML object>"
            ]
          },
          "metadata": {},
          "output_type": "display_data"
        },
        {
          "data": {
            "text/html": [
              "<style>\n",
              "    table.wandb td:nth-child(1) { padding: 0 10px; text-align: left ; width: auto;} td:nth-child(2) {text-align: left ; width: 100%}\n",
              "    .wandb-row { display: flex; flex-direction: row; flex-wrap: wrap; justify-content: flex-start; width: 100% }\n",
              "    .wandb-col { display: flex; flex-direction: column; flex-basis: 100%; flex: 1; padding: 10px; }\n",
              "    </style>\n",
              "<div class=\"wandb-row\"><div class=\"wandb-col\"><h3>Run history:</h3><br/><table class=\"wandb\"><tr><td>adj_r2</td><td>▁</td></tr><tr><td>mae</td><td>▁</td></tr><tr><td>mse</td><td>▁</td></tr><tr><td>r2</td><td>▁</td></tr><tr><td>rmse</td><td>▁</td></tr><tr><td>rmsle</td><td>▁</td></tr></table><br/></div><div class=\"wandb-col\"><h3>Run summary:</h3><br/><table class=\"wandb\"><tr><td>adj_r2</td><td>0.81645</td></tr><tr><td>mae</td><td>1759.82706</td></tr><tr><td>mse</td><td>13082914.16355</td></tr><tr><td>r2</td><td>0.81646</td></tr><tr><td>rmse</td><td>3617.03113</td></tr><tr><td>rmsle</td><td>8.19341</td></tr></table><br/></div></div>"
            ],
            "text/plain": [
              "<IPython.core.display.HTML object>"
            ]
          },
          "metadata": {},
          "output_type": "display_data"
        },
        {
          "data": {
            "text/html": [
              "Synced <strong style=\"color:#cdcd00\">noble-sweep-15</strong>: <a href=\"https://wandb.ai/rajeshtr/car_resale_value/runs/uykb9pj3\" target=\"_blank\">https://wandb.ai/rajeshtr/car_resale_value/runs/uykb9pj3</a><br/>Synced 6 W&B file(s), 0 media file(s), 0 artifact file(s) and 0 other file(s)"
            ],
            "text/plain": [
              "<IPython.core.display.HTML object>"
            ]
          },
          "metadata": {},
          "output_type": "display_data"
        },
        {
          "data": {
            "text/html": [
              "Find logs at: <code>.\\wandb\\run-20221110_142644-uykb9pj3\\logs</code>"
            ],
            "text/plain": [
              "<IPython.core.display.HTML object>"
            ]
          },
          "metadata": {},
          "output_type": "display_data"
        },
        {
          "name": "stderr",
          "output_type": "stream",
          "text": [
            "\u001b[34m\u001b[1mwandb\u001b[0m: Sweep Agent: Waiting for job.\n",
            "\u001b[34m\u001b[1mwandb\u001b[0m: Job received.\n",
            "\u001b[34m\u001b[1mwandb\u001b[0m: Agent Starting Run: 3t7ray02 with config:\n",
            "\u001b[34m\u001b[1mwandb\u001b[0m: \tboosting_type: dart\n",
            "\u001b[34m\u001b[1mwandb\u001b[0m: \tlearning_rate: 0.03\n",
            "\u001b[34m\u001b[1mwandb\u001b[0m: \tmetric: rmse\n",
            "\u001b[34m\u001b[1mwandb\u001b[0m: \tn_estimators: 100\n",
            "\u001b[34m\u001b[1mwandb\u001b[0m: \tobjective: root_mean_squared_error\n",
            "\u001b[34m\u001b[1mwandb\u001b[0m: \trandom_state: 42\n",
            "\u001b[34m\u001b[1mwandb\u001b[0m: \treg_sqrt: True\n"
          ]
        },
        {
          "data": {
            "application/vnd.jupyter.widget-view+json": {
              "model_id": "5539be739b994b99b3f4c676c872b18b",
              "version_major": 2,
              "version_minor": 0
            },
            "text/plain": [
              "VBox(children=(Label(value='Waiting for wandb.init()...\\r'), FloatProgress(value=0.016666666666666666, max=1.0…"
            ]
          },
          "metadata": {},
          "output_type": "display_data"
        },
        {
          "data": {
            "text/html": [
              "Tracking run with wandb version 0.13.5"
            ],
            "text/plain": [
              "<IPython.core.display.HTML object>"
            ]
          },
          "metadata": {},
          "output_type": "display_data"
        },
        {
          "data": {
            "text/html": [
              "Run data is saved locally in <code>C:\\Users\\Rajesh\\wandb\\run-20221110_142751-3t7ray02</code>"
            ],
            "text/plain": [
              "<IPython.core.display.HTML object>"
            ]
          },
          "metadata": {},
          "output_type": "display_data"
        },
        {
          "data": {
            "text/html": [
              "Syncing run <strong><a href=\"https://wandb.ai/rajeshtr/car_resale_value/runs/3t7ray02\" target=\"_blank\">celestial-sweep-16</a></strong> to <a href=\"https://wandb.ai/rajeshtr/car_resale_value\" target=\"_blank\">Weights & Biases</a> (<a href=\"https://wandb.me/run\" target=\"_blank\">docs</a>)<br/>Sweep page:  <a href=\"https://wandb.ai/rajeshtr/car_resale_value/sweeps/b30glh4n\" target=\"_blank\">https://wandb.ai/rajeshtr/car_resale_value/sweeps/b30glh4n</a>"
            ],
            "text/plain": [
              "<IPython.core.display.HTML object>"
            ]
          },
          "metadata": {},
          "output_type": "display_data"
        },
        {
          "name": "stderr",
          "output_type": "stream",
          "text": [
            "C:\\Users\\Rajesh\\anaconda3\\lib\\site-packages\\sklearn\\utils\\validation.py:993: DataConversionWarning: A column-vector y was passed when a 1d array was expected. Please change the shape of y to (n_samples, ), for example using ravel().\n",
            "  y = column_or_1d(y, warn=True)\n"
          ]
        },
        {
          "data": {
            "text/html": [
              "Waiting for W&B process to finish... <strong style=\"color:green\">(success).</strong>"
            ],
            "text/plain": [
              "<IPython.core.display.HTML object>"
            ]
          },
          "metadata": {},
          "output_type": "display_data"
        },
        {
          "data": {
            "text/html": [
              "<style>\n",
              "    table.wandb td:nth-child(1) { padding: 0 10px; text-align: left ; width: auto;} td:nth-child(2) {text-align: left ; width: 100%}\n",
              "    .wandb-row { display: flex; flex-direction: row; flex-wrap: wrap; justify-content: flex-start; width: 100% }\n",
              "    .wandb-col { display: flex; flex-direction: column; flex-basis: 100%; flex: 1; padding: 10px; }\n",
              "    </style>\n",
              "<div class=\"wandb-row\"><div class=\"wandb-col\"><h3>Run history:</h3><br/><table class=\"wandb\"><tr><td>adj_r2</td><td>▁</td></tr><tr><td>mae</td><td>▁</td></tr><tr><td>mse</td><td>▁</td></tr><tr><td>r2</td><td>▁</td></tr><tr><td>rmse</td><td>▁</td></tr><tr><td>rmsle</td><td>▁</td></tr></table><br/></div><div class=\"wandb-col\"><h3>Run summary:</h3><br/><table class=\"wandb\"><tr><td>adj_r2</td><td>0.81665</td></tr><tr><td>mae</td><td>1754.95412</td></tr><tr><td>mse</td><td>13068726.24592</td></tr><tr><td>r2</td><td>0.81666</td></tr><tr><td>rmse</td><td>3615.06933</td></tr><tr><td>rmsle</td><td>8.19287</td></tr></table><br/></div></div>"
            ],
            "text/plain": [
              "<IPython.core.display.HTML object>"
            ]
          },
          "metadata": {},
          "output_type": "display_data"
        },
        {
          "data": {
            "text/html": [
              "Synced <strong style=\"color:#cdcd00\">celestial-sweep-16</strong>: <a href=\"https://wandb.ai/rajeshtr/car_resale_value/runs/3t7ray02\" target=\"_blank\">https://wandb.ai/rajeshtr/car_resale_value/runs/3t7ray02</a><br/>Synced 6 W&B file(s), 0 media file(s), 0 artifact file(s) and 0 other file(s)"
            ],
            "text/plain": [
              "<IPython.core.display.HTML object>"
            ]
          },
          "metadata": {},
          "output_type": "display_data"
        },
        {
          "data": {
            "text/html": [
              "Find logs at: <code>.\\wandb\\run-20221110_142751-3t7ray02\\logs</code>"
            ],
            "text/plain": [
              "<IPython.core.display.HTML object>"
            ]
          },
          "metadata": {},
          "output_type": "display_data"
        },
        {
          "name": "stderr",
          "output_type": "stream",
          "text": [
            "\u001b[34m\u001b[1mwandb\u001b[0m: Agent Starting Run: 3e6gq8de with config:\n",
            "\u001b[34m\u001b[1mwandb\u001b[0m: \tboosting_type: dart\n",
            "\u001b[34m\u001b[1mwandb\u001b[0m: \tlearning_rate: 0.03\n",
            "\u001b[34m\u001b[1mwandb\u001b[0m: \tmetric: rmse\n",
            "\u001b[34m\u001b[1mwandb\u001b[0m: \tn_estimators: 200\n",
            "\u001b[34m\u001b[1mwandb\u001b[0m: \tobjective: root_mean_squared_error\n",
            "\u001b[34m\u001b[1mwandb\u001b[0m: \trandom_state: 42\n",
            "\u001b[34m\u001b[1mwandb\u001b[0m: \treg_sqrt: True\n"
          ]
        },
        {
          "data": {
            "application/vnd.jupyter.widget-view+json": {
              "model_id": "161a5c1093cf4665849e05e5226aa408",
              "version_major": 2,
              "version_minor": 0
            },
            "text/plain": [
              "VBox(children=(Label(value='Waiting for wandb.init()...\\r'), FloatProgress(value=0.01691666666495924, max=1.0)…"
            ]
          },
          "metadata": {},
          "output_type": "display_data"
        },
        {
          "data": {
            "text/html": [
              "Tracking run with wandb version 0.13.5"
            ],
            "text/plain": [
              "<IPython.core.display.HTML object>"
            ]
          },
          "metadata": {},
          "output_type": "display_data"
        },
        {
          "data": {
            "text/html": [
              "Run data is saved locally in <code>C:\\Users\\Rajesh\\wandb\\run-20221110_142852-3e6gq8de</code>"
            ],
            "text/plain": [
              "<IPython.core.display.HTML object>"
            ]
          },
          "metadata": {},
          "output_type": "display_data"
        },
        {
          "data": {
            "text/html": [
              "Syncing run <strong><a href=\"https://wandb.ai/rajeshtr/car_resale_value/runs/3e6gq8de\" target=\"_blank\">fancy-sweep-17</a></strong> to <a href=\"https://wandb.ai/rajeshtr/car_resale_value\" target=\"_blank\">Weights & Biases</a> (<a href=\"https://wandb.me/run\" target=\"_blank\">docs</a>)<br/>Sweep page:  <a href=\"https://wandb.ai/rajeshtr/car_resale_value/sweeps/b30glh4n\" target=\"_blank\">https://wandb.ai/rajeshtr/car_resale_value/sweeps/b30glh4n</a>"
            ],
            "text/plain": [
              "<IPython.core.display.HTML object>"
            ]
          },
          "metadata": {},
          "output_type": "display_data"
        },
        {
          "name": "stderr",
          "output_type": "stream",
          "text": [
            "C:\\Users\\Rajesh\\anaconda3\\lib\\site-packages\\sklearn\\utils\\validation.py:993: DataConversionWarning: A column-vector y was passed when a 1d array was expected. Please change the shape of y to (n_samples, ), for example using ravel().\n",
            "  y = column_or_1d(y, warn=True)\n"
          ]
        },
        {
          "data": {
            "text/html": [
              "Waiting for W&B process to finish... <strong style=\"color:green\">(success).</strong>"
            ],
            "text/plain": [
              "<IPython.core.display.HTML object>"
            ]
          },
          "metadata": {},
          "output_type": "display_data"
        },
        {
          "data": {
            "text/html": [
              "<style>\n",
              "    table.wandb td:nth-child(1) { padding: 0 10px; text-align: left ; width: auto;} td:nth-child(2) {text-align: left ; width: 100%}\n",
              "    .wandb-row { display: flex; flex-direction: row; flex-wrap: wrap; justify-content: flex-start; width: 100% }\n",
              "    .wandb-col { display: flex; flex-direction: column; flex-basis: 100%; flex: 1; padding: 10px; }\n",
              "    </style>\n",
              "<div class=\"wandb-row\"><div class=\"wandb-col\"><h3>Run history:</h3><br/><table class=\"wandb\"><tr><td>adj_r2</td><td>▁</td></tr><tr><td>mae</td><td>▁</td></tr><tr><td>mse</td><td>▁</td></tr><tr><td>r2</td><td>▁</td></tr><tr><td>rmse</td><td>▁</td></tr><tr><td>rmsle</td><td>▁</td></tr></table><br/></div><div class=\"wandb-col\"><h3>Run summary:</h3><br/><table class=\"wandb\"><tr><td>adj_r2</td><td>0.85067</td></tr><tr><td>mae</td><td>1495.09347</td></tr><tr><td>mse</td><td>10643875.82927</td></tr><tr><td>r2</td><td>0.85068</td></tr><tr><td>rmse</td><td>3262.49534</td></tr><tr><td>rmsle</td><td>8.09025</td></tr></table><br/></div></div>"
            ],
            "text/plain": [
              "<IPython.core.display.HTML object>"
            ]
          },
          "metadata": {},
          "output_type": "display_data"
        },
        {
          "data": {
            "text/html": [
              "Synced <strong style=\"color:#cdcd00\">fancy-sweep-17</strong>: <a href=\"https://wandb.ai/rajeshtr/car_resale_value/runs/3e6gq8de\" target=\"_blank\">https://wandb.ai/rajeshtr/car_resale_value/runs/3e6gq8de</a><br/>Synced 6 W&B file(s), 0 media file(s), 0 artifact file(s) and 0 other file(s)"
            ],
            "text/plain": [
              "<IPython.core.display.HTML object>"
            ]
          },
          "metadata": {},
          "output_type": "display_data"
        },
        {
          "data": {
            "text/html": [
              "Find logs at: <code>.\\wandb\\run-20221110_142852-3e6gq8de\\logs</code>"
            ],
            "text/plain": [
              "<IPython.core.display.HTML object>"
            ]
          },
          "metadata": {},
          "output_type": "display_data"
        },
        {
          "name": "stderr",
          "output_type": "stream",
          "text": [
            "\u001b[34m\u001b[1mwandb\u001b[0m: Agent Starting Run: dvjrq8fr with config:\n",
            "\u001b[34m\u001b[1mwandb\u001b[0m: \tboosting_type: dart\n",
            "\u001b[34m\u001b[1mwandb\u001b[0m: \tlearning_rate: 0.03\n",
            "\u001b[34m\u001b[1mwandb\u001b[0m: \tmetric: rmse\n",
            "\u001b[34m\u001b[1mwandb\u001b[0m: \tn_estimators: 300\n",
            "\u001b[34m\u001b[1mwandb\u001b[0m: \tobjective: root_mean_squared_error\n",
            "\u001b[34m\u001b[1mwandb\u001b[0m: \trandom_state: 42\n",
            "\u001b[34m\u001b[1mwandb\u001b[0m: \treg_sqrt: True\n"
          ]
        },
        {
          "data": {
            "application/vnd.jupyter.widget-view+json": {
              "model_id": "f60bc58a581a4888aee6a68b6ec01452",
              "version_major": 2,
              "version_minor": 0
            },
            "text/plain": [
              "VBox(children=(Label(value='Waiting for wandb.init()...\\r'), FloatProgress(value=0.01693333333435779, max=1.0)…"
            ]
          },
          "metadata": {},
          "output_type": "display_data"
        },
        {
          "data": {
            "text/html": [
              "Tracking run with wandb version 0.13.5"
            ],
            "text/plain": [
              "<IPython.core.display.HTML object>"
            ]
          },
          "metadata": {},
          "output_type": "display_data"
        },
        {
          "data": {
            "text/html": [
              "Run data is saved locally in <code>C:\\Users\\Rajesh\\wandb\\run-20221110_142937-dvjrq8fr</code>"
            ],
            "text/plain": [
              "<IPython.core.display.HTML object>"
            ]
          },
          "metadata": {},
          "output_type": "display_data"
        },
        {
          "data": {
            "text/html": [
              "Syncing run <strong><a href=\"https://wandb.ai/rajeshtr/car_resale_value/runs/dvjrq8fr\" target=\"_blank\">confused-sweep-18</a></strong> to <a href=\"https://wandb.ai/rajeshtr/car_resale_value\" target=\"_blank\">Weights & Biases</a> (<a href=\"https://wandb.me/run\" target=\"_blank\">docs</a>)<br/>Sweep page:  <a href=\"https://wandb.ai/rajeshtr/car_resale_value/sweeps/b30glh4n\" target=\"_blank\">https://wandb.ai/rajeshtr/car_resale_value/sweeps/b30glh4n</a>"
            ],
            "text/plain": [
              "<IPython.core.display.HTML object>"
            ]
          },
          "metadata": {},
          "output_type": "display_data"
        },
        {
          "name": "stderr",
          "output_type": "stream",
          "text": [
            "C:\\Users\\Rajesh\\anaconda3\\lib\\site-packages\\sklearn\\utils\\validation.py:993: DataConversionWarning: A column-vector y was passed when a 1d array was expected. Please change the shape of y to (n_samples, ), for example using ravel().\n",
            "  y = column_or_1d(y, warn=True)\n"
          ]
        },
        {
          "data": {
            "text/html": [
              "Waiting for W&B process to finish... <strong style=\"color:green\">(success).</strong>"
            ],
            "text/plain": [
              "<IPython.core.display.HTML object>"
            ]
          },
          "metadata": {},
          "output_type": "display_data"
        },
        {
          "data": {
            "text/html": [
              "<style>\n",
              "    table.wandb td:nth-child(1) { padding: 0 10px; text-align: left ; width: auto;} td:nth-child(2) {text-align: left ; width: 100%}\n",
              "    .wandb-row { display: flex; flex-direction: row; flex-wrap: wrap; justify-content: flex-start; width: 100% }\n",
              "    .wandb-col { display: flex; flex-direction: column; flex-basis: 100%; flex: 1; padding: 10px; }\n",
              "    </style>\n",
              "<div class=\"wandb-row\"><div class=\"wandb-col\"><h3>Run history:</h3><br/><table class=\"wandb\"><tr><td>adj_r2</td><td>▁</td></tr><tr><td>mae</td><td>▁</td></tr><tr><td>mse</td><td>▁</td></tr><tr><td>r2</td><td>▁</td></tr><tr><td>rmse</td><td>▁</td></tr><tr><td>rmsle</td><td>▁</td></tr></table><br/></div><div class=\"wandb-col\"><h3>Run summary:</h3><br/><table class=\"wandb\"><tr><td>adj_r2</td><td>0.85858</td></tr><tr><td>mae</td><td>1439.8065</td></tr><tr><td>mse</td><td>10080191.14825</td></tr><tr><td>r2</td><td>0.85859</td></tr><tr><td>rmse</td><td>3174.93168</td></tr><tr><td>rmsle</td><td>8.06304</td></tr></table><br/></div></div>"
            ],
            "text/plain": [
              "<IPython.core.display.HTML object>"
            ]
          },
          "metadata": {},
          "output_type": "display_data"
        },
        {
          "data": {
            "text/html": [
              "Synced <strong style=\"color:#cdcd00\">confused-sweep-18</strong>: <a href=\"https://wandb.ai/rajeshtr/car_resale_value/runs/dvjrq8fr\" target=\"_blank\">https://wandb.ai/rajeshtr/car_resale_value/runs/dvjrq8fr</a><br/>Synced 6 W&B file(s), 0 media file(s), 0 artifact file(s) and 0 other file(s)"
            ],
            "text/plain": [
              "<IPython.core.display.HTML object>"
            ]
          },
          "metadata": {},
          "output_type": "display_data"
        },
        {
          "data": {
            "text/html": [
              "Find logs at: <code>.\\wandb\\run-20221110_142937-dvjrq8fr\\logs</code>"
            ],
            "text/plain": [
              "<IPython.core.display.HTML object>"
            ]
          },
          "metadata": {},
          "output_type": "display_data"
        },
        {
          "name": "stderr",
          "output_type": "stream",
          "text": [
            "\u001b[34m\u001b[1mwandb\u001b[0m: Sweep Agent: Waiting for job.\n",
            "\u001b[34m\u001b[1mwandb\u001b[0m: Job received.\n",
            "\u001b[34m\u001b[1mwandb\u001b[0m: Agent Starting Run: e8vecssu with config:\n",
            "\u001b[34m\u001b[1mwandb\u001b[0m: \tboosting_type: dart\n",
            "\u001b[34m\u001b[1mwandb\u001b[0m: \tlearning_rate: 0.05\n",
            "\u001b[34m\u001b[1mwandb\u001b[0m: \tmetric: rmse\n",
            "\u001b[34m\u001b[1mwandb\u001b[0m: \tn_estimators: 100\n",
            "\u001b[34m\u001b[1mwandb\u001b[0m: \tobjective: root_mean_squared_error\n",
            "\u001b[34m\u001b[1mwandb\u001b[0m: \trandom_state: 42\n",
            "\u001b[34m\u001b[1mwandb\u001b[0m: \treg_sqrt: True\n"
          ]
        },
        {
          "data": {
            "application/vnd.jupyter.widget-view+json": {
              "model_id": "cbe8be5561454a86aeb44352d7c2441d",
              "version_major": 2,
              "version_minor": 0
            },
            "text/plain": [
              "VBox(children=(Label(value='Waiting for wandb.init()...\\r'), FloatProgress(value=0.016666666666666666, max=1.0…"
            ]
          },
          "metadata": {},
          "output_type": "display_data"
        },
        {
          "data": {
            "text/html": [
              "Tracking run with wandb version 0.13.5"
            ],
            "text/plain": [
              "<IPython.core.display.HTML object>"
            ]
          },
          "metadata": {},
          "output_type": "display_data"
        },
        {
          "data": {
            "text/html": [
              "Run data is saved locally in <code>C:\\Users\\Rajesh\\wandb\\run-20221110_143040-e8vecssu</code>"
            ],
            "text/plain": [
              "<IPython.core.display.HTML object>"
            ]
          },
          "metadata": {},
          "output_type": "display_data"
        },
        {
          "data": {
            "text/html": [
              "Syncing run <strong><a href=\"https://wandb.ai/rajeshtr/car_resale_value/runs/e8vecssu\" target=\"_blank\">resilient-sweep-19</a></strong> to <a href=\"https://wandb.ai/rajeshtr/car_resale_value\" target=\"_blank\">Weights & Biases</a> (<a href=\"https://wandb.me/run\" target=\"_blank\">docs</a>)<br/>Sweep page:  <a href=\"https://wandb.ai/rajeshtr/car_resale_value/sweeps/b30glh4n\" target=\"_blank\">https://wandb.ai/rajeshtr/car_resale_value/sweeps/b30glh4n</a>"
            ],
            "text/plain": [
              "<IPython.core.display.HTML object>"
            ]
          },
          "metadata": {},
          "output_type": "display_data"
        },
        {
          "name": "stderr",
          "output_type": "stream",
          "text": [
            "C:\\Users\\Rajesh\\anaconda3\\lib\\site-packages\\sklearn\\utils\\validation.py:993: DataConversionWarning: A column-vector y was passed when a 1d array was expected. Please change the shape of y to (n_samples, ), for example using ravel().\n",
            "  y = column_or_1d(y, warn=True)\n"
          ]
        },
        {
          "data": {
            "text/html": [
              "Waiting for W&B process to finish... <strong style=\"color:green\">(success).</strong>"
            ],
            "text/plain": [
              "<IPython.core.display.HTML object>"
            ]
          },
          "metadata": {},
          "output_type": "display_data"
        },
        {
          "data": {
            "text/html": [
              "<style>\n",
              "    table.wandb td:nth-child(1) { padding: 0 10px; text-align: left ; width: auto;} td:nth-child(2) {text-align: left ; width: 100%}\n",
              "    .wandb-row { display: flex; flex-direction: row; flex-wrap: wrap; justify-content: flex-start; width: 100% }\n",
              "    .wandb-col { display: flex; flex-direction: column; flex-basis: 100%; flex: 1; padding: 10px; }\n",
              "    </style>\n",
              "<div class=\"wandb-row\"><div class=\"wandb-col\"><h3>Run history:</h3><br/><table class=\"wandb\"><tr><td>adj_r2</td><td>▁</td></tr><tr><td>mae</td><td>▁</td></tr><tr><td>mse</td><td>▁</td></tr><tr><td>r2</td><td>▁</td></tr><tr><td>rmse</td><td>▁</td></tr><tr><td>rmsle</td><td>▁</td></tr></table><br/></div><div class=\"wandb-col\"><h3>Run summary:</h3><br/><table class=\"wandb\"><tr><td>adj_r2</td><td>0.84626</td></tr><tr><td>mae</td><td>1530.49088</td></tr><tr><td>mse</td><td>10957978.66601</td></tr><tr><td>r2</td><td>0.84627</td></tr><tr><td>rmse</td><td>3310.28377</td></tr><tr><td>rmsle</td><td>8.10479</td></tr></table><br/></div></div>"
            ],
            "text/plain": [
              "<IPython.core.display.HTML object>"
            ]
          },
          "metadata": {},
          "output_type": "display_data"
        },
        {
          "data": {
            "text/html": [
              "Synced <strong style=\"color:#cdcd00\">resilient-sweep-19</strong>: <a href=\"https://wandb.ai/rajeshtr/car_resale_value/runs/e8vecssu\" target=\"_blank\">https://wandb.ai/rajeshtr/car_resale_value/runs/e8vecssu</a><br/>Synced 6 W&B file(s), 0 media file(s), 0 artifact file(s) and 0 other file(s)"
            ],
            "text/plain": [
              "<IPython.core.display.HTML object>"
            ]
          },
          "metadata": {},
          "output_type": "display_data"
        },
        {
          "data": {
            "text/html": [
              "Find logs at: <code>.\\wandb\\run-20221110_143040-e8vecssu\\logs</code>"
            ],
            "text/plain": [
              "<IPython.core.display.HTML object>"
            ]
          },
          "metadata": {},
          "output_type": "display_data"
        },
        {
          "name": "stderr",
          "output_type": "stream",
          "text": [
            "\u001b[34m\u001b[1mwandb\u001b[0m: Sweep Agent: Waiting for job.\n",
            "\u001b[34m\u001b[1mwandb\u001b[0m: Job received.\n",
            "\u001b[34m\u001b[1mwandb\u001b[0m: Agent Starting Run: nhxnnbcx with config:\n",
            "\u001b[34m\u001b[1mwandb\u001b[0m: \tboosting_type: dart\n",
            "\u001b[34m\u001b[1mwandb\u001b[0m: \tlearning_rate: 0.05\n",
            "\u001b[34m\u001b[1mwandb\u001b[0m: \tmetric: rmse\n",
            "\u001b[34m\u001b[1mwandb\u001b[0m: \tn_estimators: 200\n",
            "\u001b[34m\u001b[1mwandb\u001b[0m: \tobjective: root_mean_squared_error\n",
            "\u001b[34m\u001b[1mwandb\u001b[0m: \trandom_state: 42\n",
            "\u001b[34m\u001b[1mwandb\u001b[0m: \treg_sqrt: True\n"
          ]
        },
        {
          "data": {
            "application/vnd.jupyter.widget-view+json": {
              "model_id": "f550f050da1b478bb306192ddf5947fd",
              "version_major": 2,
              "version_minor": 0
            },
            "text/plain": [
              "VBox(children=(Label(value='Waiting for wandb.init()...\\r'), FloatProgress(value=0.01693333333435779, max=1.0)…"
            ]
          },
          "metadata": {},
          "output_type": "display_data"
        },
        {
          "data": {
            "text/html": [
              "Tracking run with wandb version 0.13.5"
            ],
            "text/plain": [
              "<IPython.core.display.HTML object>"
            ]
          },
          "metadata": {},
          "output_type": "display_data"
        },
        {
          "data": {
            "text/html": [
              "Run data is saved locally in <code>C:\\Users\\Rajesh\\wandb\\run-20221110_143141-nhxnnbcx</code>"
            ],
            "text/plain": [
              "<IPython.core.display.HTML object>"
            ]
          },
          "metadata": {},
          "output_type": "display_data"
        },
        {
          "data": {
            "text/html": [
              "Syncing run <strong><a href=\"https://wandb.ai/rajeshtr/car_resale_value/runs/nhxnnbcx\" target=\"_blank\">zany-sweep-20</a></strong> to <a href=\"https://wandb.ai/rajeshtr/car_resale_value\" target=\"_blank\">Weights & Biases</a> (<a href=\"https://wandb.me/run\" target=\"_blank\">docs</a>)<br/>Sweep page:  <a href=\"https://wandb.ai/rajeshtr/car_resale_value/sweeps/b30glh4n\" target=\"_blank\">https://wandb.ai/rajeshtr/car_resale_value/sweeps/b30glh4n</a>"
            ],
            "text/plain": [
              "<IPython.core.display.HTML object>"
            ]
          },
          "metadata": {},
          "output_type": "display_data"
        },
        {
          "name": "stderr",
          "output_type": "stream",
          "text": [
            "C:\\Users\\Rajesh\\anaconda3\\lib\\site-packages\\sklearn\\utils\\validation.py:993: DataConversionWarning: A column-vector y was passed when a 1d array was expected. Please change the shape of y to (n_samples, ), for example using ravel().\n",
            "  y = column_or_1d(y, warn=True)\n"
          ]
        },
        {
          "data": {
            "text/html": [
              "Waiting for W&B process to finish... <strong style=\"color:green\">(success).</strong>"
            ],
            "text/plain": [
              "<IPython.core.display.HTML object>"
            ]
          },
          "metadata": {},
          "output_type": "display_data"
        },
        {
          "data": {
            "text/html": [
              "<style>\n",
              "    table.wandb td:nth-child(1) { padding: 0 10px; text-align: left ; width: auto;} td:nth-child(2) {text-align: left ; width: 100%}\n",
              "    .wandb-row { display: flex; flex-direction: row; flex-wrap: wrap; justify-content: flex-start; width: 100% }\n",
              "    .wandb-col { display: flex; flex-direction: column; flex-basis: 100%; flex: 1; padding: 10px; }\n",
              "    </style>\n",
              "<div class=\"wandb-row\"><div class=\"wandb-col\"><h3>Run history:</h3><br/><table class=\"wandb\"><tr><td>adj_r2</td><td>▁</td></tr><tr><td>mae</td><td>▁</td></tr><tr><td>mse</td><td>▁</td></tr><tr><td>r2</td><td>▁</td></tr><tr><td>rmse</td><td>▁</td></tr><tr><td>rmsle</td><td>▁</td></tr></table><br/></div><div class=\"wandb-col\"><h3>Run summary:</h3><br/><table class=\"wandb\"><tr><td>adj_r2</td><td>0.86099</td></tr><tr><td>mae</td><td>1429.55205</td></tr><tr><td>mse</td><td>9908330.98023</td></tr><tr><td>r2</td><td>0.861</td></tr><tr><td>rmse</td><td>3147.75015</td></tr><tr><td>rmsle</td><td>8.05444</td></tr></table><br/></div></div>"
            ],
            "text/plain": [
              "<IPython.core.display.HTML object>"
            ]
          },
          "metadata": {},
          "output_type": "display_data"
        },
        {
          "data": {
            "text/html": [
              "Synced <strong style=\"color:#cdcd00\">zany-sweep-20</strong>: <a href=\"https://wandb.ai/rajeshtr/car_resale_value/runs/nhxnnbcx\" target=\"_blank\">https://wandb.ai/rajeshtr/car_resale_value/runs/nhxnnbcx</a><br/>Synced 6 W&B file(s), 0 media file(s), 0 artifact file(s) and 0 other file(s)"
            ],
            "text/plain": [
              "<IPython.core.display.HTML object>"
            ]
          },
          "metadata": {},
          "output_type": "display_data"
        },
        {
          "data": {
            "text/html": [
              "Find logs at: <code>.\\wandb\\run-20221110_143141-nhxnnbcx\\logs</code>"
            ],
            "text/plain": [
              "<IPython.core.display.HTML object>"
            ]
          },
          "metadata": {},
          "output_type": "display_data"
        },
        {
          "name": "stderr",
          "output_type": "stream",
          "text": [
            "\u001b[34m\u001b[1mwandb\u001b[0m: Agent Starting Run: 7se2z98a with config:\n",
            "\u001b[34m\u001b[1mwandb\u001b[0m: \tboosting_type: dart\n",
            "\u001b[34m\u001b[1mwandb\u001b[0m: \tlearning_rate: 0.05\n",
            "\u001b[34m\u001b[1mwandb\u001b[0m: \tmetric: rmse\n",
            "\u001b[34m\u001b[1mwandb\u001b[0m: \tn_estimators: 300\n",
            "\u001b[34m\u001b[1mwandb\u001b[0m: \tobjective: root_mean_squared_error\n",
            "\u001b[34m\u001b[1mwandb\u001b[0m: \trandom_state: 42\n",
            "\u001b[34m\u001b[1mwandb\u001b[0m: \treg_sqrt: True\n"
          ]
        },
        {
          "data": {
            "application/vnd.jupyter.widget-view+json": {
              "model_id": "3a9cf91aae764adebc8ec622ea205f5f",
              "version_major": 2,
              "version_minor": 0
            },
            "text/plain": [
              "VBox(children=(Label(value='Waiting for wandb.init()...\\r'), FloatProgress(value=0.01693333333435779, max=1.0)…"
            ]
          },
          "metadata": {},
          "output_type": "display_data"
        },
        {
          "data": {
            "text/html": [
              "Tracking run with wandb version 0.13.5"
            ],
            "text/plain": [
              "<IPython.core.display.HTML object>"
            ]
          },
          "metadata": {},
          "output_type": "display_data"
        },
        {
          "data": {
            "text/html": [
              "Run data is saved locally in <code>C:\\Users\\Rajesh\\wandb\\run-20221110_143244-7se2z98a</code>"
            ],
            "text/plain": [
              "<IPython.core.display.HTML object>"
            ]
          },
          "metadata": {},
          "output_type": "display_data"
        },
        {
          "data": {
            "text/html": [
              "Syncing run <strong><a href=\"https://wandb.ai/rajeshtr/car_resale_value/runs/7se2z98a\" target=\"_blank\">amber-sweep-21</a></strong> to <a href=\"https://wandb.ai/rajeshtr/car_resale_value\" target=\"_blank\">Weights & Biases</a> (<a href=\"https://wandb.me/run\" target=\"_blank\">docs</a>)<br/>Sweep page:  <a href=\"https://wandb.ai/rajeshtr/car_resale_value/sweeps/b30glh4n\" target=\"_blank\">https://wandb.ai/rajeshtr/car_resale_value/sweeps/b30glh4n</a>"
            ],
            "text/plain": [
              "<IPython.core.display.HTML object>"
            ]
          },
          "metadata": {},
          "output_type": "display_data"
        },
        {
          "name": "stderr",
          "output_type": "stream",
          "text": [
            "C:\\Users\\Rajesh\\anaconda3\\lib\\site-packages\\sklearn\\utils\\validation.py:993: DataConversionWarning: A column-vector y was passed when a 1d array was expected. Please change the shape of y to (n_samples, ), for example using ravel().\n",
            "  y = column_or_1d(y, warn=True)\n"
          ]
        },
        {
          "data": {
            "text/html": [
              "Waiting for W&B process to finish... <strong style=\"color:green\">(success).</strong>"
            ],
            "text/plain": [
              "<IPython.core.display.HTML object>"
            ]
          },
          "metadata": {},
          "output_type": "display_data"
        },
        {
          "data": {
            "text/html": [
              "<style>\n",
              "    table.wandb td:nth-child(1) { padding: 0 10px; text-align: left ; width: auto;} td:nth-child(2) {text-align: left ; width: 100%}\n",
              "    .wandb-row { display: flex; flex-direction: row; flex-wrap: wrap; justify-content: flex-start; width: 100% }\n",
              "    .wandb-col { display: flex; flex-direction: column; flex-basis: 100%; flex: 1; padding: 10px; }\n",
              "    </style>\n",
              "<div class=\"wandb-row\"><div class=\"wandb-col\"><h3>Run history:</h3><br/><table class=\"wandb\"><tr><td>adj_r2</td><td>▁</td></tr><tr><td>mae</td><td>▁</td></tr><tr><td>mse</td><td>▁</td></tr><tr><td>r2</td><td>▁</td></tr><tr><td>rmse</td><td>▁</td></tr><tr><td>rmsle</td><td>▁</td></tr></table><br/></div><div class=\"wandb-col\"><h3>Run summary:</h3><br/><table class=\"wandb\"><tr><td>adj_r2</td><td>0.86549</td></tr><tr><td>mae</td><td>1392.98454</td></tr><tr><td>mse</td><td>9587424.95896</td></tr><tr><td>r2</td><td>0.8655</td></tr><tr><td>rmse</td><td>3096.35672</td></tr><tr><td>rmsle</td><td>8.03798</td></tr></table><br/></div></div>"
            ],
            "text/plain": [
              "<IPython.core.display.HTML object>"
            ]
          },
          "metadata": {},
          "output_type": "display_data"
        },
        {
          "data": {
            "text/html": [
              "Synced <strong style=\"color:#cdcd00\">amber-sweep-21</strong>: <a href=\"https://wandb.ai/rajeshtr/car_resale_value/runs/7se2z98a\" target=\"_blank\">https://wandb.ai/rajeshtr/car_resale_value/runs/7se2z98a</a><br/>Synced 6 W&B file(s), 0 media file(s), 0 artifact file(s) and 0 other file(s)"
            ],
            "text/plain": [
              "<IPython.core.display.HTML object>"
            ]
          },
          "metadata": {},
          "output_type": "display_data"
        },
        {
          "data": {
            "text/html": [
              "Find logs at: <code>.\\wandb\\run-20221110_143244-7se2z98a\\logs</code>"
            ],
            "text/plain": [
              "<IPython.core.display.HTML object>"
            ]
          },
          "metadata": {},
          "output_type": "display_data"
        },
        {
          "name": "stderr",
          "output_type": "stream",
          "text": [
            "\u001b[34m\u001b[1mwandb\u001b[0m: Sweep Agent: Waiting for job.\n",
            "\u001b[34m\u001b[1mwandb\u001b[0m: Job received.\n",
            "\u001b[34m\u001b[1mwandb\u001b[0m: Agent Starting Run: ywidpy3n with config:\n",
            "\u001b[34m\u001b[1mwandb\u001b[0m: \tboosting_type: dart\n",
            "\u001b[34m\u001b[1mwandb\u001b[0m: \tlearning_rate: 0.07\n",
            "\u001b[34m\u001b[1mwandb\u001b[0m: \tmetric: rmse\n",
            "\u001b[34m\u001b[1mwandb\u001b[0m: \tn_estimators: 100\n",
            "\u001b[34m\u001b[1mwandb\u001b[0m: \tobjective: root_mean_squared_error\n",
            "\u001b[34m\u001b[1mwandb\u001b[0m: \trandom_state: 42\n",
            "\u001b[34m\u001b[1mwandb\u001b[0m: \treg_sqrt: True\n"
          ]
        },
        {
          "data": {
            "application/vnd.jupyter.widget-view+json": {
              "model_id": "eeb34a17936140aea0c1a9b52f11c638",
              "version_major": 2,
              "version_minor": 0
            },
            "text/plain": [
              "VBox(children=(Label(value='Waiting for wandb.init()...\\r'), FloatProgress(value=0.016666666666666666, max=1.0…"
            ]
          },
          "metadata": {},
          "output_type": "display_data"
        },
        {
          "data": {
            "text/html": [
              "Tracking run with wandb version 0.13.5"
            ],
            "text/plain": [
              "<IPython.core.display.HTML object>"
            ]
          },
          "metadata": {},
          "output_type": "display_data"
        },
        {
          "data": {
            "text/html": [
              "Run data is saved locally in <code>C:\\Users\\Rajesh\\wandb\\run-20221110_143338-ywidpy3n</code>"
            ],
            "text/plain": [
              "<IPython.core.display.HTML object>"
            ]
          },
          "metadata": {},
          "output_type": "display_data"
        },
        {
          "data": {
            "text/html": [
              "Syncing run <strong><a href=\"https://wandb.ai/rajeshtr/car_resale_value/runs/ywidpy3n\" target=\"_blank\">curious-sweep-22</a></strong> to <a href=\"https://wandb.ai/rajeshtr/car_resale_value\" target=\"_blank\">Weights & Biases</a> (<a href=\"https://wandb.me/run\" target=\"_blank\">docs</a>)<br/>Sweep page:  <a href=\"https://wandb.ai/rajeshtr/car_resale_value/sweeps/b30glh4n\" target=\"_blank\">https://wandb.ai/rajeshtr/car_resale_value/sweeps/b30glh4n</a>"
            ],
            "text/plain": [
              "<IPython.core.display.HTML object>"
            ]
          },
          "metadata": {},
          "output_type": "display_data"
        },
        {
          "name": "stderr",
          "output_type": "stream",
          "text": [
            "C:\\Users\\Rajesh\\anaconda3\\lib\\site-packages\\sklearn\\utils\\validation.py:993: DataConversionWarning: A column-vector y was passed when a 1d array was expected. Please change the shape of y to (n_samples, ), for example using ravel().\n",
            "  y = column_or_1d(y, warn=True)\n"
          ]
        },
        {
          "data": {
            "text/html": [
              "Waiting for W&B process to finish... <strong style=\"color:green\">(success).</strong>"
            ],
            "text/plain": [
              "<IPython.core.display.HTML object>"
            ]
          },
          "metadata": {},
          "output_type": "display_data"
        },
        {
          "data": {
            "text/html": [
              "<style>\n",
              "    table.wandb td:nth-child(1) { padding: 0 10px; text-align: left ; width: auto;} td:nth-child(2) {text-align: left ; width: 100%}\n",
              "    .wandb-row { display: flex; flex-direction: row; flex-wrap: wrap; justify-content: flex-start; width: 100% }\n",
              "    .wandb-col { display: flex; flex-direction: column; flex-basis: 100%; flex: 1; padding: 10px; }\n",
              "    </style>\n",
              "<div class=\"wandb-row\"><div class=\"wandb-col\"><h3>Run history:</h3><br/><table class=\"wandb\"><tr><td>adj_r2</td><td>▁</td></tr><tr><td>mae</td><td>▁</td></tr><tr><td>mse</td><td>▁</td></tr><tr><td>r2</td><td>▁</td></tr><tr><td>rmse</td><td>▁</td></tr><tr><td>rmsle</td><td>▁</td></tr></table><br/></div><div class=\"wandb-col\"><h3>Run summary:</h3><br/><table class=\"wandb\"><tr><td>adj_r2</td><td>0.85557</td></tr><tr><td>mae</td><td>1467.09127</td></tr><tr><td>mse</td><td>10294938.17779</td></tr><tr><td>r2</td><td>0.85557</td></tr><tr><td>rmse</td><td>3208.57261</td></tr><tr><td>rmsle</td><td>8.07358</td></tr></table><br/></div></div>"
            ],
            "text/plain": [
              "<IPython.core.display.HTML object>"
            ]
          },
          "metadata": {},
          "output_type": "display_data"
        },
        {
          "data": {
            "text/html": [
              "Synced <strong style=\"color:#cdcd00\">curious-sweep-22</strong>: <a href=\"https://wandb.ai/rajeshtr/car_resale_value/runs/ywidpy3n\" target=\"_blank\">https://wandb.ai/rajeshtr/car_resale_value/runs/ywidpy3n</a><br/>Synced 6 W&B file(s), 0 media file(s), 0 artifact file(s) and 0 other file(s)"
            ],
            "text/plain": [
              "<IPython.core.display.HTML object>"
            ]
          },
          "metadata": {},
          "output_type": "display_data"
        },
        {
          "data": {
            "text/html": [
              "Find logs at: <code>.\\wandb\\run-20221110_143338-ywidpy3n\\logs</code>"
            ],
            "text/plain": [
              "<IPython.core.display.HTML object>"
            ]
          },
          "metadata": {},
          "output_type": "display_data"
        },
        {
          "name": "stderr",
          "output_type": "stream",
          "text": [
            "\u001b[34m\u001b[1mwandb\u001b[0m: Sweep Agent: Waiting for job.\n",
            "\u001b[34m\u001b[1mwandb\u001b[0m: Job received.\n",
            "\u001b[34m\u001b[1mwandb\u001b[0m: Agent Starting Run: wkiwe85h with config:\n",
            "\u001b[34m\u001b[1mwandb\u001b[0m: \tboosting_type: dart\n",
            "\u001b[34m\u001b[1mwandb\u001b[0m: \tlearning_rate: 0.07\n",
            "\u001b[34m\u001b[1mwandb\u001b[0m: \tmetric: rmse\n",
            "\u001b[34m\u001b[1mwandb\u001b[0m: \tn_estimators: 200\n",
            "\u001b[34m\u001b[1mwandb\u001b[0m: \tobjective: root_mean_squared_error\n",
            "\u001b[34m\u001b[1mwandb\u001b[0m: \trandom_state: 42\n",
            "\u001b[34m\u001b[1mwandb\u001b[0m: \treg_sqrt: True\n"
          ]
        },
        {
          "data": {
            "application/vnd.jupyter.widget-view+json": {
              "model_id": "85bf0212b9e34092804e22ec111a9134",
              "version_major": 2,
              "version_minor": 0
            },
            "text/plain": [
              "VBox(children=(Label(value='Waiting for wandb.init()...\\r'), FloatProgress(value=0.016666666666666666, max=1.0…"
            ]
          },
          "metadata": {},
          "output_type": "display_data"
        },
        {
          "data": {
            "text/html": [
              "Tracking run with wandb version 0.13.5"
            ],
            "text/plain": [
              "<IPython.core.display.HTML object>"
            ]
          },
          "metadata": {},
          "output_type": "display_data"
        },
        {
          "data": {
            "text/html": [
              "Run data is saved locally in <code>C:\\Users\\Rajesh\\wandb\\run-20221110_143517-wkiwe85h</code>"
            ],
            "text/plain": [
              "<IPython.core.display.HTML object>"
            ]
          },
          "metadata": {},
          "output_type": "display_data"
        },
        {
          "data": {
            "text/html": [
              "Syncing run <strong><a href=\"https://wandb.ai/rajeshtr/car_resale_value/runs/wkiwe85h\" target=\"_blank\">skilled-sweep-23</a></strong> to <a href=\"https://wandb.ai/rajeshtr/car_resale_value\" target=\"_blank\">Weights & Biases</a> (<a href=\"https://wandb.me/run\" target=\"_blank\">docs</a>)<br/>Sweep page:  <a href=\"https://wandb.ai/rajeshtr/car_resale_value/sweeps/b30glh4n\" target=\"_blank\">https://wandb.ai/rajeshtr/car_resale_value/sweeps/b30glh4n</a>"
            ],
            "text/plain": [
              "<IPython.core.display.HTML object>"
            ]
          },
          "metadata": {},
          "output_type": "display_data"
        },
        {
          "name": "stderr",
          "output_type": "stream",
          "text": [
            "C:\\Users\\Rajesh\\anaconda3\\lib\\site-packages\\sklearn\\utils\\validation.py:993: DataConversionWarning: A column-vector y was passed when a 1d array was expected. Please change the shape of y to (n_samples, ), for example using ravel().\n",
            "  y = column_or_1d(y, warn=True)\n"
          ]
        },
        {
          "data": {
            "text/html": [
              "Waiting for W&B process to finish... <strong style=\"color:green\">(success).</strong>"
            ],
            "text/plain": [
              "<IPython.core.display.HTML object>"
            ]
          },
          "metadata": {},
          "output_type": "display_data"
        },
        {
          "data": {
            "text/html": [
              "<style>\n",
              "    table.wandb td:nth-child(1) { padding: 0 10px; text-align: left ; width: auto;} td:nth-child(2) {text-align: left ; width: 100%}\n",
              "    .wandb-row { display: flex; flex-direction: row; flex-wrap: wrap; justify-content: flex-start; width: 100% }\n",
              "    .wandb-col { display: flex; flex-direction: column; flex-basis: 100%; flex: 1; padding: 10px; }\n",
              "    </style>\n",
              "<div class=\"wandb-row\"><div class=\"wandb-col\"><h3>Run history:</h3><br/><table class=\"wandb\"><tr><td>adj_r2</td><td>▁</td></tr><tr><td>mae</td><td>▁</td></tr><tr><td>mse</td><td>▁</td></tr><tr><td>r2</td><td>▁</td></tr><tr><td>rmse</td><td>▁</td></tr><tr><td>rmsle</td><td>▁</td></tr></table><br/></div><div class=\"wandb-col\"><h3>Run summary:</h3><br/><table class=\"wandb\"><tr><td>adj_r2</td><td>0.86505</td></tr><tr><td>mae</td><td>1400.49904</td></tr><tr><td>mse</td><td>9618944.77269</td></tr><tr><td>r2</td><td>0.86506</td></tr><tr><td>rmse</td><td>3101.44237</td></tr><tr><td>rmsle</td><td>8.03962</td></tr></table><br/></div></div>"
            ],
            "text/plain": [
              "<IPython.core.display.HTML object>"
            ]
          },
          "metadata": {},
          "output_type": "display_data"
        },
        {
          "data": {
            "text/html": [
              "Synced <strong style=\"color:#cdcd00\">skilled-sweep-23</strong>: <a href=\"https://wandb.ai/rajeshtr/car_resale_value/runs/wkiwe85h\" target=\"_blank\">https://wandb.ai/rajeshtr/car_resale_value/runs/wkiwe85h</a><br/>Synced 6 W&B file(s), 0 media file(s), 0 artifact file(s) and 0 other file(s)"
            ],
            "text/plain": [
              "<IPython.core.display.HTML object>"
            ]
          },
          "metadata": {},
          "output_type": "display_data"
        },
        {
          "data": {
            "text/html": [
              "Find logs at: <code>.\\wandb\\run-20221110_143517-wkiwe85h\\logs</code>"
            ],
            "text/plain": [
              "<IPython.core.display.HTML object>"
            ]
          },
          "metadata": {},
          "output_type": "display_data"
        },
        {
          "name": "stderr",
          "output_type": "stream",
          "text": [
            "\u001b[34m\u001b[1mwandb\u001b[0m: Sweep Agent: Waiting for job.\n",
            "\u001b[34m\u001b[1mwandb\u001b[0m: Job received.\n",
            "\u001b[34m\u001b[1mwandb\u001b[0m: Agent Starting Run: i9g2ln6p with config:\n",
            "\u001b[34m\u001b[1mwandb\u001b[0m: \tboosting_type: dart\n",
            "\u001b[34m\u001b[1mwandb\u001b[0m: \tlearning_rate: 0.07\n",
            "\u001b[34m\u001b[1mwandb\u001b[0m: \tmetric: rmse\n",
            "\u001b[34m\u001b[1mwandb\u001b[0m: \tn_estimators: 300\n",
            "\u001b[34m\u001b[1mwandb\u001b[0m: \tobjective: root_mean_squared_error\n",
            "\u001b[34m\u001b[1mwandb\u001b[0m: \trandom_state: 42\n",
            "\u001b[34m\u001b[1mwandb\u001b[0m: \treg_sqrt: True\n"
          ]
        },
        {
          "data": {
            "application/vnd.jupyter.widget-view+json": {
              "model_id": "ec6ba3a168d741b6b166d7bbf981d05a",
              "version_major": 2,
              "version_minor": 0
            },
            "text/plain": [
              "VBox(children=(Label(value='Waiting for wandb.init()...\\r'), FloatProgress(value=0.01691666666883975, max=1.0)…"
            ]
          },
          "metadata": {},
          "output_type": "display_data"
        },
        {
          "data": {
            "text/html": [
              "Tracking run with wandb version 0.13.5"
            ],
            "text/plain": [
              "<IPython.core.display.HTML object>"
            ]
          },
          "metadata": {},
          "output_type": "display_data"
        },
        {
          "data": {
            "text/html": [
              "Run data is saved locally in <code>C:\\Users\\Rajesh\\wandb\\run-20221110_143622-i9g2ln6p</code>"
            ],
            "text/plain": [
              "<IPython.core.display.HTML object>"
            ]
          },
          "metadata": {},
          "output_type": "display_data"
        },
        {
          "data": {
            "text/html": [
              "Syncing run <strong><a href=\"https://wandb.ai/rajeshtr/car_resale_value/runs/i9g2ln6p\" target=\"_blank\">amber-sweep-24</a></strong> to <a href=\"https://wandb.ai/rajeshtr/car_resale_value\" target=\"_blank\">Weights & Biases</a> (<a href=\"https://wandb.me/run\" target=\"_blank\">docs</a>)<br/>Sweep page:  <a href=\"https://wandb.ai/rajeshtr/car_resale_value/sweeps/b30glh4n\" target=\"_blank\">https://wandb.ai/rajeshtr/car_resale_value/sweeps/b30glh4n</a>"
            ],
            "text/plain": [
              "<IPython.core.display.HTML object>"
            ]
          },
          "metadata": {},
          "output_type": "display_data"
        },
        {
          "name": "stderr",
          "output_type": "stream",
          "text": [
            "C:\\Users\\Rajesh\\anaconda3\\lib\\site-packages\\sklearn\\utils\\validation.py:993: DataConversionWarning: A column-vector y was passed when a 1d array was expected. Please change the shape of y to (n_samples, ), for example using ravel().\n",
            "  y = column_or_1d(y, warn=True)\n"
          ]
        },
        {
          "data": {
            "text/html": [
              "Waiting for W&B process to finish... <strong style=\"color:green\">(success).</strong>"
            ],
            "text/plain": [
              "<IPython.core.display.HTML object>"
            ]
          },
          "metadata": {},
          "output_type": "display_data"
        },
        {
          "data": {
            "text/html": [
              "<style>\n",
              "    table.wandb td:nth-child(1) { padding: 0 10px; text-align: left ; width: auto;} td:nth-child(2) {text-align: left ; width: 100%}\n",
              "    .wandb-row { display: flex; flex-direction: row; flex-wrap: wrap; justify-content: flex-start; width: 100% }\n",
              "    .wandb-col { display: flex; flex-direction: column; flex-basis: 100%; flex: 1; padding: 10px; }\n",
              "    </style>\n",
              "<div class=\"wandb-row\"><div class=\"wandb-col\"><h3>Run history:</h3><br/><table class=\"wandb\"><tr><td>adj_r2</td><td>▁</td></tr><tr><td>mae</td><td>▁</td></tr><tr><td>mse</td><td>▁</td></tr><tr><td>r2</td><td>▁</td></tr><tr><td>rmse</td><td>▁</td></tr><tr><td>rmsle</td><td>▁</td></tr></table><br/></div><div class=\"wandb-col\"><h3>Run summary:</h3><br/><table class=\"wandb\"><tr><td>adj_r2</td><td>0.86949</td></tr><tr><td>mae</td><td>1366.21695</td></tr><tr><td>mse</td><td>9302686.85872</td></tr><tr><td>r2</td><td>0.86949</td></tr><tr><td>rmse</td><td>3050.03063</td></tr><tr><td>rmsle</td><td>8.02291</td></tr></table><br/></div></div>"
            ],
            "text/plain": [
              "<IPython.core.display.HTML object>"
            ]
          },
          "metadata": {},
          "output_type": "display_data"
        },
        {
          "data": {
            "text/html": [
              "Synced <strong style=\"color:#cdcd00\">amber-sweep-24</strong>: <a href=\"https://wandb.ai/rajeshtr/car_resale_value/runs/i9g2ln6p\" target=\"_blank\">https://wandb.ai/rajeshtr/car_resale_value/runs/i9g2ln6p</a><br/>Synced 6 W&B file(s), 0 media file(s), 0 artifact file(s) and 0 other file(s)"
            ],
            "text/plain": [
              "<IPython.core.display.HTML object>"
            ]
          },
          "metadata": {},
          "output_type": "display_data"
        },
        {
          "data": {
            "text/html": [
              "Find logs at: <code>.\\wandb\\run-20221110_143622-i9g2ln6p\\logs</code>"
            ],
            "text/plain": [
              "<IPython.core.display.HTML object>"
            ]
          },
          "metadata": {},
          "output_type": "display_data"
        },
        {
          "name": "stderr",
          "output_type": "stream",
          "text": [
            "\u001b[34m\u001b[1mwandb\u001b[0m: Sweep Agent: Waiting for job.\n",
            "\u001b[34m\u001b[1mwandb\u001b[0m: Job received.\n",
            "\u001b[34m\u001b[1mwandb\u001b[0m: Agent Starting Run: 8o29ce8o with config:\n",
            "\u001b[34m\u001b[1mwandb\u001b[0m: \tboosting_type: goss\n",
            "\u001b[34m\u001b[1mwandb\u001b[0m: \tlearning_rate: 0.01\n",
            "\u001b[34m\u001b[1mwandb\u001b[0m: \tmetric: rmse\n",
            "\u001b[34m\u001b[1mwandb\u001b[0m: \tn_estimators: 100\n",
            "\u001b[34m\u001b[1mwandb\u001b[0m: \tobjective: root_mean_squared_error\n",
            "\u001b[34m\u001b[1mwandb\u001b[0m: \trandom_state: 42\n",
            "\u001b[34m\u001b[1mwandb\u001b[0m: \treg_sqrt: True\n"
          ]
        },
        {
          "data": {
            "application/vnd.jupyter.widget-view+json": {
              "model_id": "c009f33b279f462997d04997f01fb2e4",
              "version_major": 2,
              "version_minor": 0
            },
            "text/plain": [
              "VBox(children=(Label(value='Waiting for wandb.init()...\\r'), FloatProgress(value=0.016666666666666666, max=1.0…"
            ]
          },
          "metadata": {},
          "output_type": "display_data"
        },
        {
          "data": {
            "text/html": [
              "Tracking run with wandb version 0.13.5"
            ],
            "text/plain": [
              "<IPython.core.display.HTML object>"
            ]
          },
          "metadata": {},
          "output_type": "display_data"
        },
        {
          "data": {
            "text/html": [
              "Run data is saved locally in <code>C:\\Users\\Rajesh\\wandb\\run-20221110_143744-8o29ce8o</code>"
            ],
            "text/plain": [
              "<IPython.core.display.HTML object>"
            ]
          },
          "metadata": {},
          "output_type": "display_data"
        },
        {
          "data": {
            "text/html": [
              "Syncing run <strong><a href=\"https://wandb.ai/rajeshtr/car_resale_value/runs/8o29ce8o\" target=\"_blank\">fresh-sweep-25</a></strong> to <a href=\"https://wandb.ai/rajeshtr/car_resale_value\" target=\"_blank\">Weights & Biases</a> (<a href=\"https://wandb.me/run\" target=\"_blank\">docs</a>)<br/>Sweep page:  <a href=\"https://wandb.ai/rajeshtr/car_resale_value/sweeps/b30glh4n\" target=\"_blank\">https://wandb.ai/rajeshtr/car_resale_value/sweeps/b30glh4n</a>"
            ],
            "text/plain": [
              "<IPython.core.display.HTML object>"
            ]
          },
          "metadata": {},
          "output_type": "display_data"
        },
        {
          "name": "stderr",
          "output_type": "stream",
          "text": [
            "C:\\Users\\Rajesh\\anaconda3\\lib\\site-packages\\sklearn\\utils\\validation.py:993: DataConversionWarning: A column-vector y was passed when a 1d array was expected. Please change the shape of y to (n_samples, ), for example using ravel().\n",
            "  y = column_or_1d(y, warn=True)\n"
          ]
        },
        {
          "data": {
            "text/html": [
              "Waiting for W&B process to finish... <strong style=\"color:green\">(success).</strong>"
            ],
            "text/plain": [
              "<IPython.core.display.HTML object>"
            ]
          },
          "metadata": {},
          "output_type": "display_data"
        },
        {
          "data": {
            "text/html": [
              "<style>\n",
              "    table.wandb td:nth-child(1) { padding: 0 10px; text-align: left ; width: auto;} td:nth-child(2) {text-align: left ; width: 100%}\n",
              "    .wandb-row { display: flex; flex-direction: row; flex-wrap: wrap; justify-content: flex-start; width: 100% }\n",
              "    .wandb-col { display: flex; flex-direction: column; flex-basis: 100%; flex: 1; padding: 10px; }\n",
              "    </style>\n",
              "<div class=\"wandb-row\"><div class=\"wandb-col\"><h3>Run history:</h3><br/><table class=\"wandb\"><tr><td>adj_r2</td><td>▁</td></tr><tr><td>mae</td><td>▁</td></tr><tr><td>mse</td><td>▁</td></tr><tr><td>r2</td><td>▁</td></tr><tr><td>rmse</td><td>▁</td></tr><tr><td>rmsle</td><td>▁</td></tr></table><br/></div><div class=\"wandb-col\"><h3>Run summary:</h3><br/><table class=\"wandb\"><tr><td>adj_r2</td><td>0.63522</td></tr><tr><td>mae</td><td>2868.23264</td></tr><tr><td>mse</td><td>26000513.79616</td></tr><tr><td>r2</td><td>0.63524</td></tr><tr><td>rmse</td><td>5099.0699</td></tr><tr><td>rmsle</td><td>8.53681</td></tr></table><br/></div></div>"
            ],
            "text/plain": [
              "<IPython.core.display.HTML object>"
            ]
          },
          "metadata": {},
          "output_type": "display_data"
        },
        {
          "data": {
            "text/html": [
              "Synced <strong style=\"color:#cdcd00\">fresh-sweep-25</strong>: <a href=\"https://wandb.ai/rajeshtr/car_resale_value/runs/8o29ce8o\" target=\"_blank\">https://wandb.ai/rajeshtr/car_resale_value/runs/8o29ce8o</a><br/>Synced 6 W&B file(s), 0 media file(s), 0 artifact file(s) and 0 other file(s)"
            ],
            "text/plain": [
              "<IPython.core.display.HTML object>"
            ]
          },
          "metadata": {},
          "output_type": "display_data"
        },
        {
          "data": {
            "text/html": [
              "Find logs at: <code>.\\wandb\\run-20221110_143744-8o29ce8o\\logs</code>"
            ],
            "text/plain": [
              "<IPython.core.display.HTML object>"
            ]
          },
          "metadata": {},
          "output_type": "display_data"
        },
        {
          "name": "stderr",
          "output_type": "stream",
          "text": [
            "\u001b[34m\u001b[1mwandb\u001b[0m: Sweep Agent: Waiting for job.\n",
            "\u001b[34m\u001b[1mwandb\u001b[0m: Job received.\n",
            "\u001b[34m\u001b[1mwandb\u001b[0m: Agent Starting Run: r5ryd641 with config:\n",
            "\u001b[34m\u001b[1mwandb\u001b[0m: \tboosting_type: goss\n",
            "\u001b[34m\u001b[1mwandb\u001b[0m: \tlearning_rate: 0.01\n",
            "\u001b[34m\u001b[1mwandb\u001b[0m: \tmetric: rmse\n",
            "\u001b[34m\u001b[1mwandb\u001b[0m: \tn_estimators: 200\n",
            "\u001b[34m\u001b[1mwandb\u001b[0m: \tobjective: root_mean_squared_error\n",
            "\u001b[34m\u001b[1mwandb\u001b[0m: \trandom_state: 42\n",
            "\u001b[34m\u001b[1mwandb\u001b[0m: \treg_sqrt: True\n"
          ]
        },
        {
          "data": {
            "application/vnd.jupyter.widget-view+json": {
              "model_id": "40b8accd7b574b3f9f474b7a1ef8307b",
              "version_major": 2,
              "version_minor": 0
            },
            "text/plain": [
              "VBox(children=(Label(value='Waiting for wandb.init()...\\r'), FloatProgress(value=0.016666666666666666, max=1.0…"
            ]
          },
          "metadata": {},
          "output_type": "display_data"
        },
        {
          "data": {
            "text/html": [
              "Tracking run with wandb version 0.13.5"
            ],
            "text/plain": [
              "<IPython.core.display.HTML object>"
            ]
          },
          "metadata": {},
          "output_type": "display_data"
        },
        {
          "data": {
            "text/html": [
              "Run data is saved locally in <code>C:\\Users\\Rajesh\\wandb\\run-20221110_144042-r5ryd641</code>"
            ],
            "text/plain": [
              "<IPython.core.display.HTML object>"
            ]
          },
          "metadata": {},
          "output_type": "display_data"
        },
        {
          "data": {
            "text/html": [
              "Syncing run <strong><a href=\"https://wandb.ai/rajeshtr/car_resale_value/runs/r5ryd641\" target=\"_blank\">eager-sweep-26</a></strong> to <a href=\"https://wandb.ai/rajeshtr/car_resale_value\" target=\"_blank\">Weights & Biases</a> (<a href=\"https://wandb.me/run\" target=\"_blank\">docs</a>)<br/>Sweep page:  <a href=\"https://wandb.ai/rajeshtr/car_resale_value/sweeps/b30glh4n\" target=\"_blank\">https://wandb.ai/rajeshtr/car_resale_value/sweeps/b30glh4n</a>"
            ],
            "text/plain": [
              "<IPython.core.display.HTML object>"
            ]
          },
          "metadata": {},
          "output_type": "display_data"
        },
        {
          "name": "stderr",
          "output_type": "stream",
          "text": [
            "C:\\Users\\Rajesh\\anaconda3\\lib\\site-packages\\sklearn\\utils\\validation.py:993: DataConversionWarning: A column-vector y was passed when a 1d array was expected. Please change the shape of y to (n_samples, ), for example using ravel().\n",
            "  y = column_or_1d(y, warn=True)\n"
          ]
        },
        {
          "data": {
            "text/html": [
              "Waiting for W&B process to finish... <strong style=\"color:green\">(success).</strong>"
            ],
            "text/plain": [
              "<IPython.core.display.HTML object>"
            ]
          },
          "metadata": {},
          "output_type": "display_data"
        },
        {
          "data": {
            "text/html": [
              "<style>\n",
              "    table.wandb td:nth-child(1) { padding: 0 10px; text-align: left ; width: auto;} td:nth-child(2) {text-align: left ; width: 100%}\n",
              "    .wandb-row { display: flex; flex-direction: row; flex-wrap: wrap; justify-content: flex-start; width: 100% }\n",
              "    .wandb-col { display: flex; flex-direction: column; flex-basis: 100%; flex: 1; padding: 10px; }\n",
              "    </style>\n",
              "<div class=\"wandb-row\"><div class=\"wandb-col\"><h3>Run history:</h3><br/><table class=\"wandb\"><tr><td>adj_r2</td><td>▁</td></tr><tr><td>mae</td><td>▁</td></tr><tr><td>mse</td><td>▁</td></tr><tr><td>r2</td><td>▁</td></tr><tr><td>rmse</td><td>▁</td></tr><tr><td>rmsle</td><td>▁</td></tr></table><br/></div><div class=\"wandb-col\"><h3>Run summary:</h3><br/><table class=\"wandb\"><tr><td>adj_r2</td><td>0.7705</td></tr><tr><td>mae</td><td>2085.96387</td></tr><tr><td>mse</td><td>16358084.55903</td></tr><tr><td>r2</td><td>0.77052</td></tr><tr><td>rmse</td><td>4044.5129</td></tr><tr><td>rmsle</td><td>8.30512</td></tr></table><br/></div></div>"
            ],
            "text/plain": [
              "<IPython.core.display.HTML object>"
            ]
          },
          "metadata": {},
          "output_type": "display_data"
        },
        {
          "data": {
            "text/html": [
              "Synced <strong style=\"color:#cdcd00\">eager-sweep-26</strong>: <a href=\"https://wandb.ai/rajeshtr/car_resale_value/runs/r5ryd641\" target=\"_blank\">https://wandb.ai/rajeshtr/car_resale_value/runs/r5ryd641</a><br/>Synced 6 W&B file(s), 0 media file(s), 0 artifact file(s) and 0 other file(s)"
            ],
            "text/plain": [
              "<IPython.core.display.HTML object>"
            ]
          },
          "metadata": {},
          "output_type": "display_data"
        },
        {
          "data": {
            "text/html": [
              "Find logs at: <code>.\\wandb\\run-20221110_144042-r5ryd641\\logs</code>"
            ],
            "text/plain": [
              "<IPython.core.display.HTML object>"
            ]
          },
          "metadata": {},
          "output_type": "display_data"
        },
        {
          "name": "stderr",
          "output_type": "stream",
          "text": [
            "\u001b[34m\u001b[1mwandb\u001b[0m: Sweep Agent: Waiting for job.\n",
            "\u001b[34m\u001b[1mwandb\u001b[0m: Job received.\n",
            "\u001b[34m\u001b[1mwandb\u001b[0m: Agent Starting Run: vzco3jsi with config:\n",
            "\u001b[34m\u001b[1mwandb\u001b[0m: \tboosting_type: goss\n",
            "\u001b[34m\u001b[1mwandb\u001b[0m: \tlearning_rate: 0.01\n",
            "\u001b[34m\u001b[1mwandb\u001b[0m: \tmetric: rmse\n",
            "\u001b[34m\u001b[1mwandb\u001b[0m: \tn_estimators: 300\n",
            "\u001b[34m\u001b[1mwandb\u001b[0m: \tobjective: root_mean_squared_error\n",
            "\u001b[34m\u001b[1mwandb\u001b[0m: \trandom_state: 42\n",
            "\u001b[34m\u001b[1mwandb\u001b[0m: \treg_sqrt: True\n"
          ]
        },
        {
          "data": {
            "application/vnd.jupyter.widget-view+json": {
              "model_id": "b0653e23d4f94e65814874c548739cd3",
              "version_major": 2,
              "version_minor": 0
            },
            "text/plain": [
              "VBox(children=(Label(value='Waiting for wandb.init()...\\r'), FloatProgress(value=0.016666666666666666, max=1.0…"
            ]
          },
          "metadata": {},
          "output_type": "display_data"
        },
        {
          "data": {
            "text/html": [
              "Tracking run with wandb version 0.13.5"
            ],
            "text/plain": [
              "<IPython.core.display.HTML object>"
            ]
          },
          "metadata": {},
          "output_type": "display_data"
        },
        {
          "data": {
            "text/html": [
              "Run data is saved locally in <code>C:\\Users\\Rajesh\\wandb\\run-20221110_144218-vzco3jsi</code>"
            ],
            "text/plain": [
              "<IPython.core.display.HTML object>"
            ]
          },
          "metadata": {},
          "output_type": "display_data"
        },
        {
          "data": {
            "text/html": [
              "Syncing run <strong><a href=\"https://wandb.ai/rajeshtr/car_resale_value/runs/vzco3jsi\" target=\"_blank\">ancient-sweep-27</a></strong> to <a href=\"https://wandb.ai/rajeshtr/car_resale_value\" target=\"_blank\">Weights & Biases</a> (<a href=\"https://wandb.me/run\" target=\"_blank\">docs</a>)<br/>Sweep page:  <a href=\"https://wandb.ai/rajeshtr/car_resale_value/sweeps/b30glh4n\" target=\"_blank\">https://wandb.ai/rajeshtr/car_resale_value/sweeps/b30glh4n</a>"
            ],
            "text/plain": [
              "<IPython.core.display.HTML object>"
            ]
          },
          "metadata": {},
          "output_type": "display_data"
        },
        {
          "name": "stderr",
          "output_type": "stream",
          "text": [
            "C:\\Users\\Rajesh\\anaconda3\\lib\\site-packages\\sklearn\\utils\\validation.py:993: DataConversionWarning: A column-vector y was passed when a 1d array was expected. Please change the shape of y to (n_samples, ), for example using ravel().\n",
            "  y = column_or_1d(y, warn=True)\n"
          ]
        },
        {
          "data": {
            "text/html": [
              "Waiting for W&B process to finish... <strong style=\"color:green\">(success).</strong>"
            ],
            "text/plain": [
              "<IPython.core.display.HTML object>"
            ]
          },
          "metadata": {},
          "output_type": "display_data"
        },
        {
          "data": {
            "text/html": [
              "<style>\n",
              "    table.wandb td:nth-child(1) { padding: 0 10px; text-align: left ; width: auto;} td:nth-child(2) {text-align: left ; width: 100%}\n",
              "    .wandb-row { display: flex; flex-direction: row; flex-wrap: wrap; justify-content: flex-start; width: 100% }\n",
              "    .wandb-col { display: flex; flex-direction: column; flex-basis: 100%; flex: 1; padding: 10px; }\n",
              "    </style>\n",
              "<div class=\"wandb-row\"><div class=\"wandb-col\"><h3>Run history:</h3><br/><table class=\"wandb\"><tr><td>adj_r2</td><td>▁</td></tr><tr><td>mae</td><td>▁</td></tr><tr><td>mse</td><td>▁</td></tr><tr><td>r2</td><td>▁</td></tr><tr><td>rmse</td><td>▁</td></tr><tr><td>rmsle</td><td>▁</td></tr></table><br/></div><div class=\"wandb-col\"><h3>Run summary:</h3><br/><table class=\"wandb\"><tr><td>adj_r2</td><td>0.81645</td></tr><tr><td>mae</td><td>1759.82706</td></tr><tr><td>mse</td><td>13082914.16355</td></tr><tr><td>r2</td><td>0.81646</td></tr><tr><td>rmse</td><td>3617.03113</td></tr><tr><td>rmsle</td><td>8.19341</td></tr></table><br/></div></div>"
            ],
            "text/plain": [
              "<IPython.core.display.HTML object>"
            ]
          },
          "metadata": {},
          "output_type": "display_data"
        },
        {
          "data": {
            "text/html": [
              "Synced <strong style=\"color:#cdcd00\">ancient-sweep-27</strong>: <a href=\"https://wandb.ai/rajeshtr/car_resale_value/runs/vzco3jsi\" target=\"_blank\">https://wandb.ai/rajeshtr/car_resale_value/runs/vzco3jsi</a><br/>Synced 6 W&B file(s), 0 media file(s), 0 artifact file(s) and 0 other file(s)"
            ],
            "text/plain": [
              "<IPython.core.display.HTML object>"
            ]
          },
          "metadata": {},
          "output_type": "display_data"
        },
        {
          "data": {
            "text/html": [
              "Find logs at: <code>.\\wandb\\run-20221110_144218-vzco3jsi\\logs</code>"
            ],
            "text/plain": [
              "<IPython.core.display.HTML object>"
            ]
          },
          "metadata": {},
          "output_type": "display_data"
        },
        {
          "name": "stderr",
          "output_type": "stream",
          "text": [
            "\u001b[34m\u001b[1mwandb\u001b[0m: Sweep Agent: Waiting for job.\n",
            "\u001b[34m\u001b[1mwandb\u001b[0m: Job received.\n",
            "\u001b[34m\u001b[1mwandb\u001b[0m: Agent Starting Run: 6h3g0cyj with config:\n",
            "\u001b[34m\u001b[1mwandb\u001b[0m: \tboosting_type: goss\n",
            "\u001b[34m\u001b[1mwandb\u001b[0m: \tlearning_rate: 0.03\n",
            "\u001b[34m\u001b[1mwandb\u001b[0m: \tmetric: rmse\n",
            "\u001b[34m\u001b[1mwandb\u001b[0m: \tn_estimators: 100\n",
            "\u001b[34m\u001b[1mwandb\u001b[0m: \tobjective: root_mean_squared_error\n",
            "\u001b[34m\u001b[1mwandb\u001b[0m: \trandom_state: 42\n",
            "\u001b[34m\u001b[1mwandb\u001b[0m: \treg_sqrt: True\n"
          ]
        },
        {
          "data": {
            "application/vnd.jupyter.widget-view+json": {
              "model_id": "b1256827ab7e4d02956bcbfdd740abef",
              "version_major": 2,
              "version_minor": 0
            },
            "text/plain": [
              "VBox(children=(Label(value='Waiting for wandb.init()...\\r'), FloatProgress(value=0.016666666666666666, max=1.0…"
            ]
          },
          "metadata": {},
          "output_type": "display_data"
        },
        {
          "data": {
            "text/html": [
              "Tracking run with wandb version 0.13.5"
            ],
            "text/plain": [
              "<IPython.core.display.HTML object>"
            ]
          },
          "metadata": {},
          "output_type": "display_data"
        },
        {
          "data": {
            "text/html": [
              "Run data is saved locally in <code>C:\\Users\\Rajesh\\wandb\\run-20221110_144322-6h3g0cyj</code>"
            ],
            "text/plain": [
              "<IPython.core.display.HTML object>"
            ]
          },
          "metadata": {},
          "output_type": "display_data"
        },
        {
          "data": {
            "text/html": [
              "Syncing run <strong><a href=\"https://wandb.ai/rajeshtr/car_resale_value/runs/6h3g0cyj\" target=\"_blank\">rare-sweep-28</a></strong> to <a href=\"https://wandb.ai/rajeshtr/car_resale_value\" target=\"_blank\">Weights & Biases</a> (<a href=\"https://wandb.me/run\" target=\"_blank\">docs</a>)<br/>Sweep page:  <a href=\"https://wandb.ai/rajeshtr/car_resale_value/sweeps/b30glh4n\" target=\"_blank\">https://wandb.ai/rajeshtr/car_resale_value/sweeps/b30glh4n</a>"
            ],
            "text/plain": [
              "<IPython.core.display.HTML object>"
            ]
          },
          "metadata": {},
          "output_type": "display_data"
        },
        {
          "name": "stderr",
          "output_type": "stream",
          "text": [
            "C:\\Users\\Rajesh\\anaconda3\\lib\\site-packages\\sklearn\\utils\\validation.py:993: DataConversionWarning: A column-vector y was passed when a 1d array was expected. Please change the shape of y to (n_samples, ), for example using ravel().\n",
            "  y = column_or_1d(y, warn=True)\n"
          ]
        },
        {
          "data": {
            "text/html": [
              "Waiting for W&B process to finish... <strong style=\"color:green\">(success).</strong>"
            ],
            "text/plain": [
              "<IPython.core.display.HTML object>"
            ]
          },
          "metadata": {},
          "output_type": "display_data"
        },
        {
          "data": {
            "text/html": [
              "<style>\n",
              "    table.wandb td:nth-child(1) { padding: 0 10px; text-align: left ; width: auto;} td:nth-child(2) {text-align: left ; width: 100%}\n",
              "    .wandb-row { display: flex; flex-direction: row; flex-wrap: wrap; justify-content: flex-start; width: 100% }\n",
              "    .wandb-col { display: flex; flex-direction: column; flex-basis: 100%; flex: 1; padding: 10px; }\n",
              "    </style>\n",
              "<div class=\"wandb-row\"><div class=\"wandb-col\"><h3>Run history:</h3><br/><table class=\"wandb\"><tr><td>adj_r2</td><td>▁</td></tr><tr><td>mae</td><td>▁</td></tr><tr><td>mse</td><td>▁</td></tr><tr><td>r2</td><td>▁</td></tr><tr><td>rmse</td><td>▁</td></tr><tr><td>rmsle</td><td>▁</td></tr></table><br/></div><div class=\"wandb-col\"><h3>Run summary:</h3><br/><table class=\"wandb\"><tr><td>adj_r2</td><td>0.81665</td></tr><tr><td>mae</td><td>1754.95412</td></tr><tr><td>mse</td><td>13068726.24592</td></tr><tr><td>r2</td><td>0.81666</td></tr><tr><td>rmse</td><td>3615.06933</td></tr><tr><td>rmsle</td><td>8.19287</td></tr></table><br/></div></div>"
            ],
            "text/plain": [
              "<IPython.core.display.HTML object>"
            ]
          },
          "metadata": {},
          "output_type": "display_data"
        },
        {
          "data": {
            "text/html": [
              "Synced <strong style=\"color:#cdcd00\">rare-sweep-28</strong>: <a href=\"https://wandb.ai/rajeshtr/car_resale_value/runs/6h3g0cyj\" target=\"_blank\">https://wandb.ai/rajeshtr/car_resale_value/runs/6h3g0cyj</a><br/>Synced 6 W&B file(s), 0 media file(s), 0 artifact file(s) and 0 other file(s)"
            ],
            "text/plain": [
              "<IPython.core.display.HTML object>"
            ]
          },
          "metadata": {},
          "output_type": "display_data"
        },
        {
          "data": {
            "text/html": [
              "Find logs at: <code>.\\wandb\\run-20221110_144322-6h3g0cyj\\logs</code>"
            ],
            "text/plain": [
              "<IPython.core.display.HTML object>"
            ]
          },
          "metadata": {},
          "output_type": "display_data"
        },
        {
          "name": "stderr",
          "output_type": "stream",
          "text": [
            "\u001b[34m\u001b[1mwandb\u001b[0m: Sweep Agent: Waiting for job.\n",
            "\u001b[34m\u001b[1mwandb\u001b[0m: Job received.\n",
            "\u001b[34m\u001b[1mwandb\u001b[0m: Agent Starting Run: prze4rug with config:\n",
            "\u001b[34m\u001b[1mwandb\u001b[0m: \tboosting_type: goss\n",
            "\u001b[34m\u001b[1mwandb\u001b[0m: \tlearning_rate: 0.03\n",
            "\u001b[34m\u001b[1mwandb\u001b[0m: \tmetric: rmse\n",
            "\u001b[34m\u001b[1mwandb\u001b[0m: \tn_estimators: 200\n",
            "\u001b[34m\u001b[1mwandb\u001b[0m: \tobjective: root_mean_squared_error\n",
            "\u001b[34m\u001b[1mwandb\u001b[0m: \trandom_state: 42\n",
            "\u001b[34m\u001b[1mwandb\u001b[0m: \treg_sqrt: True\n"
          ]
        },
        {
          "data": {
            "application/vnd.jupyter.widget-view+json": {
              "model_id": "a298c57d50314b13b34fa5bf87939491",
              "version_major": 2,
              "version_minor": 0
            },
            "text/plain": [
              "VBox(children=(Label(value='Waiting for wandb.init()...\\r'), FloatProgress(value=0.016666666666666666, max=1.0…"
            ]
          },
          "metadata": {},
          "output_type": "display_data"
        },
        {
          "data": {
            "text/html": [
              "Tracking run with wandb version 0.13.5"
            ],
            "text/plain": [
              "<IPython.core.display.HTML object>"
            ]
          },
          "metadata": {},
          "output_type": "display_data"
        },
        {
          "data": {
            "text/html": [
              "Run data is saved locally in <code>C:\\Users\\Rajesh\\wandb\\run-20221110_144453-prze4rug</code>"
            ],
            "text/plain": [
              "<IPython.core.display.HTML object>"
            ]
          },
          "metadata": {},
          "output_type": "display_data"
        },
        {
          "data": {
            "text/html": [
              "Syncing run <strong><a href=\"https://wandb.ai/rajeshtr/car_resale_value/runs/prze4rug\" target=\"_blank\">expert-sweep-29</a></strong> to <a href=\"https://wandb.ai/rajeshtr/car_resale_value\" target=\"_blank\">Weights & Biases</a> (<a href=\"https://wandb.me/run\" target=\"_blank\">docs</a>)<br/>Sweep page:  <a href=\"https://wandb.ai/rajeshtr/car_resale_value/sweeps/b30glh4n\" target=\"_blank\">https://wandb.ai/rajeshtr/car_resale_value/sweeps/b30glh4n</a>"
            ],
            "text/plain": [
              "<IPython.core.display.HTML object>"
            ]
          },
          "metadata": {},
          "output_type": "display_data"
        },
        {
          "name": "stderr",
          "output_type": "stream",
          "text": [
            "C:\\Users\\Rajesh\\anaconda3\\lib\\site-packages\\sklearn\\utils\\validation.py:993: DataConversionWarning: A column-vector y was passed when a 1d array was expected. Please change the shape of y to (n_samples, ), for example using ravel().\n",
            "  y = column_or_1d(y, warn=True)\n"
          ]
        },
        {
          "data": {
            "text/html": [
              "Waiting for W&B process to finish... <strong style=\"color:green\">(success).</strong>"
            ],
            "text/plain": [
              "<IPython.core.display.HTML object>"
            ]
          },
          "metadata": {},
          "output_type": "display_data"
        },
        {
          "data": {
            "text/html": [
              "<style>\n",
              "    table.wandb td:nth-child(1) { padding: 0 10px; text-align: left ; width: auto;} td:nth-child(2) {text-align: left ; width: 100%}\n",
              "    .wandb-row { display: flex; flex-direction: row; flex-wrap: wrap; justify-content: flex-start; width: 100% }\n",
              "    .wandb-col { display: flex; flex-direction: column; flex-basis: 100%; flex: 1; padding: 10px; }\n",
              "    </style>\n",
              "<div class=\"wandb-row\"><div class=\"wandb-col\"><h3>Run history:</h3><br/><table class=\"wandb\"><tr><td>adj_r2</td><td>▁</td></tr><tr><td>mae</td><td>▁</td></tr><tr><td>mse</td><td>▁</td></tr><tr><td>r2</td><td>▁</td></tr><tr><td>rmse</td><td>▁</td></tr><tr><td>rmsle</td><td>▁</td></tr></table><br/></div><div class=\"wandb-col\"><h3>Run summary:</h3><br/><table class=\"wandb\"><tr><td>adj_r2</td><td>0.85067</td></tr><tr><td>mae</td><td>1495.09347</td></tr><tr><td>mse</td><td>10643875.82927</td></tr><tr><td>r2</td><td>0.85068</td></tr><tr><td>rmse</td><td>3262.49534</td></tr><tr><td>rmsle</td><td>8.09025</td></tr></table><br/></div></div>"
            ],
            "text/plain": [
              "<IPython.core.display.HTML object>"
            ]
          },
          "metadata": {},
          "output_type": "display_data"
        },
        {
          "data": {
            "text/html": [
              "Synced <strong style=\"color:#cdcd00\">expert-sweep-29</strong>: <a href=\"https://wandb.ai/rajeshtr/car_resale_value/runs/prze4rug\" target=\"_blank\">https://wandb.ai/rajeshtr/car_resale_value/runs/prze4rug</a><br/>Synced 6 W&B file(s), 0 media file(s), 0 artifact file(s) and 0 other file(s)"
            ],
            "text/plain": [
              "<IPython.core.display.HTML object>"
            ]
          },
          "metadata": {},
          "output_type": "display_data"
        },
        {
          "data": {
            "text/html": [
              "Find logs at: <code>.\\wandb\\run-20221110_144453-prze4rug\\logs</code>"
            ],
            "text/plain": [
              "<IPython.core.display.HTML object>"
            ]
          },
          "metadata": {},
          "output_type": "display_data"
        },
        {
          "name": "stderr",
          "output_type": "stream",
          "text": [
            "\u001b[34m\u001b[1mwandb\u001b[0m: Sweep Agent: Waiting for job.\n",
            "\u001b[34m\u001b[1mwandb\u001b[0m: Job received.\n",
            "\u001b[34m\u001b[1mwandb\u001b[0m: Agent Starting Run: 5eheauys with config:\n",
            "\u001b[34m\u001b[1mwandb\u001b[0m: \tboosting_type: goss\n",
            "\u001b[34m\u001b[1mwandb\u001b[0m: \tlearning_rate: 0.03\n",
            "\u001b[34m\u001b[1mwandb\u001b[0m: \tmetric: rmse\n",
            "\u001b[34m\u001b[1mwandb\u001b[0m: \tn_estimators: 300\n",
            "\u001b[34m\u001b[1mwandb\u001b[0m: \tobjective: root_mean_squared_error\n",
            "\u001b[34m\u001b[1mwandb\u001b[0m: \trandom_state: 42\n",
            "\u001b[34m\u001b[1mwandb\u001b[0m: \treg_sqrt: True\n"
          ]
        },
        {
          "data": {
            "application/vnd.jupyter.widget-view+json": {
              "model_id": "97c90d51fc5f47e29f468a8e523d89ed",
              "version_major": 2,
              "version_minor": 0
            },
            "text/plain": [
              "VBox(children=(Label(value='Waiting for wandb.init()...\\r'), FloatProgress(value=0.01693333333435779, max=1.0)…"
            ]
          },
          "metadata": {},
          "output_type": "display_data"
        },
        {
          "data": {
            "text/html": [
              "Tracking run with wandb version 0.13.5"
            ],
            "text/plain": [
              "<IPython.core.display.HTML object>"
            ]
          },
          "metadata": {},
          "output_type": "display_data"
        },
        {
          "data": {
            "text/html": [
              "Run data is saved locally in <code>C:\\Users\\Rajesh\\wandb\\run-20221110_144638-5eheauys</code>"
            ],
            "text/plain": [
              "<IPython.core.display.HTML object>"
            ]
          },
          "metadata": {},
          "output_type": "display_data"
        },
        {
          "data": {
            "text/html": [
              "Syncing run <strong><a href=\"https://wandb.ai/rajeshtr/car_resale_value/runs/5eheauys\" target=\"_blank\">lunar-sweep-30</a></strong> to <a href=\"https://wandb.ai/rajeshtr/car_resale_value\" target=\"_blank\">Weights & Biases</a> (<a href=\"https://wandb.me/run\" target=\"_blank\">docs</a>)<br/>Sweep page:  <a href=\"https://wandb.ai/rajeshtr/car_resale_value/sweeps/b30glh4n\" target=\"_blank\">https://wandb.ai/rajeshtr/car_resale_value/sweeps/b30glh4n</a>"
            ],
            "text/plain": [
              "<IPython.core.display.HTML object>"
            ]
          },
          "metadata": {},
          "output_type": "display_data"
        },
        {
          "name": "stderr",
          "output_type": "stream",
          "text": [
            "C:\\Users\\Rajesh\\anaconda3\\lib\\site-packages\\sklearn\\utils\\validation.py:993: DataConversionWarning: A column-vector y was passed when a 1d array was expected. Please change the shape of y to (n_samples, ), for example using ravel().\n",
            "  y = column_or_1d(y, warn=True)\n"
          ]
        },
        {
          "data": {
            "text/html": [
              "Waiting for W&B process to finish... <strong style=\"color:green\">(success).</strong>"
            ],
            "text/plain": [
              "<IPython.core.display.HTML object>"
            ]
          },
          "metadata": {},
          "output_type": "display_data"
        },
        {
          "data": {
            "text/html": [
              "<style>\n",
              "    table.wandb td:nth-child(1) { padding: 0 10px; text-align: left ; width: auto;} td:nth-child(2) {text-align: left ; width: 100%}\n",
              "    .wandb-row { display: flex; flex-direction: row; flex-wrap: wrap; justify-content: flex-start; width: 100% }\n",
              "    .wandb-col { display: flex; flex-direction: column; flex-basis: 100%; flex: 1; padding: 10px; }\n",
              "    </style>\n",
              "<div class=\"wandb-row\"><div class=\"wandb-col\"><h3>Run history:</h3><br/><table class=\"wandb\"><tr><td>adj_r2</td><td>▁</td></tr><tr><td>mae</td><td>▁</td></tr><tr><td>mse</td><td>▁</td></tr><tr><td>r2</td><td>▁</td></tr><tr><td>rmse</td><td>▁</td></tr><tr><td>rmsle</td><td>▁</td></tr></table><br/></div><div class=\"wandb-col\"><h3>Run summary:</h3><br/><table class=\"wandb\"><tr><td>adj_r2</td><td>0.85858</td></tr><tr><td>mae</td><td>1439.8065</td></tr><tr><td>mse</td><td>10080191.14825</td></tr><tr><td>r2</td><td>0.85859</td></tr><tr><td>rmse</td><td>3174.93168</td></tr><tr><td>rmsle</td><td>8.06304</td></tr></table><br/></div></div>"
            ],
            "text/plain": [
              "<IPython.core.display.HTML object>"
            ]
          },
          "metadata": {},
          "output_type": "display_data"
        },
        {
          "data": {
            "text/html": [
              "Synced <strong style=\"color:#cdcd00\">lunar-sweep-30</strong>: <a href=\"https://wandb.ai/rajeshtr/car_resale_value/runs/5eheauys\" target=\"_blank\">https://wandb.ai/rajeshtr/car_resale_value/runs/5eheauys</a><br/>Synced 6 W&B file(s), 0 media file(s), 0 artifact file(s) and 0 other file(s)"
            ],
            "text/plain": [
              "<IPython.core.display.HTML object>"
            ]
          },
          "metadata": {},
          "output_type": "display_data"
        },
        {
          "data": {
            "text/html": [
              "Find logs at: <code>.\\wandb\\run-20221110_144638-5eheauys\\logs</code>"
            ],
            "text/plain": [
              "<IPython.core.display.HTML object>"
            ]
          },
          "metadata": {},
          "output_type": "display_data"
        },
        {
          "name": "stderr",
          "output_type": "stream",
          "text": [
            "\u001b[34m\u001b[1mwandb\u001b[0m: Sweep Agent: Waiting for job.\n",
            "\u001b[34m\u001b[1mwandb\u001b[0m: Job received.\n",
            "\u001b[34m\u001b[1mwandb\u001b[0m: Agent Starting Run: yiljbu3x with config:\n",
            "\u001b[34m\u001b[1mwandb\u001b[0m: \tboosting_type: goss\n",
            "\u001b[34m\u001b[1mwandb\u001b[0m: \tlearning_rate: 0.05\n",
            "\u001b[34m\u001b[1mwandb\u001b[0m: \tmetric: rmse\n",
            "\u001b[34m\u001b[1mwandb\u001b[0m: \tn_estimators: 100\n",
            "\u001b[34m\u001b[1mwandb\u001b[0m: \tobjective: root_mean_squared_error\n",
            "\u001b[34m\u001b[1mwandb\u001b[0m: \trandom_state: 42\n",
            "\u001b[34m\u001b[1mwandb\u001b[0m: \treg_sqrt: True\n"
          ]
        },
        {
          "data": {
            "application/vnd.jupyter.widget-view+json": {
              "model_id": "769da12a41d14b05be41c5bfb7d5018a",
              "version_major": 2,
              "version_minor": 0
            },
            "text/plain": [
              "VBox(children=(Label(value='Waiting for wandb.init()...\\r'), FloatProgress(value=0.01691666666495924, max=1.0)…"
            ]
          },
          "metadata": {},
          "output_type": "display_data"
        },
        {
          "data": {
            "text/html": [
              "Tracking run with wandb version 0.13.5"
            ],
            "text/plain": [
              "<IPython.core.display.HTML object>"
            ]
          },
          "metadata": {},
          "output_type": "display_data"
        },
        {
          "data": {
            "text/html": [
              "Run data is saved locally in <code>C:\\Users\\Rajesh\\wandb\\run-20221110_144816-yiljbu3x</code>"
            ],
            "text/plain": [
              "<IPython.core.display.HTML object>"
            ]
          },
          "metadata": {},
          "output_type": "display_data"
        },
        {
          "data": {
            "text/html": [
              "Syncing run <strong><a href=\"https://wandb.ai/rajeshtr/car_resale_value/runs/yiljbu3x\" target=\"_blank\">volcanic-sweep-31</a></strong> to <a href=\"https://wandb.ai/rajeshtr/car_resale_value\" target=\"_blank\">Weights & Biases</a> (<a href=\"https://wandb.me/run\" target=\"_blank\">docs</a>)<br/>Sweep page:  <a href=\"https://wandb.ai/rajeshtr/car_resale_value/sweeps/b30glh4n\" target=\"_blank\">https://wandb.ai/rajeshtr/car_resale_value/sweeps/b30glh4n</a>"
            ],
            "text/plain": [
              "<IPython.core.display.HTML object>"
            ]
          },
          "metadata": {},
          "output_type": "display_data"
        },
        {
          "name": "stderr",
          "output_type": "stream",
          "text": [
            "C:\\Users\\Rajesh\\anaconda3\\lib\\site-packages\\sklearn\\utils\\validation.py:993: DataConversionWarning: A column-vector y was passed when a 1d array was expected. Please change the shape of y to (n_samples, ), for example using ravel().\n",
            "  y = column_or_1d(y, warn=True)\n"
          ]
        },
        {
          "data": {
            "text/html": [
              "Waiting for W&B process to finish... <strong style=\"color:green\">(success).</strong>"
            ],
            "text/plain": [
              "<IPython.core.display.HTML object>"
            ]
          },
          "metadata": {},
          "output_type": "display_data"
        },
        {
          "data": {
            "text/html": [
              "<style>\n",
              "    table.wandb td:nth-child(1) { padding: 0 10px; text-align: left ; width: auto;} td:nth-child(2) {text-align: left ; width: 100%}\n",
              "    .wandb-row { display: flex; flex-direction: row; flex-wrap: wrap; justify-content: flex-start; width: 100% }\n",
              "    .wandb-col { display: flex; flex-direction: column; flex-basis: 100%; flex: 1; padding: 10px; }\n",
              "    </style>\n",
              "<div class=\"wandb-row\"><div class=\"wandb-col\"><h3>Run history:</h3><br/><table class=\"wandb\"><tr><td>adj_r2</td><td>▁</td></tr><tr><td>mae</td><td>▁</td></tr><tr><td>mse</td><td>▁</td></tr><tr><td>r2</td><td>▁</td></tr><tr><td>rmse</td><td>▁</td></tr><tr><td>rmsle</td><td>▁</td></tr></table><br/></div><div class=\"wandb-col\"><h3>Run summary:</h3><br/><table class=\"wandb\"><tr><td>adj_r2</td><td>0.84626</td></tr><tr><td>mae</td><td>1530.49088</td></tr><tr><td>mse</td><td>10957978.66601</td></tr><tr><td>r2</td><td>0.84627</td></tr><tr><td>rmse</td><td>3310.28377</td></tr><tr><td>rmsle</td><td>8.10479</td></tr></table><br/></div></div>"
            ],
            "text/plain": [
              "<IPython.core.display.HTML object>"
            ]
          },
          "metadata": {},
          "output_type": "display_data"
        },
        {
          "data": {
            "text/html": [
              "Synced <strong style=\"color:#cdcd00\">volcanic-sweep-31</strong>: <a href=\"https://wandb.ai/rajeshtr/car_resale_value/runs/yiljbu3x\" target=\"_blank\">https://wandb.ai/rajeshtr/car_resale_value/runs/yiljbu3x</a><br/>Synced 6 W&B file(s), 0 media file(s), 0 artifact file(s) and 0 other file(s)"
            ],
            "text/plain": [
              "<IPython.core.display.HTML object>"
            ]
          },
          "metadata": {},
          "output_type": "display_data"
        },
        {
          "data": {
            "text/html": [
              "Find logs at: <code>.\\wandb\\run-20221110_144816-yiljbu3x\\logs</code>"
            ],
            "text/plain": [
              "<IPython.core.display.HTML object>"
            ]
          },
          "metadata": {},
          "output_type": "display_data"
        },
        {
          "name": "stderr",
          "output_type": "stream",
          "text": [
            "\u001b[34m\u001b[1mwandb\u001b[0m: Sweep Agent: Waiting for job.\n",
            "\u001b[34m\u001b[1mwandb\u001b[0m: Job received.\n",
            "\u001b[34m\u001b[1mwandb\u001b[0m: Agent Starting Run: m8p07gh1 with config:\n",
            "\u001b[34m\u001b[1mwandb\u001b[0m: \tboosting_type: goss\n",
            "\u001b[34m\u001b[1mwandb\u001b[0m: \tlearning_rate: 0.05\n",
            "\u001b[34m\u001b[1mwandb\u001b[0m: \tmetric: rmse\n",
            "\u001b[34m\u001b[1mwandb\u001b[0m: \tn_estimators: 200\n",
            "\u001b[34m\u001b[1mwandb\u001b[0m: \tobjective: root_mean_squared_error\n",
            "\u001b[34m\u001b[1mwandb\u001b[0m: \trandom_state: 42\n",
            "\u001b[34m\u001b[1mwandb\u001b[0m: \treg_sqrt: True\n"
          ]
        },
        {
          "data": {
            "application/vnd.jupyter.widget-view+json": {
              "model_id": "91cc9fde97784823bece789e8a707a09",
              "version_major": 2,
              "version_minor": 0
            },
            "text/plain": [
              "VBox(children=(Label(value='Waiting for wandb.init()...\\r'), FloatProgress(value=0.01691666666883975, max=1.0)…"
            ]
          },
          "metadata": {},
          "output_type": "display_data"
        },
        {
          "data": {
            "text/html": [
              "Tracking run with wandb version 0.13.5"
            ],
            "text/plain": [
              "<IPython.core.display.HTML object>"
            ]
          },
          "metadata": {},
          "output_type": "display_data"
        },
        {
          "data": {
            "text/html": [
              "Run data is saved locally in <code>C:\\Users\\Rajesh\\wandb\\run-20221110_145007-m8p07gh1</code>"
            ],
            "text/plain": [
              "<IPython.core.display.HTML object>"
            ]
          },
          "metadata": {},
          "output_type": "display_data"
        },
        {
          "data": {
            "text/html": [
              "Syncing run <strong><a href=\"https://wandb.ai/rajeshtr/car_resale_value/runs/m8p07gh1\" target=\"_blank\">hearty-sweep-32</a></strong> to <a href=\"https://wandb.ai/rajeshtr/car_resale_value\" target=\"_blank\">Weights & Biases</a> (<a href=\"https://wandb.me/run\" target=\"_blank\">docs</a>)<br/>Sweep page:  <a href=\"https://wandb.ai/rajeshtr/car_resale_value/sweeps/b30glh4n\" target=\"_blank\">https://wandb.ai/rajeshtr/car_resale_value/sweeps/b30glh4n</a>"
            ],
            "text/plain": [
              "<IPython.core.display.HTML object>"
            ]
          },
          "metadata": {},
          "output_type": "display_data"
        },
        {
          "name": "stderr",
          "output_type": "stream",
          "text": [
            "C:\\Users\\Rajesh\\anaconda3\\lib\\site-packages\\sklearn\\utils\\validation.py:993: DataConversionWarning: A column-vector y was passed when a 1d array was expected. Please change the shape of y to (n_samples, ), for example using ravel().\n",
            "  y = column_or_1d(y, warn=True)\n"
          ]
        },
        {
          "data": {
            "text/html": [
              "Waiting for W&B process to finish... <strong style=\"color:green\">(success).</strong>"
            ],
            "text/plain": [
              "<IPython.core.display.HTML object>"
            ]
          },
          "metadata": {},
          "output_type": "display_data"
        },
        {
          "data": {
            "text/html": [
              "<style>\n",
              "    table.wandb td:nth-child(1) { padding: 0 10px; text-align: left ; width: auto;} td:nth-child(2) {text-align: left ; width: 100%}\n",
              "    .wandb-row { display: flex; flex-direction: row; flex-wrap: wrap; justify-content: flex-start; width: 100% }\n",
              "    .wandb-col { display: flex; flex-direction: column; flex-basis: 100%; flex: 1; padding: 10px; }\n",
              "    </style>\n",
              "<div class=\"wandb-row\"><div class=\"wandb-col\"><h3>Run history:</h3><br/><table class=\"wandb\"><tr><td>adj_r2</td><td>▁</td></tr><tr><td>mae</td><td>▁</td></tr><tr><td>mse</td><td>▁</td></tr><tr><td>r2</td><td>▁</td></tr><tr><td>rmse</td><td>▁</td></tr><tr><td>rmsle</td><td>▁</td></tr></table><br/></div><div class=\"wandb-col\"><h3>Run summary:</h3><br/><table class=\"wandb\"><tr><td>adj_r2</td><td>0.86099</td></tr><tr><td>mae</td><td>1429.55205</td></tr><tr><td>mse</td><td>9908330.98023</td></tr><tr><td>r2</td><td>0.861</td></tr><tr><td>rmse</td><td>3147.75015</td></tr><tr><td>rmsle</td><td>8.05444</td></tr></table><br/></div></div>"
            ],
            "text/plain": [
              "<IPython.core.display.HTML object>"
            ]
          },
          "metadata": {},
          "output_type": "display_data"
        },
        {
          "data": {
            "text/html": [
              "Synced <strong style=\"color:#cdcd00\">hearty-sweep-32</strong>: <a href=\"https://wandb.ai/rajeshtr/car_resale_value/runs/m8p07gh1\" target=\"_blank\">https://wandb.ai/rajeshtr/car_resale_value/runs/m8p07gh1</a><br/>Synced 6 W&B file(s), 0 media file(s), 0 artifact file(s) and 0 other file(s)"
            ],
            "text/plain": [
              "<IPython.core.display.HTML object>"
            ]
          },
          "metadata": {},
          "output_type": "display_data"
        },
        {
          "data": {
            "text/html": [
              "Find logs at: <code>.\\wandb\\run-20221110_145007-m8p07gh1\\logs</code>"
            ],
            "text/plain": [
              "<IPython.core.display.HTML object>"
            ]
          },
          "metadata": {},
          "output_type": "display_data"
        },
        {
          "name": "stderr",
          "output_type": "stream",
          "text": [
            "\u001b[34m\u001b[1mwandb\u001b[0m: Sweep Agent: Waiting for job.\n",
            "\u001b[34m\u001b[1mwandb\u001b[0m: Job received.\n",
            "\u001b[34m\u001b[1mwandb\u001b[0m: Agent Starting Run: gixlfn4k with config:\n",
            "\u001b[34m\u001b[1mwandb\u001b[0m: \tboosting_type: goss\n",
            "\u001b[34m\u001b[1mwandb\u001b[0m: \tlearning_rate: 0.05\n",
            "\u001b[34m\u001b[1mwandb\u001b[0m: \tmetric: rmse\n",
            "\u001b[34m\u001b[1mwandb\u001b[0m: \tn_estimators: 300\n",
            "\u001b[34m\u001b[1mwandb\u001b[0m: \tobjective: root_mean_squared_error\n",
            "\u001b[34m\u001b[1mwandb\u001b[0m: \trandom_state: 42\n",
            "\u001b[34m\u001b[1mwandb\u001b[0m: \treg_sqrt: True\n"
          ]
        },
        {
          "data": {
            "application/vnd.jupyter.widget-view+json": {
              "model_id": "1849385e2d574a89946cdaac78346b97",
              "version_major": 2,
              "version_minor": 0
            },
            "text/plain": [
              "VBox(children=(Label(value='Waiting for wandb.init()...\\r'), FloatProgress(value=0.01693333333435779, max=1.0)…"
            ]
          },
          "metadata": {},
          "output_type": "display_data"
        },
        {
          "data": {
            "text/html": [
              "Tracking run with wandb version 0.13.5"
            ],
            "text/plain": [
              "<IPython.core.display.HTML object>"
            ]
          },
          "metadata": {},
          "output_type": "display_data"
        },
        {
          "data": {
            "text/html": [
              "Run data is saved locally in <code>C:\\Users\\Rajesh\\wandb\\run-20221110_145154-gixlfn4k</code>"
            ],
            "text/plain": [
              "<IPython.core.display.HTML object>"
            ]
          },
          "metadata": {},
          "output_type": "display_data"
        },
        {
          "data": {
            "text/html": [
              "Syncing run <strong><a href=\"https://wandb.ai/rajeshtr/car_resale_value/runs/gixlfn4k\" target=\"_blank\">light-sweep-33</a></strong> to <a href=\"https://wandb.ai/rajeshtr/car_resale_value\" target=\"_blank\">Weights & Biases</a> (<a href=\"https://wandb.me/run\" target=\"_blank\">docs</a>)<br/>Sweep page:  <a href=\"https://wandb.ai/rajeshtr/car_resale_value/sweeps/b30glh4n\" target=\"_blank\">https://wandb.ai/rajeshtr/car_resale_value/sweeps/b30glh4n</a>"
            ],
            "text/plain": [
              "<IPython.core.display.HTML object>"
            ]
          },
          "metadata": {},
          "output_type": "display_data"
        },
        {
          "name": "stderr",
          "output_type": "stream",
          "text": [
            "C:\\Users\\Rajesh\\anaconda3\\lib\\site-packages\\sklearn\\utils\\validation.py:993: DataConversionWarning: A column-vector y was passed when a 1d array was expected. Please change the shape of y to (n_samples, ), for example using ravel().\n",
            "  y = column_or_1d(y, warn=True)\n"
          ]
        },
        {
          "data": {
            "text/html": [
              "Waiting for W&B process to finish... <strong style=\"color:green\">(success).</strong>"
            ],
            "text/plain": [
              "<IPython.core.display.HTML object>"
            ]
          },
          "metadata": {},
          "output_type": "display_data"
        },
        {
          "data": {
            "text/html": [
              "<style>\n",
              "    table.wandb td:nth-child(1) { padding: 0 10px; text-align: left ; width: auto;} td:nth-child(2) {text-align: left ; width: 100%}\n",
              "    .wandb-row { display: flex; flex-direction: row; flex-wrap: wrap; justify-content: flex-start; width: 100% }\n",
              "    .wandb-col { display: flex; flex-direction: column; flex-basis: 100%; flex: 1; padding: 10px; }\n",
              "    </style>\n",
              "<div class=\"wandb-row\"><div class=\"wandb-col\"><h3>Run history:</h3><br/><table class=\"wandb\"><tr><td>adj_r2</td><td>▁</td></tr><tr><td>mae</td><td>▁</td></tr><tr><td>mse</td><td>▁</td></tr><tr><td>r2</td><td>▁</td></tr><tr><td>rmse</td><td>▁</td></tr><tr><td>rmsle</td><td>▁</td></tr></table><br/></div><div class=\"wandb-col\"><h3>Run summary:</h3><br/><table class=\"wandb\"><tr><td>adj_r2</td><td>0.86549</td></tr><tr><td>mae</td><td>1392.98454</td></tr><tr><td>mse</td><td>9587424.95896</td></tr><tr><td>r2</td><td>0.8655</td></tr><tr><td>rmse</td><td>3096.35672</td></tr><tr><td>rmsle</td><td>8.03798</td></tr></table><br/></div></div>"
            ],
            "text/plain": [
              "<IPython.core.display.HTML object>"
            ]
          },
          "metadata": {},
          "output_type": "display_data"
        },
        {
          "data": {
            "text/html": [
              "Synced <strong style=\"color:#cdcd00\">light-sweep-33</strong>: <a href=\"https://wandb.ai/rajeshtr/car_resale_value/runs/gixlfn4k\" target=\"_blank\">https://wandb.ai/rajeshtr/car_resale_value/runs/gixlfn4k</a><br/>Synced 6 W&B file(s), 0 media file(s), 0 artifact file(s) and 0 other file(s)"
            ],
            "text/plain": [
              "<IPython.core.display.HTML object>"
            ]
          },
          "metadata": {},
          "output_type": "display_data"
        },
        {
          "data": {
            "text/html": [
              "Find logs at: <code>.\\wandb\\run-20221110_145154-gixlfn4k\\logs</code>"
            ],
            "text/plain": [
              "<IPython.core.display.HTML object>"
            ]
          },
          "metadata": {},
          "output_type": "display_data"
        },
        {
          "name": "stderr",
          "output_type": "stream",
          "text": [
            "\u001b[34m\u001b[1mwandb\u001b[0m: Sweep Agent: Waiting for job.\n",
            "\u001b[34m\u001b[1mwandb\u001b[0m: Job received.\n",
            "\u001b[34m\u001b[1mwandb\u001b[0m: Agent Starting Run: iw7unbod with config:\n",
            "\u001b[34m\u001b[1mwandb\u001b[0m: \tboosting_type: goss\n",
            "\u001b[34m\u001b[1mwandb\u001b[0m: \tlearning_rate: 0.07\n",
            "\u001b[34m\u001b[1mwandb\u001b[0m: \tmetric: rmse\n",
            "\u001b[34m\u001b[1mwandb\u001b[0m: \tn_estimators: 100\n",
            "\u001b[34m\u001b[1mwandb\u001b[0m: \tobjective: root_mean_squared_error\n",
            "\u001b[34m\u001b[1mwandb\u001b[0m: \trandom_state: 42\n",
            "\u001b[34m\u001b[1mwandb\u001b[0m: \treg_sqrt: True\n"
          ]
        },
        {
          "data": {
            "application/vnd.jupyter.widget-view+json": {
              "model_id": "4efda49ea5194e488caeeb0d2f54f961",
              "version_major": 2,
              "version_minor": 0
            },
            "text/plain": [
              "VBox(children=(Label(value='Waiting for wandb.init()...\\r'), FloatProgress(value=0.016666666666666666, max=1.0…"
            ]
          },
          "metadata": {},
          "output_type": "display_data"
        },
        {
          "data": {
            "text/html": [
              "Tracking run with wandb version 0.13.5"
            ],
            "text/plain": [
              "<IPython.core.display.HTML object>"
            ]
          },
          "metadata": {},
          "output_type": "display_data"
        },
        {
          "data": {
            "text/html": [
              "Run data is saved locally in <code>C:\\Users\\Rajesh\\wandb\\run-20221110_145307-iw7unbod</code>"
            ],
            "text/plain": [
              "<IPython.core.display.HTML object>"
            ]
          },
          "metadata": {},
          "output_type": "display_data"
        },
        {
          "data": {
            "text/html": [
              "Syncing run <strong><a href=\"https://wandb.ai/rajeshtr/car_resale_value/runs/iw7unbod\" target=\"_blank\">daily-sweep-34</a></strong> to <a href=\"https://wandb.ai/rajeshtr/car_resale_value\" target=\"_blank\">Weights & Biases</a> (<a href=\"https://wandb.me/run\" target=\"_blank\">docs</a>)<br/>Sweep page:  <a href=\"https://wandb.ai/rajeshtr/car_resale_value/sweeps/b30glh4n\" target=\"_blank\">https://wandb.ai/rajeshtr/car_resale_value/sweeps/b30glh4n</a>"
            ],
            "text/plain": [
              "<IPython.core.display.HTML object>"
            ]
          },
          "metadata": {},
          "output_type": "display_data"
        },
        {
          "name": "stderr",
          "output_type": "stream",
          "text": [
            "C:\\Users\\Rajesh\\anaconda3\\lib\\site-packages\\sklearn\\utils\\validation.py:993: DataConversionWarning: A column-vector y was passed when a 1d array was expected. Please change the shape of y to (n_samples, ), for example using ravel().\n",
            "  y = column_or_1d(y, warn=True)\n"
          ]
        },
        {
          "data": {
            "text/html": [
              "Waiting for W&B process to finish... <strong style=\"color:green\">(success).</strong>"
            ],
            "text/plain": [
              "<IPython.core.display.HTML object>"
            ]
          },
          "metadata": {},
          "output_type": "display_data"
        },
        {
          "data": {
            "text/html": [
              "<style>\n",
              "    table.wandb td:nth-child(1) { padding: 0 10px; text-align: left ; width: auto;} td:nth-child(2) {text-align: left ; width: 100%}\n",
              "    .wandb-row { display: flex; flex-direction: row; flex-wrap: wrap; justify-content: flex-start; width: 100% }\n",
              "    .wandb-col { display: flex; flex-direction: column; flex-basis: 100%; flex: 1; padding: 10px; }\n",
              "    </style>\n",
              "<div class=\"wandb-row\"><div class=\"wandb-col\"><h3>Run history:</h3><br/><table class=\"wandb\"><tr><td>adj_r2</td><td>▁</td></tr><tr><td>mae</td><td>▁</td></tr><tr><td>mse</td><td>▁</td></tr><tr><td>r2</td><td>▁</td></tr><tr><td>rmse</td><td>▁</td></tr><tr><td>rmsle</td><td>▁</td></tr></table><br/></div><div class=\"wandb-col\"><h3>Run summary:</h3><br/><table class=\"wandb\"><tr><td>adj_r2</td><td>0.85557</td></tr><tr><td>mae</td><td>1467.09127</td></tr><tr><td>mse</td><td>10294938.17779</td></tr><tr><td>r2</td><td>0.85557</td></tr><tr><td>rmse</td><td>3208.57261</td></tr><tr><td>rmsle</td><td>8.07358</td></tr></table><br/></div></div>"
            ],
            "text/plain": [
              "<IPython.core.display.HTML object>"
            ]
          },
          "metadata": {},
          "output_type": "display_data"
        },
        {
          "data": {
            "text/html": [
              "Synced <strong style=\"color:#cdcd00\">daily-sweep-34</strong>: <a href=\"https://wandb.ai/rajeshtr/car_resale_value/runs/iw7unbod\" target=\"_blank\">https://wandb.ai/rajeshtr/car_resale_value/runs/iw7unbod</a><br/>Synced 6 W&B file(s), 0 media file(s), 0 artifact file(s) and 0 other file(s)"
            ],
            "text/plain": [
              "<IPython.core.display.HTML object>"
            ]
          },
          "metadata": {},
          "output_type": "display_data"
        },
        {
          "data": {
            "text/html": [
              "Find logs at: <code>.\\wandb\\run-20221110_145307-iw7unbod\\logs</code>"
            ],
            "text/plain": [
              "<IPython.core.display.HTML object>"
            ]
          },
          "metadata": {},
          "output_type": "display_data"
        },
        {
          "name": "stderr",
          "output_type": "stream",
          "text": [
            "\u001b[34m\u001b[1mwandb\u001b[0m: Sweep Agent: Waiting for job.\n",
            "\u001b[34m\u001b[1mwandb\u001b[0m: Job received.\n",
            "\u001b[34m\u001b[1mwandb\u001b[0m: Agent Starting Run: g47c5jhu with config:\n",
            "\u001b[34m\u001b[1mwandb\u001b[0m: \tboosting_type: goss\n",
            "\u001b[34m\u001b[1mwandb\u001b[0m: \tlearning_rate: 0.07\n",
            "\u001b[34m\u001b[1mwandb\u001b[0m: \tmetric: rmse\n",
            "\u001b[34m\u001b[1mwandb\u001b[0m: \tn_estimators: 200\n",
            "\u001b[34m\u001b[1mwandb\u001b[0m: \tobjective: root_mean_squared_error\n",
            "\u001b[34m\u001b[1mwandb\u001b[0m: \trandom_state: 42\n",
            "\u001b[34m\u001b[1mwandb\u001b[0m: \treg_sqrt: True\n"
          ]
        },
        {
          "data": {
            "application/vnd.jupyter.widget-view+json": {
              "model_id": "7be2a21a45a94ac58e518056edf7db44",
              "version_major": 2,
              "version_minor": 0
            },
            "text/plain": [
              "VBox(children=(Label(value='Waiting for wandb.init()...\\r'), FloatProgress(value=0.016666666666666666, max=1.0…"
            ]
          },
          "metadata": {},
          "output_type": "display_data"
        },
        {
          "data": {
            "text/html": [
              "Tracking run with wandb version 0.13.5"
            ],
            "text/plain": [
              "<IPython.core.display.HTML object>"
            ]
          },
          "metadata": {},
          "output_type": "display_data"
        },
        {
          "data": {
            "text/html": [
              "Run data is saved locally in <code>C:\\Users\\Rajesh\\wandb\\run-20221110_145507-g47c5jhu</code>"
            ],
            "text/plain": [
              "<IPython.core.display.HTML object>"
            ]
          },
          "metadata": {},
          "output_type": "display_data"
        },
        {
          "data": {
            "text/html": [
              "Syncing run <strong><a href=\"https://wandb.ai/rajeshtr/car_resale_value/runs/g47c5jhu\" target=\"_blank\">fanciful-sweep-35</a></strong> to <a href=\"https://wandb.ai/rajeshtr/car_resale_value\" target=\"_blank\">Weights & Biases</a> (<a href=\"https://wandb.me/run\" target=\"_blank\">docs</a>)<br/>Sweep page:  <a href=\"https://wandb.ai/rajeshtr/car_resale_value/sweeps/b30glh4n\" target=\"_blank\">https://wandb.ai/rajeshtr/car_resale_value/sweeps/b30glh4n</a>"
            ],
            "text/plain": [
              "<IPython.core.display.HTML object>"
            ]
          },
          "metadata": {},
          "output_type": "display_data"
        },
        {
          "name": "stderr",
          "output_type": "stream",
          "text": [
            "C:\\Users\\Rajesh\\anaconda3\\lib\\site-packages\\sklearn\\utils\\validation.py:993: DataConversionWarning: A column-vector y was passed when a 1d array was expected. Please change the shape of y to (n_samples, ), for example using ravel().\n",
            "  y = column_or_1d(y, warn=True)\n"
          ]
        },
        {
          "data": {
            "text/html": [
              "Waiting for W&B process to finish... <strong style=\"color:green\">(success).</strong>"
            ],
            "text/plain": [
              "<IPython.core.display.HTML object>"
            ]
          },
          "metadata": {},
          "output_type": "display_data"
        },
        {
          "data": {
            "text/html": [
              "<style>\n",
              "    table.wandb td:nth-child(1) { padding: 0 10px; text-align: left ; width: auto;} td:nth-child(2) {text-align: left ; width: 100%}\n",
              "    .wandb-row { display: flex; flex-direction: row; flex-wrap: wrap; justify-content: flex-start; width: 100% }\n",
              "    .wandb-col { display: flex; flex-direction: column; flex-basis: 100%; flex: 1; padding: 10px; }\n",
              "    </style>\n",
              "<div class=\"wandb-row\"><div class=\"wandb-col\"><h3>Run history:</h3><br/><table class=\"wandb\"><tr><td>adj_r2</td><td>▁</td></tr><tr><td>mae</td><td>▁</td></tr><tr><td>mse</td><td>▁</td></tr><tr><td>r2</td><td>▁</td></tr><tr><td>rmse</td><td>▁</td></tr><tr><td>rmsle</td><td>▁</td></tr></table><br/></div><div class=\"wandb-col\"><h3>Run summary:</h3><br/><table class=\"wandb\"><tr><td>adj_r2</td><td>0.86505</td></tr><tr><td>mae</td><td>1400.49904</td></tr><tr><td>mse</td><td>9618944.77269</td></tr><tr><td>r2</td><td>0.86506</td></tr><tr><td>rmse</td><td>3101.44237</td></tr><tr><td>rmsle</td><td>8.03962</td></tr></table><br/></div></div>"
            ],
            "text/plain": [
              "<IPython.core.display.HTML object>"
            ]
          },
          "metadata": {},
          "output_type": "display_data"
        },
        {
          "data": {
            "text/html": [
              "Synced <strong style=\"color:#cdcd00\">fanciful-sweep-35</strong>: <a href=\"https://wandb.ai/rajeshtr/car_resale_value/runs/g47c5jhu\" target=\"_blank\">https://wandb.ai/rajeshtr/car_resale_value/runs/g47c5jhu</a><br/>Synced 6 W&B file(s), 0 media file(s), 0 artifact file(s) and 0 other file(s)"
            ],
            "text/plain": [
              "<IPython.core.display.HTML object>"
            ]
          },
          "metadata": {},
          "output_type": "display_data"
        },
        {
          "data": {
            "text/html": [
              "Find logs at: <code>.\\wandb\\run-20221110_145507-g47c5jhu\\logs</code>"
            ],
            "text/plain": [
              "<IPython.core.display.HTML object>"
            ]
          },
          "metadata": {},
          "output_type": "display_data"
        },
        {
          "name": "stderr",
          "output_type": "stream",
          "text": [
            "\u001b[34m\u001b[1mwandb\u001b[0m: Sweep Agent: Waiting for job.\n",
            "\u001b[34m\u001b[1mwandb\u001b[0m: Job received.\n",
            "\u001b[34m\u001b[1mwandb\u001b[0m: Agent Starting Run: c2if4ov8 with config:\n",
            "\u001b[34m\u001b[1mwandb\u001b[0m: \tboosting_type: goss\n",
            "\u001b[34m\u001b[1mwandb\u001b[0m: \tlearning_rate: 0.07\n",
            "\u001b[34m\u001b[1mwandb\u001b[0m: \tmetric: rmse\n",
            "\u001b[34m\u001b[1mwandb\u001b[0m: \tn_estimators: 300\n",
            "\u001b[34m\u001b[1mwandb\u001b[0m: \tobjective: root_mean_squared_error\n",
            "\u001b[34m\u001b[1mwandb\u001b[0m: \trandom_state: 42\n",
            "\u001b[34m\u001b[1mwandb\u001b[0m: \treg_sqrt: True\n"
          ]
        },
        {
          "data": {
            "application/vnd.jupyter.widget-view+json": {
              "model_id": "8ba42f69579a42ab9b7dd6f7daf37014",
              "version_major": 2,
              "version_minor": 0
            },
            "text/plain": [
              "VBox(children=(Label(value='Waiting for wandb.init()...\\r'), FloatProgress(value=0.01693333333435779, max=1.0)…"
            ]
          },
          "metadata": {},
          "output_type": "display_data"
        },
        {
          "data": {
            "text/html": [
              "Tracking run with wandb version 0.13.5"
            ],
            "text/plain": [
              "<IPython.core.display.HTML object>"
            ]
          },
          "metadata": {},
          "output_type": "display_data"
        },
        {
          "data": {
            "text/html": [
              "Run data is saved locally in <code>C:\\Users\\Rajesh\\wandb\\run-20221110_145644-c2if4ov8</code>"
            ],
            "text/plain": [
              "<IPython.core.display.HTML object>"
            ]
          },
          "metadata": {},
          "output_type": "display_data"
        },
        {
          "data": {
            "text/html": [
              "Syncing run <strong><a href=\"https://wandb.ai/rajeshtr/car_resale_value/runs/c2if4ov8\" target=\"_blank\">ancient-sweep-36</a></strong> to <a href=\"https://wandb.ai/rajeshtr/car_resale_value\" target=\"_blank\">Weights & Biases</a> (<a href=\"https://wandb.me/run\" target=\"_blank\">docs</a>)<br/>Sweep page:  <a href=\"https://wandb.ai/rajeshtr/car_resale_value/sweeps/b30glh4n\" target=\"_blank\">https://wandb.ai/rajeshtr/car_resale_value/sweeps/b30glh4n</a>"
            ],
            "text/plain": [
              "<IPython.core.display.HTML object>"
            ]
          },
          "metadata": {},
          "output_type": "display_data"
        },
        {
          "name": "stderr",
          "output_type": "stream",
          "text": [
            "C:\\Users\\Rajesh\\anaconda3\\lib\\site-packages\\sklearn\\utils\\validation.py:993: DataConversionWarning: A column-vector y was passed when a 1d array was expected. Please change the shape of y to (n_samples, ), for example using ravel().\n",
            "  y = column_or_1d(y, warn=True)\n"
          ]
        },
        {
          "data": {
            "text/html": [
              "Waiting for W&B process to finish... <strong style=\"color:green\">(success).</strong>"
            ],
            "text/plain": [
              "<IPython.core.display.HTML object>"
            ]
          },
          "metadata": {},
          "output_type": "display_data"
        },
        {
          "data": {
            "text/html": [
              "<style>\n",
              "    table.wandb td:nth-child(1) { padding: 0 10px; text-align: left ; width: auto;} td:nth-child(2) {text-align: left ; width: 100%}\n",
              "    .wandb-row { display: flex; flex-direction: row; flex-wrap: wrap; justify-content: flex-start; width: 100% }\n",
              "    .wandb-col { display: flex; flex-direction: column; flex-basis: 100%; flex: 1; padding: 10px; }\n",
              "    </style>\n",
              "<div class=\"wandb-row\"><div class=\"wandb-col\"><h3>Run history:</h3><br/><table class=\"wandb\"><tr><td>adj_r2</td><td>▁</td></tr><tr><td>mae</td><td>▁</td></tr><tr><td>mse</td><td>▁</td></tr><tr><td>r2</td><td>▁</td></tr><tr><td>rmse</td><td>▁</td></tr><tr><td>rmsle</td><td>▁</td></tr></table><br/></div><div class=\"wandb-col\"><h3>Run summary:</h3><br/><table class=\"wandb\"><tr><td>adj_r2</td><td>0.86949</td></tr><tr><td>mae</td><td>1366.21695</td></tr><tr><td>mse</td><td>9302686.85872</td></tr><tr><td>r2</td><td>0.86949</td></tr><tr><td>rmse</td><td>3050.03063</td></tr><tr><td>rmsle</td><td>8.02291</td></tr></table><br/></div></div>"
            ],
            "text/plain": [
              "<IPython.core.display.HTML object>"
            ]
          },
          "metadata": {},
          "output_type": "display_data"
        },
        {
          "data": {
            "text/html": [
              "Synced <strong style=\"color:#cdcd00\">ancient-sweep-36</strong>: <a href=\"https://wandb.ai/rajeshtr/car_resale_value/runs/c2if4ov8\" target=\"_blank\">https://wandb.ai/rajeshtr/car_resale_value/runs/c2if4ov8</a><br/>Synced 6 W&B file(s), 0 media file(s), 0 artifact file(s) and 0 other file(s)"
            ],
            "text/plain": [
              "<IPython.core.display.HTML object>"
            ]
          },
          "metadata": {},
          "output_type": "display_data"
        },
        {
          "data": {
            "text/html": [
              "Find logs at: <code>.\\wandb\\run-20221110_145644-c2if4ov8\\logs</code>"
            ],
            "text/plain": [
              "<IPython.core.display.HTML object>"
            ]
          },
          "metadata": {},
          "output_type": "display_data"
        },
        {
          "name": "stderr",
          "output_type": "stream",
          "text": [
            "\u001b[34m\u001b[1mwandb\u001b[0m: Agent Starting Run: j595u9sh with config:\n",
            "\u001b[34m\u001b[1mwandb\u001b[0m: \tboosting_type: rf\n",
            "\u001b[34m\u001b[1mwandb\u001b[0m: \tlearning_rate: 0.01\n",
            "\u001b[34m\u001b[1mwandb\u001b[0m: \tmetric: rmse\n",
            "\u001b[34m\u001b[1mwandb\u001b[0m: \tn_estimators: 100\n",
            "\u001b[34m\u001b[1mwandb\u001b[0m: \tobjective: root_mean_squared_error\n",
            "\u001b[34m\u001b[1mwandb\u001b[0m: \trandom_state: 42\n",
            "\u001b[34m\u001b[1mwandb\u001b[0m: \treg_sqrt: True\n"
          ]
        },
        {
          "data": {
            "application/vnd.jupyter.widget-view+json": {
              "model_id": "0b79a9c3763b4db18fc547f022793c7c",
              "version_major": 2,
              "version_minor": 0
            },
            "text/plain": [
              "VBox(children=(Label(value='Waiting for wandb.init()...\\r'), FloatProgress(value=0.016666666666666666, max=1.0…"
            ]
          },
          "metadata": {},
          "output_type": "display_data"
        },
        {
          "data": {
            "text/html": [
              "Tracking run with wandb version 0.13.5"
            ],
            "text/plain": [
              "<IPython.core.display.HTML object>"
            ]
          },
          "metadata": {},
          "output_type": "display_data"
        },
        {
          "data": {
            "text/html": [
              "Run data is saved locally in <code>C:\\Users\\Rajesh\\wandb\\run-20221110_145731-j595u9sh</code>"
            ],
            "text/plain": [
              "<IPython.core.display.HTML object>"
            ]
          },
          "metadata": {},
          "output_type": "display_data"
        },
        {
          "data": {
            "text/html": [
              "Syncing run <strong><a href=\"https://wandb.ai/rajeshtr/car_resale_value/runs/j595u9sh\" target=\"_blank\">lucky-sweep-37</a></strong> to <a href=\"https://wandb.ai/rajeshtr/car_resale_value\" target=\"_blank\">Weights & Biases</a> (<a href=\"https://wandb.me/run\" target=\"_blank\">docs</a>)<br/>Sweep page:  <a href=\"https://wandb.ai/rajeshtr/car_resale_value/sweeps/b30glh4n\" target=\"_blank\">https://wandb.ai/rajeshtr/car_resale_value/sweeps/b30glh4n</a>"
            ],
            "text/plain": [
              "<IPython.core.display.HTML object>"
            ]
          },
          "metadata": {},
          "output_type": "display_data"
        },
        {
          "name": "stderr",
          "output_type": "stream",
          "text": [
            "C:\\Users\\Rajesh\\anaconda3\\lib\\site-packages\\sklearn\\utils\\validation.py:993: DataConversionWarning: A column-vector y was passed when a 1d array was expected. Please change the shape of y to (n_samples, ), for example using ravel().\n",
            "  y = column_or_1d(y, warn=True)\n"
          ]
        },
        {
          "data": {
            "text/html": [
              "Waiting for W&B process to finish... <strong style=\"color:green\">(success).</strong>"
            ],
            "text/plain": [
              "<IPython.core.display.HTML object>"
            ]
          },
          "metadata": {},
          "output_type": "display_data"
        },
        {
          "data": {
            "text/html": [
              "<style>\n",
              "    table.wandb td:nth-child(1) { padding: 0 10px; text-align: left ; width: auto;} td:nth-child(2) {text-align: left ; width: 100%}\n",
              "    .wandb-row { display: flex; flex-direction: row; flex-wrap: wrap; justify-content: flex-start; width: 100% }\n",
              "    .wandb-col { display: flex; flex-direction: column; flex-basis: 100%; flex: 1; padding: 10px; }\n",
              "    </style>\n",
              "<div class=\"wandb-row\"><div class=\"wandb-col\"><h3>Run history:</h3><br/><table class=\"wandb\"><tr><td>adj_r2</td><td>▁</td></tr><tr><td>mae</td><td>▁</td></tr><tr><td>mse</td><td>▁</td></tr><tr><td>r2</td><td>▁</td></tr><tr><td>rmse</td><td>▁</td></tr><tr><td>rmsle</td><td>▁</td></tr></table><br/></div><div class=\"wandb-col\"><h3>Run summary:</h3><br/><table class=\"wandb\"><tr><td>adj_r2</td><td>0.63522</td></tr><tr><td>mae</td><td>2868.23264</td></tr><tr><td>mse</td><td>26000513.79616</td></tr><tr><td>r2</td><td>0.63524</td></tr><tr><td>rmse</td><td>5099.0699</td></tr><tr><td>rmsle</td><td>8.53681</td></tr></table><br/></div></div>"
            ],
            "text/plain": [
              "<IPython.core.display.HTML object>"
            ]
          },
          "metadata": {},
          "output_type": "display_data"
        },
        {
          "data": {
            "text/html": [
              "Synced <strong style=\"color:#cdcd00\">lucky-sweep-37</strong>: <a href=\"https://wandb.ai/rajeshtr/car_resale_value/runs/j595u9sh\" target=\"_blank\">https://wandb.ai/rajeshtr/car_resale_value/runs/j595u9sh</a><br/>Synced 6 W&B file(s), 0 media file(s), 0 artifact file(s) and 0 other file(s)"
            ],
            "text/plain": [
              "<IPython.core.display.HTML object>"
            ]
          },
          "metadata": {},
          "output_type": "display_data"
        },
        {
          "data": {
            "text/html": [
              "Find logs at: <code>.\\wandb\\run-20221110_145731-j595u9sh\\logs</code>"
            ],
            "text/plain": [
              "<IPython.core.display.HTML object>"
            ]
          },
          "metadata": {},
          "output_type": "display_data"
        },
        {
          "name": "stderr",
          "output_type": "stream",
          "text": [
            "\u001b[34m\u001b[1mwandb\u001b[0m: Agent Starting Run: uif1g0u6 with config:\n",
            "\u001b[34m\u001b[1mwandb\u001b[0m: \tboosting_type: rf\n",
            "\u001b[34m\u001b[1mwandb\u001b[0m: \tlearning_rate: 0.01\n",
            "\u001b[34m\u001b[1mwandb\u001b[0m: \tmetric: rmse\n",
            "\u001b[34m\u001b[1mwandb\u001b[0m: \tn_estimators: 200\n",
            "\u001b[34m\u001b[1mwandb\u001b[0m: \tobjective: root_mean_squared_error\n",
            "\u001b[34m\u001b[1mwandb\u001b[0m: \trandom_state: 42\n",
            "\u001b[34m\u001b[1mwandb\u001b[0m: \treg_sqrt: True\n"
          ]
        },
        {
          "data": {
            "application/vnd.jupyter.widget-view+json": {
              "model_id": "bce2f22e3db5494fb4caf65518bab74b",
              "version_major": 2,
              "version_minor": 0
            },
            "text/plain": [
              "VBox(children=(Label(value='Waiting for wandb.init()...\\r'), FloatProgress(value=0.016933333330477276, max=1.0…"
            ]
          },
          "metadata": {},
          "output_type": "display_data"
        },
        {
          "data": {
            "text/html": [
              "Tracking run with wandb version 0.13.5"
            ],
            "text/plain": [
              "<IPython.core.display.HTML object>"
            ]
          },
          "metadata": {},
          "output_type": "display_data"
        },
        {
          "data": {
            "text/html": [
              "Run data is saved locally in <code>C:\\Users\\Rajesh\\wandb\\run-20221110_145813-uif1g0u6</code>"
            ],
            "text/plain": [
              "<IPython.core.display.HTML object>"
            ]
          },
          "metadata": {},
          "output_type": "display_data"
        },
        {
          "data": {
            "text/html": [
              "Syncing run <strong><a href=\"https://wandb.ai/rajeshtr/car_resale_value/runs/uif1g0u6\" target=\"_blank\">valiant-sweep-38</a></strong> to <a href=\"https://wandb.ai/rajeshtr/car_resale_value\" target=\"_blank\">Weights & Biases</a> (<a href=\"https://wandb.me/run\" target=\"_blank\">docs</a>)<br/>Sweep page:  <a href=\"https://wandb.ai/rajeshtr/car_resale_value/sweeps/b30glh4n\" target=\"_blank\">https://wandb.ai/rajeshtr/car_resale_value/sweeps/b30glh4n</a>"
            ],
            "text/plain": [
              "<IPython.core.display.HTML object>"
            ]
          },
          "metadata": {},
          "output_type": "display_data"
        },
        {
          "name": "stderr",
          "output_type": "stream",
          "text": [
            "C:\\Users\\Rajesh\\anaconda3\\lib\\site-packages\\sklearn\\utils\\validation.py:993: DataConversionWarning: A column-vector y was passed when a 1d array was expected. Please change the shape of y to (n_samples, ), for example using ravel().\n",
            "  y = column_or_1d(y, warn=True)\n"
          ]
        },
        {
          "data": {
            "text/html": [
              "Waiting for W&B process to finish... <strong style=\"color:green\">(success).</strong>"
            ],
            "text/plain": [
              "<IPython.core.display.HTML object>"
            ]
          },
          "metadata": {},
          "output_type": "display_data"
        },
        {
          "data": {
            "text/html": [
              "<style>\n",
              "    table.wandb td:nth-child(1) { padding: 0 10px; text-align: left ; width: auto;} td:nth-child(2) {text-align: left ; width: 100%}\n",
              "    .wandb-row { display: flex; flex-direction: row; flex-wrap: wrap; justify-content: flex-start; width: 100% }\n",
              "    .wandb-col { display: flex; flex-direction: column; flex-basis: 100%; flex: 1; padding: 10px; }\n",
              "    </style>\n",
              "<div class=\"wandb-row\"><div class=\"wandb-col\"><h3>Run history:</h3><br/><table class=\"wandb\"><tr><td>adj_r2</td><td>▁</td></tr><tr><td>mae</td><td>▁</td></tr><tr><td>mse</td><td>▁</td></tr><tr><td>r2</td><td>▁</td></tr><tr><td>rmse</td><td>▁</td></tr><tr><td>rmsle</td><td>▁</td></tr></table><br/></div><div class=\"wandb-col\"><h3>Run summary:</h3><br/><table class=\"wandb\"><tr><td>adj_r2</td><td>0.7705</td></tr><tr><td>mae</td><td>2085.96387</td></tr><tr><td>mse</td><td>16358084.55903</td></tr><tr><td>r2</td><td>0.77052</td></tr><tr><td>rmse</td><td>4044.5129</td></tr><tr><td>rmsle</td><td>8.30512</td></tr></table><br/></div></div>"
            ],
            "text/plain": [
              "<IPython.core.display.HTML object>"
            ]
          },
          "metadata": {},
          "output_type": "display_data"
        },
        {
          "data": {
            "text/html": [
              "Synced <strong style=\"color:#cdcd00\">valiant-sweep-38</strong>: <a href=\"https://wandb.ai/rajeshtr/car_resale_value/runs/uif1g0u6\" target=\"_blank\">https://wandb.ai/rajeshtr/car_resale_value/runs/uif1g0u6</a><br/>Synced 6 W&B file(s), 0 media file(s), 0 artifact file(s) and 0 other file(s)"
            ],
            "text/plain": [
              "<IPython.core.display.HTML object>"
            ]
          },
          "metadata": {},
          "output_type": "display_data"
        },
        {
          "data": {
            "text/html": [
              "Find logs at: <code>.\\wandb\\run-20221110_145813-uif1g0u6\\logs</code>"
            ],
            "text/plain": [
              "<IPython.core.display.HTML object>"
            ]
          },
          "metadata": {},
          "output_type": "display_data"
        },
        {
          "name": "stderr",
          "output_type": "stream",
          "text": [
            "\u001b[34m\u001b[1mwandb\u001b[0m: Agent Starting Run: 1qdo7fl4 with config:\n",
            "\u001b[34m\u001b[1mwandb\u001b[0m: \tboosting_type: rf\n",
            "\u001b[34m\u001b[1mwandb\u001b[0m: \tlearning_rate: 0.01\n",
            "\u001b[34m\u001b[1mwandb\u001b[0m: \tmetric: rmse\n",
            "\u001b[34m\u001b[1mwandb\u001b[0m: \tn_estimators: 300\n",
            "\u001b[34m\u001b[1mwandb\u001b[0m: \tobjective: root_mean_squared_error\n",
            "\u001b[34m\u001b[1mwandb\u001b[0m: \trandom_state: 42\n",
            "\u001b[34m\u001b[1mwandb\u001b[0m: \treg_sqrt: True\n"
          ]
        },
        {
          "data": {
            "application/vnd.jupyter.widget-view+json": {
              "model_id": "9b40c70461c34086afc572542b59c523",
              "version_major": 2,
              "version_minor": 0
            },
            "text/plain": [
              "VBox(children=(Label(value='Waiting for wandb.init()...\\r'), FloatProgress(value=0.016933333330477276, max=1.0…"
            ]
          },
          "metadata": {},
          "output_type": "display_data"
        },
        {
          "data": {
            "text/html": [
              "Tracking run with wandb version 0.13.5"
            ],
            "text/plain": [
              "<IPython.core.display.HTML object>"
            ]
          },
          "metadata": {},
          "output_type": "display_data"
        },
        {
          "data": {
            "text/html": [
              "Run data is saved locally in <code>C:\\Users\\Rajesh\\wandb\\run-20221110_145847-1qdo7fl4</code>"
            ],
            "text/plain": [
              "<IPython.core.display.HTML object>"
            ]
          },
          "metadata": {},
          "output_type": "display_data"
        },
        {
          "data": {
            "text/html": [
              "Syncing run <strong><a href=\"https://wandb.ai/rajeshtr/car_resale_value/runs/1qdo7fl4\" target=\"_blank\">lemon-sweep-39</a></strong> to <a href=\"https://wandb.ai/rajeshtr/car_resale_value\" target=\"_blank\">Weights & Biases</a> (<a href=\"https://wandb.me/run\" target=\"_blank\">docs</a>)<br/>Sweep page:  <a href=\"https://wandb.ai/rajeshtr/car_resale_value/sweeps/b30glh4n\" target=\"_blank\">https://wandb.ai/rajeshtr/car_resale_value/sweeps/b30glh4n</a>"
            ],
            "text/plain": [
              "<IPython.core.display.HTML object>"
            ]
          },
          "metadata": {},
          "output_type": "display_data"
        },
        {
          "name": "stderr",
          "output_type": "stream",
          "text": [
            "C:\\Users\\Rajesh\\anaconda3\\lib\\site-packages\\sklearn\\utils\\validation.py:993: DataConversionWarning: A column-vector y was passed when a 1d array was expected. Please change the shape of y to (n_samples, ), for example using ravel().\n",
            "  y = column_or_1d(y, warn=True)\n"
          ]
        },
        {
          "data": {
            "text/html": [
              "Waiting for W&B process to finish... <strong style=\"color:green\">(success).</strong>"
            ],
            "text/plain": [
              "<IPython.core.display.HTML object>"
            ]
          },
          "metadata": {},
          "output_type": "display_data"
        },
        {
          "data": {
            "text/html": [
              "<style>\n",
              "    table.wandb td:nth-child(1) { padding: 0 10px; text-align: left ; width: auto;} td:nth-child(2) {text-align: left ; width: 100%}\n",
              "    .wandb-row { display: flex; flex-direction: row; flex-wrap: wrap; justify-content: flex-start; width: 100% }\n",
              "    .wandb-col { display: flex; flex-direction: column; flex-basis: 100%; flex: 1; padding: 10px; }\n",
              "    </style>\n",
              "<div class=\"wandb-row\"><div class=\"wandb-col\"><h3>Run history:</h3><br/><table class=\"wandb\"><tr><td>adj_r2</td><td>▁</td></tr><tr><td>mae</td><td>▁</td></tr><tr><td>mse</td><td>▁</td></tr><tr><td>r2</td><td>▁</td></tr><tr><td>rmse</td><td>▁</td></tr><tr><td>rmsle</td><td>▁</td></tr></table><br/></div><div class=\"wandb-col\"><h3>Run summary:</h3><br/><table class=\"wandb\"><tr><td>adj_r2</td><td>0.81645</td></tr><tr><td>mae</td><td>1759.82706</td></tr><tr><td>mse</td><td>13082914.16355</td></tr><tr><td>r2</td><td>0.81646</td></tr><tr><td>rmse</td><td>3617.03113</td></tr><tr><td>rmsle</td><td>8.19341</td></tr></table><br/></div></div>"
            ],
            "text/plain": [
              "<IPython.core.display.HTML object>"
            ]
          },
          "metadata": {},
          "output_type": "display_data"
        },
        {
          "data": {
            "text/html": [
              "Synced <strong style=\"color:#cdcd00\">lemon-sweep-39</strong>: <a href=\"https://wandb.ai/rajeshtr/car_resale_value/runs/1qdo7fl4\" target=\"_blank\">https://wandb.ai/rajeshtr/car_resale_value/runs/1qdo7fl4</a><br/>Synced 6 W&B file(s), 0 media file(s), 0 artifact file(s) and 0 other file(s)"
            ],
            "text/plain": [
              "<IPython.core.display.HTML object>"
            ]
          },
          "metadata": {},
          "output_type": "display_data"
        },
        {
          "data": {
            "text/html": [
              "Find logs at: <code>.\\wandb\\run-20221110_145847-1qdo7fl4\\logs</code>"
            ],
            "text/plain": [
              "<IPython.core.display.HTML object>"
            ]
          },
          "metadata": {},
          "output_type": "display_data"
        },
        {
          "name": "stderr",
          "output_type": "stream",
          "text": [
            "\u001b[34m\u001b[1mwandb\u001b[0m: Agent Starting Run: 8ut2sb2m with config:\n",
            "\u001b[34m\u001b[1mwandb\u001b[0m: \tboosting_type: rf\n",
            "\u001b[34m\u001b[1mwandb\u001b[0m: \tlearning_rate: 0.03\n",
            "\u001b[34m\u001b[1mwandb\u001b[0m: \tmetric: rmse\n",
            "\u001b[34m\u001b[1mwandb\u001b[0m: \tn_estimators: 100\n",
            "\u001b[34m\u001b[1mwandb\u001b[0m: \tobjective: root_mean_squared_error\n",
            "\u001b[34m\u001b[1mwandb\u001b[0m: \trandom_state: 42\n",
            "\u001b[34m\u001b[1mwandb\u001b[0m: \treg_sqrt: True\n"
          ]
        },
        {
          "data": {
            "application/vnd.jupyter.widget-view+json": {
              "model_id": "6f062476e50c4bc38c8e3fbcdbfc014e",
              "version_major": 2,
              "version_minor": 0
            },
            "text/plain": [
              "VBox(children=(Label(value='Waiting for wandb.init()...\\r'), FloatProgress(value=0.01693333333435779, max=1.0)…"
            ]
          },
          "metadata": {},
          "output_type": "display_data"
        },
        {
          "data": {
            "text/html": [
              "Tracking run with wandb version 0.13.5"
            ],
            "text/plain": [
              "<IPython.core.display.HTML object>"
            ]
          },
          "metadata": {},
          "output_type": "display_data"
        },
        {
          "data": {
            "text/html": [
              "Run data is saved locally in <code>C:\\Users\\Rajesh\\wandb\\run-20221110_145932-8ut2sb2m</code>"
            ],
            "text/plain": [
              "<IPython.core.display.HTML object>"
            ]
          },
          "metadata": {},
          "output_type": "display_data"
        },
        {
          "data": {
            "text/html": [
              "Syncing run <strong><a href=\"https://wandb.ai/rajeshtr/car_resale_value/runs/8ut2sb2m\" target=\"_blank\">wise-sweep-40</a></strong> to <a href=\"https://wandb.ai/rajeshtr/car_resale_value\" target=\"_blank\">Weights & Biases</a> (<a href=\"https://wandb.me/run\" target=\"_blank\">docs</a>)<br/>Sweep page:  <a href=\"https://wandb.ai/rajeshtr/car_resale_value/sweeps/b30glh4n\" target=\"_blank\">https://wandb.ai/rajeshtr/car_resale_value/sweeps/b30glh4n</a>"
            ],
            "text/plain": [
              "<IPython.core.display.HTML object>"
            ]
          },
          "metadata": {},
          "output_type": "display_data"
        },
        {
          "name": "stderr",
          "output_type": "stream",
          "text": [
            "C:\\Users\\Rajesh\\anaconda3\\lib\\site-packages\\sklearn\\utils\\validation.py:993: DataConversionWarning: A column-vector y was passed when a 1d array was expected. Please change the shape of y to (n_samples, ), for example using ravel().\n",
            "  y = column_or_1d(y, warn=True)\n"
          ]
        },
        {
          "data": {
            "text/html": [
              "Waiting for W&B process to finish... <strong style=\"color:green\">(success).</strong>"
            ],
            "text/plain": [
              "<IPython.core.display.HTML object>"
            ]
          },
          "metadata": {},
          "output_type": "display_data"
        },
        {
          "data": {
            "text/html": [
              "<style>\n",
              "    table.wandb td:nth-child(1) { padding: 0 10px; text-align: left ; width: auto;} td:nth-child(2) {text-align: left ; width: 100%}\n",
              "    .wandb-row { display: flex; flex-direction: row; flex-wrap: wrap; justify-content: flex-start; width: 100% }\n",
              "    .wandb-col { display: flex; flex-direction: column; flex-basis: 100%; flex: 1; padding: 10px; }\n",
              "    </style>\n",
              "<div class=\"wandb-row\"><div class=\"wandb-col\"><h3>Run history:</h3><br/><table class=\"wandb\"><tr><td>adj_r2</td><td>▁</td></tr><tr><td>mae</td><td>▁</td></tr><tr><td>mse</td><td>▁</td></tr><tr><td>r2</td><td>▁</td></tr><tr><td>rmse</td><td>▁</td></tr><tr><td>rmsle</td><td>▁</td></tr></table><br/></div><div class=\"wandb-col\"><h3>Run summary:</h3><br/><table class=\"wandb\"><tr><td>adj_r2</td><td>0.81665</td></tr><tr><td>mae</td><td>1754.95412</td></tr><tr><td>mse</td><td>13068726.24592</td></tr><tr><td>r2</td><td>0.81666</td></tr><tr><td>rmse</td><td>3615.06933</td></tr><tr><td>rmsle</td><td>8.19287</td></tr></table><br/></div></div>"
            ],
            "text/plain": [
              "<IPython.core.display.HTML object>"
            ]
          },
          "metadata": {},
          "output_type": "display_data"
        },
        {
          "data": {
            "text/html": [
              "Synced <strong style=\"color:#cdcd00\">wise-sweep-40</strong>: <a href=\"https://wandb.ai/rajeshtr/car_resale_value/runs/8ut2sb2m\" target=\"_blank\">https://wandb.ai/rajeshtr/car_resale_value/runs/8ut2sb2m</a><br/>Synced 6 W&B file(s), 0 media file(s), 0 artifact file(s) and 0 other file(s)"
            ],
            "text/plain": [
              "<IPython.core.display.HTML object>"
            ]
          },
          "metadata": {},
          "output_type": "display_data"
        },
        {
          "data": {
            "text/html": [
              "Find logs at: <code>.\\wandb\\run-20221110_145932-8ut2sb2m\\logs</code>"
            ],
            "text/plain": [
              "<IPython.core.display.HTML object>"
            ]
          },
          "metadata": {},
          "output_type": "display_data"
        },
        {
          "name": "stderr",
          "output_type": "stream",
          "text": [
            "\u001b[34m\u001b[1mwandb\u001b[0m: Sweep Agent: Waiting for job.\n",
            "\u001b[34m\u001b[1mwandb\u001b[0m: Job received.\n",
            "\u001b[34m\u001b[1mwandb\u001b[0m: Agent Starting Run: 6kt2raic with config:\n",
            "\u001b[34m\u001b[1mwandb\u001b[0m: \tboosting_type: rf\n",
            "\u001b[34m\u001b[1mwandb\u001b[0m: \tlearning_rate: 0.03\n",
            "\u001b[34m\u001b[1mwandb\u001b[0m: \tmetric: rmse\n",
            "\u001b[34m\u001b[1mwandb\u001b[0m: \tn_estimators: 200\n",
            "\u001b[34m\u001b[1mwandb\u001b[0m: \tobjective: root_mean_squared_error\n",
            "\u001b[34m\u001b[1mwandb\u001b[0m: \trandom_state: 42\n",
            "\u001b[34m\u001b[1mwandb\u001b[0m: \treg_sqrt: True\n"
          ]
        },
        {
          "data": {
            "application/vnd.jupyter.widget-view+json": {
              "model_id": "9cc808e831a8431b81b222a4e90c82f8",
              "version_major": 2,
              "version_minor": 0
            },
            "text/plain": [
              "VBox(children=(Label(value='Waiting for wandb.init()...\\r'), FloatProgress(value=0.016666666666666666, max=1.0…"
            ]
          },
          "metadata": {},
          "output_type": "display_data"
        },
        {
          "data": {
            "text/html": [
              "Tracking run with wandb version 0.13.5"
            ],
            "text/plain": [
              "<IPython.core.display.HTML object>"
            ]
          },
          "metadata": {},
          "output_type": "display_data"
        },
        {
          "data": {
            "text/html": [
              "Run data is saved locally in <code>C:\\Users\\Rajesh\\wandb\\run-20221110_150035-6kt2raic</code>"
            ],
            "text/plain": [
              "<IPython.core.display.HTML object>"
            ]
          },
          "metadata": {},
          "output_type": "display_data"
        },
        {
          "data": {
            "text/html": [
              "Syncing run <strong><a href=\"https://wandb.ai/rajeshtr/car_resale_value/runs/6kt2raic\" target=\"_blank\">treasured-sweep-41</a></strong> to <a href=\"https://wandb.ai/rajeshtr/car_resale_value\" target=\"_blank\">Weights & Biases</a> (<a href=\"https://wandb.me/run\" target=\"_blank\">docs</a>)<br/>Sweep page:  <a href=\"https://wandb.ai/rajeshtr/car_resale_value/sweeps/b30glh4n\" target=\"_blank\">https://wandb.ai/rajeshtr/car_resale_value/sweeps/b30glh4n</a>"
            ],
            "text/plain": [
              "<IPython.core.display.HTML object>"
            ]
          },
          "metadata": {},
          "output_type": "display_data"
        },
        {
          "name": "stderr",
          "output_type": "stream",
          "text": [
            "C:\\Users\\Rajesh\\anaconda3\\lib\\site-packages\\sklearn\\utils\\validation.py:993: DataConversionWarning: A column-vector y was passed when a 1d array was expected. Please change the shape of y to (n_samples, ), for example using ravel().\n",
            "  y = column_or_1d(y, warn=True)\n"
          ]
        },
        {
          "data": {
            "text/html": [
              "Waiting for W&B process to finish... <strong style=\"color:green\">(success).</strong>"
            ],
            "text/plain": [
              "<IPython.core.display.HTML object>"
            ]
          },
          "metadata": {},
          "output_type": "display_data"
        },
        {
          "data": {
            "text/html": [
              "<style>\n",
              "    table.wandb td:nth-child(1) { padding: 0 10px; text-align: left ; width: auto;} td:nth-child(2) {text-align: left ; width: 100%}\n",
              "    .wandb-row { display: flex; flex-direction: row; flex-wrap: wrap; justify-content: flex-start; width: 100% }\n",
              "    .wandb-col { display: flex; flex-direction: column; flex-basis: 100%; flex: 1; padding: 10px; }\n",
              "    </style>\n",
              "<div class=\"wandb-row\"><div class=\"wandb-col\"><h3>Run history:</h3><br/><table class=\"wandb\"><tr><td>adj_r2</td><td>▁</td></tr><tr><td>mae</td><td>▁</td></tr><tr><td>mse</td><td>▁</td></tr><tr><td>r2</td><td>▁</td></tr><tr><td>rmse</td><td>▁</td></tr><tr><td>rmsle</td><td>▁</td></tr></table><br/></div><div class=\"wandb-col\"><h3>Run summary:</h3><br/><table class=\"wandb\"><tr><td>adj_r2</td><td>0.85067</td></tr><tr><td>mae</td><td>1495.09347</td></tr><tr><td>mse</td><td>10643875.82927</td></tr><tr><td>r2</td><td>0.85068</td></tr><tr><td>rmse</td><td>3262.49534</td></tr><tr><td>rmsle</td><td>8.09025</td></tr></table><br/></div></div>"
            ],
            "text/plain": [
              "<IPython.core.display.HTML object>"
            ]
          },
          "metadata": {},
          "output_type": "display_data"
        },
        {
          "data": {
            "text/html": [
              "Synced <strong style=\"color:#cdcd00\">treasured-sweep-41</strong>: <a href=\"https://wandb.ai/rajeshtr/car_resale_value/runs/6kt2raic\" target=\"_blank\">https://wandb.ai/rajeshtr/car_resale_value/runs/6kt2raic</a><br/>Synced 6 W&B file(s), 0 media file(s), 0 artifact file(s) and 0 other file(s)"
            ],
            "text/plain": [
              "<IPython.core.display.HTML object>"
            ]
          },
          "metadata": {},
          "output_type": "display_data"
        },
        {
          "data": {
            "text/html": [
              "Find logs at: <code>.\\wandb\\run-20221110_150035-6kt2raic\\logs</code>"
            ],
            "text/plain": [
              "<IPython.core.display.HTML object>"
            ]
          },
          "metadata": {},
          "output_type": "display_data"
        },
        {
          "name": "stderr",
          "output_type": "stream",
          "text": [
            "\u001b[34m\u001b[1mwandb\u001b[0m: Agent Starting Run: fsmn97sp with config:\n",
            "\u001b[34m\u001b[1mwandb\u001b[0m: \tboosting_type: rf\n",
            "\u001b[34m\u001b[1mwandb\u001b[0m: \tlearning_rate: 0.03\n",
            "\u001b[34m\u001b[1mwandb\u001b[0m: \tmetric: rmse\n",
            "\u001b[34m\u001b[1mwandb\u001b[0m: \tn_estimators: 300\n",
            "\u001b[34m\u001b[1mwandb\u001b[0m: \tobjective: root_mean_squared_error\n",
            "\u001b[34m\u001b[1mwandb\u001b[0m: \trandom_state: 42\n",
            "\u001b[34m\u001b[1mwandb\u001b[0m: \treg_sqrt: True\n"
          ]
        },
        {
          "data": {
            "application/vnd.jupyter.widget-view+json": {
              "model_id": "c6d1b40000a24e5a941716a90e2df9c5",
              "version_major": 2,
              "version_minor": 0
            },
            "text/plain": [
              "VBox(children=(Label(value='Waiting for wandb.init()...\\r'), FloatProgress(value=0.01693333333435779, max=1.0)…"
            ]
          },
          "metadata": {},
          "output_type": "display_data"
        },
        {
          "data": {
            "text/html": [
              "Tracking run with wandb version 0.13.5"
            ],
            "text/plain": [
              "<IPython.core.display.HTML object>"
            ]
          },
          "metadata": {},
          "output_type": "display_data"
        },
        {
          "data": {
            "text/html": [
              "Run data is saved locally in <code>C:\\Users\\Rajesh\\wandb\\run-20221110_150134-fsmn97sp</code>"
            ],
            "text/plain": [
              "<IPython.core.display.HTML object>"
            ]
          },
          "metadata": {},
          "output_type": "display_data"
        },
        {
          "data": {
            "text/html": [
              "Syncing run <strong><a href=\"https://wandb.ai/rajeshtr/car_resale_value/runs/fsmn97sp\" target=\"_blank\">good-sweep-42</a></strong> to <a href=\"https://wandb.ai/rajeshtr/car_resale_value\" target=\"_blank\">Weights & Biases</a> (<a href=\"https://wandb.me/run\" target=\"_blank\">docs</a>)<br/>Sweep page:  <a href=\"https://wandb.ai/rajeshtr/car_resale_value/sweeps/b30glh4n\" target=\"_blank\">https://wandb.ai/rajeshtr/car_resale_value/sweeps/b30glh4n</a>"
            ],
            "text/plain": [
              "<IPython.core.display.HTML object>"
            ]
          },
          "metadata": {},
          "output_type": "display_data"
        },
        {
          "name": "stderr",
          "output_type": "stream",
          "text": [
            "C:\\Users\\Rajesh\\anaconda3\\lib\\site-packages\\sklearn\\utils\\validation.py:993: DataConversionWarning: A column-vector y was passed when a 1d array was expected. Please change the shape of y to (n_samples, ), for example using ravel().\n",
            "  y = column_or_1d(y, warn=True)\n"
          ]
        },
        {
          "data": {
            "text/html": [
              "Waiting for W&B process to finish... <strong style=\"color:green\">(success).</strong>"
            ],
            "text/plain": [
              "<IPython.core.display.HTML object>"
            ]
          },
          "metadata": {},
          "output_type": "display_data"
        },
        {
          "data": {
            "text/html": [
              "<style>\n",
              "    table.wandb td:nth-child(1) { padding: 0 10px; text-align: left ; width: auto;} td:nth-child(2) {text-align: left ; width: 100%}\n",
              "    .wandb-row { display: flex; flex-direction: row; flex-wrap: wrap; justify-content: flex-start; width: 100% }\n",
              "    .wandb-col { display: flex; flex-direction: column; flex-basis: 100%; flex: 1; padding: 10px; }\n",
              "    </style>\n",
              "<div class=\"wandb-row\"><div class=\"wandb-col\"><h3>Run history:</h3><br/><table class=\"wandb\"><tr><td>adj_r2</td><td>▁</td></tr><tr><td>mae</td><td>▁</td></tr><tr><td>mse</td><td>▁</td></tr><tr><td>r2</td><td>▁</td></tr><tr><td>rmse</td><td>▁</td></tr><tr><td>rmsle</td><td>▁</td></tr></table><br/></div><div class=\"wandb-col\"><h3>Run summary:</h3><br/><table class=\"wandb\"><tr><td>adj_r2</td><td>0.85858</td></tr><tr><td>mae</td><td>1439.8065</td></tr><tr><td>mse</td><td>10080191.14825</td></tr><tr><td>r2</td><td>0.85859</td></tr><tr><td>rmse</td><td>3174.93168</td></tr><tr><td>rmsle</td><td>8.06304</td></tr></table><br/></div></div>"
            ],
            "text/plain": [
              "<IPython.core.display.HTML object>"
            ]
          },
          "metadata": {},
          "output_type": "display_data"
        },
        {
          "data": {
            "text/html": [
              "Synced <strong style=\"color:#cdcd00\">good-sweep-42</strong>: <a href=\"https://wandb.ai/rajeshtr/car_resale_value/runs/fsmn97sp\" target=\"_blank\">https://wandb.ai/rajeshtr/car_resale_value/runs/fsmn97sp</a><br/>Synced 6 W&B file(s), 0 media file(s), 0 artifact file(s) and 0 other file(s)"
            ],
            "text/plain": [
              "<IPython.core.display.HTML object>"
            ]
          },
          "metadata": {},
          "output_type": "display_data"
        },
        {
          "data": {
            "text/html": [
              "Find logs at: <code>.\\wandb\\run-20221110_150134-fsmn97sp\\logs</code>"
            ],
            "text/plain": [
              "<IPython.core.display.HTML object>"
            ]
          },
          "metadata": {},
          "output_type": "display_data"
        },
        {
          "name": "stderr",
          "output_type": "stream",
          "text": [
            "\u001b[34m\u001b[1mwandb\u001b[0m: Sweep Agent: Waiting for job.\n",
            "\u001b[34m\u001b[1mwandb\u001b[0m: Job received.\n",
            "\u001b[34m\u001b[1mwandb\u001b[0m: Agent Starting Run: 0vghqee1 with config:\n",
            "\u001b[34m\u001b[1mwandb\u001b[0m: \tboosting_type: rf\n",
            "\u001b[34m\u001b[1mwandb\u001b[0m: \tlearning_rate: 0.05\n",
            "\u001b[34m\u001b[1mwandb\u001b[0m: \tmetric: rmse\n",
            "\u001b[34m\u001b[1mwandb\u001b[0m: \tn_estimators: 100\n",
            "\u001b[34m\u001b[1mwandb\u001b[0m: \tobjective: root_mean_squared_error\n",
            "\u001b[34m\u001b[1mwandb\u001b[0m: \trandom_state: 42\n",
            "\u001b[34m\u001b[1mwandb\u001b[0m: \treg_sqrt: True\n"
          ]
        },
        {
          "data": {
            "application/vnd.jupyter.widget-view+json": {
              "model_id": "58cc50135bc24e75871ed0cc0a33eb11",
              "version_major": 2,
              "version_minor": 0
            },
            "text/plain": [
              "VBox(children=(Label(value='Waiting for wandb.init()...\\r'), FloatProgress(value=0.01693333333435779, max=1.0)…"
            ]
          },
          "metadata": {},
          "output_type": "display_data"
        },
        {
          "data": {
            "text/html": [
              "Tracking run with wandb version 0.13.5"
            ],
            "text/plain": [
              "<IPython.core.display.HTML object>"
            ]
          },
          "metadata": {},
          "output_type": "display_data"
        },
        {
          "data": {
            "text/html": [
              "Run data is saved locally in <code>C:\\Users\\Rajesh\\wandb\\run-20221110_150229-0vghqee1</code>"
            ],
            "text/plain": [
              "<IPython.core.display.HTML object>"
            ]
          },
          "metadata": {},
          "output_type": "display_data"
        },
        {
          "data": {
            "text/html": [
              "Syncing run <strong><a href=\"https://wandb.ai/rajeshtr/car_resale_value/runs/0vghqee1\" target=\"_blank\">curious-sweep-43</a></strong> to <a href=\"https://wandb.ai/rajeshtr/car_resale_value\" target=\"_blank\">Weights & Biases</a> (<a href=\"https://wandb.me/run\" target=\"_blank\">docs</a>)<br/>Sweep page:  <a href=\"https://wandb.ai/rajeshtr/car_resale_value/sweeps/b30glh4n\" target=\"_blank\">https://wandb.ai/rajeshtr/car_resale_value/sweeps/b30glh4n</a>"
            ],
            "text/plain": [
              "<IPython.core.display.HTML object>"
            ]
          },
          "metadata": {},
          "output_type": "display_data"
        },
        {
          "name": "stderr",
          "output_type": "stream",
          "text": [
            "C:\\Users\\Rajesh\\anaconda3\\lib\\site-packages\\sklearn\\utils\\validation.py:993: DataConversionWarning: A column-vector y was passed when a 1d array was expected. Please change the shape of y to (n_samples, ), for example using ravel().\n",
            "  y = column_or_1d(y, warn=True)\n"
          ]
        },
        {
          "data": {
            "text/html": [
              "Waiting for W&B process to finish... <strong style=\"color:green\">(success).</strong>"
            ],
            "text/plain": [
              "<IPython.core.display.HTML object>"
            ]
          },
          "metadata": {},
          "output_type": "display_data"
        },
        {
          "data": {
            "text/html": [
              "<style>\n",
              "    table.wandb td:nth-child(1) { padding: 0 10px; text-align: left ; width: auto;} td:nth-child(2) {text-align: left ; width: 100%}\n",
              "    .wandb-row { display: flex; flex-direction: row; flex-wrap: wrap; justify-content: flex-start; width: 100% }\n",
              "    .wandb-col { display: flex; flex-direction: column; flex-basis: 100%; flex: 1; padding: 10px; }\n",
              "    </style>\n",
              "<div class=\"wandb-row\"><div class=\"wandb-col\"><h3>Run history:</h3><br/><table class=\"wandb\"><tr><td>adj_r2</td><td>▁</td></tr><tr><td>mae</td><td>▁</td></tr><tr><td>mse</td><td>▁</td></tr><tr><td>r2</td><td>▁</td></tr><tr><td>rmse</td><td>▁</td></tr><tr><td>rmsle</td><td>▁</td></tr></table><br/></div><div class=\"wandb-col\"><h3>Run summary:</h3><br/><table class=\"wandb\"><tr><td>adj_r2</td><td>0.84626</td></tr><tr><td>mae</td><td>1530.49088</td></tr><tr><td>mse</td><td>10957978.66601</td></tr><tr><td>r2</td><td>0.84627</td></tr><tr><td>rmse</td><td>3310.28377</td></tr><tr><td>rmsle</td><td>8.10479</td></tr></table><br/></div></div>"
            ],
            "text/plain": [
              "<IPython.core.display.HTML object>"
            ]
          },
          "metadata": {},
          "output_type": "display_data"
        },
        {
          "data": {
            "text/html": [
              "Synced <strong style=\"color:#cdcd00\">curious-sweep-43</strong>: <a href=\"https://wandb.ai/rajeshtr/car_resale_value/runs/0vghqee1\" target=\"_blank\">https://wandb.ai/rajeshtr/car_resale_value/runs/0vghqee1</a><br/>Synced 6 W&B file(s), 0 media file(s), 0 artifact file(s) and 0 other file(s)"
            ],
            "text/plain": [
              "<IPython.core.display.HTML object>"
            ]
          },
          "metadata": {},
          "output_type": "display_data"
        },
        {
          "data": {
            "text/html": [
              "Find logs at: <code>.\\wandb\\run-20221110_150229-0vghqee1\\logs</code>"
            ],
            "text/plain": [
              "<IPython.core.display.HTML object>"
            ]
          },
          "metadata": {},
          "output_type": "display_data"
        },
        {
          "name": "stderr",
          "output_type": "stream",
          "text": [
            "\u001b[34m\u001b[1mwandb\u001b[0m: Sweep Agent: Waiting for job.\n",
            "\u001b[34m\u001b[1mwandb\u001b[0m: Job received.\n",
            "\u001b[34m\u001b[1mwandb\u001b[0m: Agent Starting Run: nxoqwm71 with config:\n",
            "\u001b[34m\u001b[1mwandb\u001b[0m: \tboosting_type: rf\n",
            "\u001b[34m\u001b[1mwandb\u001b[0m: \tlearning_rate: 0.05\n",
            "\u001b[34m\u001b[1mwandb\u001b[0m: \tmetric: rmse\n",
            "\u001b[34m\u001b[1mwandb\u001b[0m: \tn_estimators: 200\n",
            "\u001b[34m\u001b[1mwandb\u001b[0m: \tobjective: root_mean_squared_error\n",
            "\u001b[34m\u001b[1mwandb\u001b[0m: \trandom_state: 42\n",
            "\u001b[34m\u001b[1mwandb\u001b[0m: \treg_sqrt: True\n"
          ]
        },
        {
          "data": {
            "application/vnd.jupyter.widget-view+json": {
              "model_id": "52e2389e74984b8c9a07ca7280af67ee",
              "version_major": 2,
              "version_minor": 0
            },
            "text/plain": [
              "VBox(children=(Label(value='Waiting for wandb.init()...\\r'), FloatProgress(value=0.016666666666666666, max=1.0…"
            ]
          },
          "metadata": {},
          "output_type": "display_data"
        },
        {
          "name": "stderr",
          "output_type": "stream",
          "text": [
            "\u001b[34m\u001b[1mwandb\u001b[0m: Network error (ReadTimeout), entering retry loop.\n",
            "\u001b[34m\u001b[1mwandb\u001b[0m: \u001b[32m\u001b[41mERROR\u001b[0m Error communicating with wandb process\n",
            "\u001b[34m\u001b[1mwandb\u001b[0m: \u001b[32m\u001b[41mERROR\u001b[0m For more info see: https://docs.wandb.ai/library/init#init-start-error\n",
            "\u001b[34m\u001b[1mwandb\u001b[0m: \u001b[32m\u001b[41mERROR\u001b[0m Run nxoqwm71 errored: UsageError('Error communicating with wandb process\\nFor more info see: https://docs.wandb.ai/library/init#init-start-error')\n"
          ]
        },
        {
          "name": "stdout",
          "output_type": "stream",
          "text": [
            "Problem at: C:\\Users\\Rajesh\\AppData\\Local\\Temp\\ipykernel_33400\\1281839519.py 8 LGBM_regressor\n"
          ]
        },
        {
          "name": "stderr",
          "output_type": "stream",
          "text": [
            "\u001b[34m\u001b[1mwandb\u001b[0m: Sweep Agent: Waiting for job.\n",
            "\u001b[34m\u001b[1mwandb\u001b[0m: Job received.\n",
            "\u001b[34m\u001b[1mwandb\u001b[0m: Agent Starting Run: pac5b3vy with config:\n",
            "\u001b[34m\u001b[1mwandb\u001b[0m: \tboosting_type: rf\n",
            "\u001b[34m\u001b[1mwandb\u001b[0m: \tlearning_rate: 0.05\n",
            "\u001b[34m\u001b[1mwandb\u001b[0m: \tmetric: rmse\n",
            "\u001b[34m\u001b[1mwandb\u001b[0m: \tn_estimators: 300\n",
            "\u001b[34m\u001b[1mwandb\u001b[0m: \tobjective: root_mean_squared_error\n",
            "\u001b[34m\u001b[1mwandb\u001b[0m: \trandom_state: 42\n",
            "\u001b[34m\u001b[1mwandb\u001b[0m: \treg_sqrt: True\n"
          ]
        },
        {
          "data": {
            "application/vnd.jupyter.widget-view+json": {
              "model_id": "147a007ee3af4a40ac7e208c81befa33",
              "version_major": 2,
              "version_minor": 0
            },
            "text/plain": [
              "VBox(children=(Label(value='Waiting for wandb.init()...\\r'), FloatProgress(value=0.01693333333435779, max=1.0)…"
            ]
          },
          "metadata": {},
          "output_type": "display_data"
        },
        {
          "data": {
            "text/html": [
              "Tracking run with wandb version 0.13.5"
            ],
            "text/plain": [
              "<IPython.core.display.HTML object>"
            ]
          },
          "metadata": {},
          "output_type": "display_data"
        },
        {
          "data": {
            "text/html": [
              "Run data is saved locally in <code>C:\\Users\\Rajesh\\wandb\\run-20221110_150739-pac5b3vy</code>"
            ],
            "text/plain": [
              "<IPython.core.display.HTML object>"
            ]
          },
          "metadata": {},
          "output_type": "display_data"
        },
        {
          "data": {
            "text/html": [
              "Syncing run <strong><a href=\"https://wandb.ai/rajeshtr/car_resale_value/runs/pac5b3vy\" target=\"_blank\">ruby-sweep-45</a></strong> to <a href=\"https://wandb.ai/rajeshtr/car_resale_value\" target=\"_blank\">Weights & Biases</a> (<a href=\"https://wandb.me/run\" target=\"_blank\">docs</a>)<br/>Sweep page:  <a href=\"https://wandb.ai/rajeshtr/car_resale_value/sweeps/b30glh4n\" target=\"_blank\">https://wandb.ai/rajeshtr/car_resale_value/sweeps/b30glh4n</a>"
            ],
            "text/plain": [
              "<IPython.core.display.HTML object>"
            ]
          },
          "metadata": {},
          "output_type": "display_data"
        },
        {
          "name": "stderr",
          "output_type": "stream",
          "text": [
            "C:\\Users\\Rajesh\\anaconda3\\lib\\site-packages\\sklearn\\utils\\validation.py:993: DataConversionWarning: A column-vector y was passed when a 1d array was expected. Please change the shape of y to (n_samples, ), for example using ravel().\n",
            "  y = column_or_1d(y, warn=True)\n"
          ]
        },
        {
          "data": {
            "text/html": [
              "Waiting for W&B process to finish... <strong style=\"color:green\">(success).</strong>"
            ],
            "text/plain": [
              "<IPython.core.display.HTML object>"
            ]
          },
          "metadata": {},
          "output_type": "display_data"
        },
        {
          "data": {
            "text/html": [
              "<style>\n",
              "    table.wandb td:nth-child(1) { padding: 0 10px; text-align: left ; width: auto;} td:nth-child(2) {text-align: left ; width: 100%}\n",
              "    .wandb-row { display: flex; flex-direction: row; flex-wrap: wrap; justify-content: flex-start; width: 100% }\n",
              "    .wandb-col { display: flex; flex-direction: column; flex-basis: 100%; flex: 1; padding: 10px; }\n",
              "    </style>\n",
              "<div class=\"wandb-row\"><div class=\"wandb-col\"><h3>Run history:</h3><br/><table class=\"wandb\"><tr><td>adj_r2</td><td>▁</td></tr><tr><td>mae</td><td>▁</td></tr><tr><td>mse</td><td>▁</td></tr><tr><td>r2</td><td>▁</td></tr><tr><td>rmse</td><td>▁</td></tr><tr><td>rmsle</td><td>▁</td></tr></table><br/></div><div class=\"wandb-col\"><h3>Run summary:</h3><br/><table class=\"wandb\"><tr><td>adj_r2</td><td>0.86549</td></tr><tr><td>mae</td><td>1392.98454</td></tr><tr><td>mse</td><td>9587424.95896</td></tr><tr><td>r2</td><td>0.8655</td></tr><tr><td>rmse</td><td>3096.35672</td></tr><tr><td>rmsle</td><td>8.03798</td></tr></table><br/></div></div>"
            ],
            "text/plain": [
              "<IPython.core.display.HTML object>"
            ]
          },
          "metadata": {},
          "output_type": "display_data"
        },
        {
          "data": {
            "text/html": [
              "Synced <strong style=\"color:#cdcd00\">ruby-sweep-45</strong>: <a href=\"https://wandb.ai/rajeshtr/car_resale_value/runs/pac5b3vy\" target=\"_blank\">https://wandb.ai/rajeshtr/car_resale_value/runs/pac5b3vy</a><br/>Synced 6 W&B file(s), 0 media file(s), 0 artifact file(s) and 0 other file(s)"
            ],
            "text/plain": [
              "<IPython.core.display.HTML object>"
            ]
          },
          "metadata": {},
          "output_type": "display_data"
        },
        {
          "data": {
            "text/html": [
              "Find logs at: <code>.\\wandb\\run-20221110_150739-pac5b3vy\\logs</code>"
            ],
            "text/plain": [
              "<IPython.core.display.HTML object>"
            ]
          },
          "metadata": {},
          "output_type": "display_data"
        },
        {
          "name": "stderr",
          "output_type": "stream",
          "text": [
            "\u001b[34m\u001b[1mwandb\u001b[0m: Agent Starting Run: zady3ury with config:\n",
            "\u001b[34m\u001b[1mwandb\u001b[0m: \tboosting_type: rf\n",
            "\u001b[34m\u001b[1mwandb\u001b[0m: \tlearning_rate: 0.07\n",
            "\u001b[34m\u001b[1mwandb\u001b[0m: \tmetric: rmse\n",
            "\u001b[34m\u001b[1mwandb\u001b[0m: \tn_estimators: 100\n",
            "\u001b[34m\u001b[1mwandb\u001b[0m: \tobjective: root_mean_squared_error\n",
            "\u001b[34m\u001b[1mwandb\u001b[0m: \trandom_state: 42\n",
            "\u001b[34m\u001b[1mwandb\u001b[0m: \treg_sqrt: True\n"
          ]
        },
        {
          "data": {
            "application/vnd.jupyter.widget-view+json": {
              "model_id": "1a51a9b0a84a4ba882b2babbfec808bd",
              "version_major": 2,
              "version_minor": 0
            },
            "text/plain": [
              "VBox(children=(Label(value='Waiting for wandb.init()...\\r'), FloatProgress(value=0.016666666666666666, max=1.0…"
            ]
          },
          "metadata": {},
          "output_type": "display_data"
        },
        {
          "data": {
            "text/html": [
              "Tracking run with wandb version 0.13.5"
            ],
            "text/plain": [
              "<IPython.core.display.HTML object>"
            ]
          },
          "metadata": {},
          "output_type": "display_data"
        },
        {
          "data": {
            "text/html": [
              "Run data is saved locally in <code>C:\\Users\\Rajesh\\wandb\\run-20221110_150842-zady3ury</code>"
            ],
            "text/plain": [
              "<IPython.core.display.HTML object>"
            ]
          },
          "metadata": {},
          "output_type": "display_data"
        },
        {
          "data": {
            "text/html": [
              "Syncing run <strong><a href=\"https://wandb.ai/rajeshtr/car_resale_value/runs/zady3ury\" target=\"_blank\">dry-sweep-46</a></strong> to <a href=\"https://wandb.ai/rajeshtr/car_resale_value\" target=\"_blank\">Weights & Biases</a> (<a href=\"https://wandb.me/run\" target=\"_blank\">docs</a>)<br/>Sweep page:  <a href=\"https://wandb.ai/rajeshtr/car_resale_value/sweeps/b30glh4n\" target=\"_blank\">https://wandb.ai/rajeshtr/car_resale_value/sweeps/b30glh4n</a>"
            ],
            "text/plain": [
              "<IPython.core.display.HTML object>"
            ]
          },
          "metadata": {},
          "output_type": "display_data"
        },
        {
          "name": "stderr",
          "output_type": "stream",
          "text": [
            "C:\\Users\\Rajesh\\anaconda3\\lib\\site-packages\\sklearn\\utils\\validation.py:993: DataConversionWarning: A column-vector y was passed when a 1d array was expected. Please change the shape of y to (n_samples, ), for example using ravel().\n",
            "  y = column_or_1d(y, warn=True)\n"
          ]
        },
        {
          "data": {
            "text/html": [
              "Waiting for W&B process to finish... <strong style=\"color:green\">(success).</strong>"
            ],
            "text/plain": [
              "<IPython.core.display.HTML object>"
            ]
          },
          "metadata": {},
          "output_type": "display_data"
        },
        {
          "data": {
            "text/html": [
              "<style>\n",
              "    table.wandb td:nth-child(1) { padding: 0 10px; text-align: left ; width: auto;} td:nth-child(2) {text-align: left ; width: 100%}\n",
              "    .wandb-row { display: flex; flex-direction: row; flex-wrap: wrap; justify-content: flex-start; width: 100% }\n",
              "    .wandb-col { display: flex; flex-direction: column; flex-basis: 100%; flex: 1; padding: 10px; }\n",
              "    </style>\n",
              "<div class=\"wandb-row\"><div class=\"wandb-col\"><h3>Run history:</h3><br/><table class=\"wandb\"><tr><td>adj_r2</td><td>▁</td></tr><tr><td>mae</td><td>▁</td></tr><tr><td>mse</td><td>▁</td></tr><tr><td>r2</td><td>▁</td></tr><tr><td>rmse</td><td>▁</td></tr><tr><td>rmsle</td><td>▁</td></tr></table><br/></div><div class=\"wandb-col\"><h3>Run summary:</h3><br/><table class=\"wandb\"><tr><td>adj_r2</td><td>0.85557</td></tr><tr><td>mae</td><td>1467.09127</td></tr><tr><td>mse</td><td>10294938.17779</td></tr><tr><td>r2</td><td>0.85557</td></tr><tr><td>rmse</td><td>3208.57261</td></tr><tr><td>rmsle</td><td>8.07358</td></tr></table><br/></div></div>"
            ],
            "text/plain": [
              "<IPython.core.display.HTML object>"
            ]
          },
          "metadata": {},
          "output_type": "display_data"
        },
        {
          "data": {
            "text/html": [
              "Synced <strong style=\"color:#cdcd00\">dry-sweep-46</strong>: <a href=\"https://wandb.ai/rajeshtr/car_resale_value/runs/zady3ury\" target=\"_blank\">https://wandb.ai/rajeshtr/car_resale_value/runs/zady3ury</a><br/>Synced 6 W&B file(s), 0 media file(s), 0 artifact file(s) and 0 other file(s)"
            ],
            "text/plain": [
              "<IPython.core.display.HTML object>"
            ]
          },
          "metadata": {},
          "output_type": "display_data"
        },
        {
          "data": {
            "text/html": [
              "Find logs at: <code>.\\wandb\\run-20221110_150842-zady3ury\\logs</code>"
            ],
            "text/plain": [
              "<IPython.core.display.HTML object>"
            ]
          },
          "metadata": {},
          "output_type": "display_data"
        },
        {
          "name": "stderr",
          "output_type": "stream",
          "text": [
            "\u001b[34m\u001b[1mwandb\u001b[0m: Sweep Agent: Waiting for job.\n",
            "\u001b[34m\u001b[1mwandb\u001b[0m: Job received.\n",
            "\u001b[34m\u001b[1mwandb\u001b[0m: Agent Starting Run: q763gpjz with config:\n",
            "\u001b[34m\u001b[1mwandb\u001b[0m: \tboosting_type: rf\n",
            "\u001b[34m\u001b[1mwandb\u001b[0m: \tlearning_rate: 0.07\n",
            "\u001b[34m\u001b[1mwandb\u001b[0m: \tmetric: rmse\n",
            "\u001b[34m\u001b[1mwandb\u001b[0m: \tn_estimators: 200\n",
            "\u001b[34m\u001b[1mwandb\u001b[0m: \tobjective: root_mean_squared_error\n",
            "\u001b[34m\u001b[1mwandb\u001b[0m: \trandom_state: 42\n",
            "\u001b[34m\u001b[1mwandb\u001b[0m: \treg_sqrt: True\n"
          ]
        },
        {
          "data": {
            "application/vnd.jupyter.widget-view+json": {
              "model_id": "54de6a5802b846f082cd85914de02892",
              "version_major": 2,
              "version_minor": 0
            },
            "text/plain": [
              "VBox(children=(Label(value='Waiting for wandb.init()...\\r'), FloatProgress(value=0.01693333333435779, max=1.0)…"
            ]
          },
          "metadata": {},
          "output_type": "display_data"
        },
        {
          "data": {
            "text/html": [
              "Tracking run with wandb version 0.13.5"
            ],
            "text/plain": [
              "<IPython.core.display.HTML object>"
            ]
          },
          "metadata": {},
          "output_type": "display_data"
        },
        {
          "data": {
            "text/html": [
              "Run data is saved locally in <code>C:\\Users\\Rajesh\\wandb\\run-20221110_150942-q763gpjz</code>"
            ],
            "text/plain": [
              "<IPython.core.display.HTML object>"
            ]
          },
          "metadata": {},
          "output_type": "display_data"
        },
        {
          "data": {
            "text/html": [
              "Syncing run <strong><a href=\"https://wandb.ai/rajeshtr/car_resale_value/runs/q763gpjz\" target=\"_blank\">autumn-sweep-47</a></strong> to <a href=\"https://wandb.ai/rajeshtr/car_resale_value\" target=\"_blank\">Weights & Biases</a> (<a href=\"https://wandb.me/run\" target=\"_blank\">docs</a>)<br/>Sweep page:  <a href=\"https://wandb.ai/rajeshtr/car_resale_value/sweeps/b30glh4n\" target=\"_blank\">https://wandb.ai/rajeshtr/car_resale_value/sweeps/b30glh4n</a>"
            ],
            "text/plain": [
              "<IPython.core.display.HTML object>"
            ]
          },
          "metadata": {},
          "output_type": "display_data"
        },
        {
          "name": "stderr",
          "output_type": "stream",
          "text": [
            "C:\\Users\\Rajesh\\anaconda3\\lib\\site-packages\\sklearn\\utils\\validation.py:993: DataConversionWarning: A column-vector y was passed when a 1d array was expected. Please change the shape of y to (n_samples, ), for example using ravel().\n",
            "  y = column_or_1d(y, warn=True)\n"
          ]
        },
        {
          "data": {
            "text/html": [
              "Waiting for W&B process to finish... <strong style=\"color:green\">(success).</strong>"
            ],
            "text/plain": [
              "<IPython.core.display.HTML object>"
            ]
          },
          "metadata": {},
          "output_type": "display_data"
        },
        {
          "data": {
            "text/html": [
              "<style>\n",
              "    table.wandb td:nth-child(1) { padding: 0 10px; text-align: left ; width: auto;} td:nth-child(2) {text-align: left ; width: 100%}\n",
              "    .wandb-row { display: flex; flex-direction: row; flex-wrap: wrap; justify-content: flex-start; width: 100% }\n",
              "    .wandb-col { display: flex; flex-direction: column; flex-basis: 100%; flex: 1; padding: 10px; }\n",
              "    </style>\n",
              "<div class=\"wandb-row\"><div class=\"wandb-col\"><h3>Run history:</h3><br/><table class=\"wandb\"><tr><td>adj_r2</td><td>▁</td></tr><tr><td>mae</td><td>▁</td></tr><tr><td>mse</td><td>▁</td></tr><tr><td>r2</td><td>▁</td></tr><tr><td>rmse</td><td>▁</td></tr><tr><td>rmsle</td><td>▁</td></tr></table><br/></div><div class=\"wandb-col\"><h3>Run summary:</h3><br/><table class=\"wandb\"><tr><td>adj_r2</td><td>0.86505</td></tr><tr><td>mae</td><td>1400.49904</td></tr><tr><td>mse</td><td>9618944.77269</td></tr><tr><td>r2</td><td>0.86506</td></tr><tr><td>rmse</td><td>3101.44237</td></tr><tr><td>rmsle</td><td>8.03962</td></tr></table><br/></div></div>"
            ],
            "text/plain": [
              "<IPython.core.display.HTML object>"
            ]
          },
          "metadata": {},
          "output_type": "display_data"
        },
        {
          "data": {
            "text/html": [
              "Synced <strong style=\"color:#cdcd00\">autumn-sweep-47</strong>: <a href=\"https://wandb.ai/rajeshtr/car_resale_value/runs/q763gpjz\" target=\"_blank\">https://wandb.ai/rajeshtr/car_resale_value/runs/q763gpjz</a><br/>Synced 6 W&B file(s), 0 media file(s), 0 artifact file(s) and 0 other file(s)"
            ],
            "text/plain": [
              "<IPython.core.display.HTML object>"
            ]
          },
          "metadata": {},
          "output_type": "display_data"
        },
        {
          "data": {
            "text/html": [
              "Find logs at: <code>.\\wandb\\run-20221110_150942-q763gpjz\\logs</code>"
            ],
            "text/plain": [
              "<IPython.core.display.HTML object>"
            ]
          },
          "metadata": {},
          "output_type": "display_data"
        },
        {
          "name": "stderr",
          "output_type": "stream",
          "text": [
            "\u001b[34m\u001b[1mwandb\u001b[0m: Sweep Agent: Waiting for job.\n",
            "\u001b[34m\u001b[1mwandb\u001b[0m: Job received.\n",
            "\u001b[34m\u001b[1mwandb\u001b[0m: Agent Starting Run: 3qrld772 with config:\n",
            "\u001b[34m\u001b[1mwandb\u001b[0m: \tboosting_type: rf\n",
            "\u001b[34m\u001b[1mwandb\u001b[0m: \tlearning_rate: 0.07\n",
            "\u001b[34m\u001b[1mwandb\u001b[0m: \tmetric: rmse\n",
            "\u001b[34m\u001b[1mwandb\u001b[0m: \tn_estimators: 300\n",
            "\u001b[34m\u001b[1mwandb\u001b[0m: \tobjective: root_mean_squared_error\n",
            "\u001b[34m\u001b[1mwandb\u001b[0m: \trandom_state: 42\n",
            "\u001b[34m\u001b[1mwandb\u001b[0m: \treg_sqrt: True\n"
          ]
        },
        {
          "data": {
            "application/vnd.jupyter.widget-view+json": {
              "model_id": "3535be5f2ed74559b62ba4655015bcbe",
              "version_major": 2,
              "version_minor": 0
            },
            "text/plain": [
              "VBox(children=(Label(value='Waiting for wandb.init()...\\r'), FloatProgress(value=0.016933333330477276, max=1.0…"
            ]
          },
          "metadata": {},
          "output_type": "display_data"
        },
        {
          "data": {
            "text/html": [
              "Tracking run with wandb version 0.13.5"
            ],
            "text/plain": [
              "<IPython.core.display.HTML object>"
            ]
          },
          "metadata": {},
          "output_type": "display_data"
        },
        {
          "data": {
            "text/html": [
              "Run data is saved locally in <code>C:\\Users\\Rajesh\\wandb\\run-20221110_151057-3qrld772</code>"
            ],
            "text/plain": [
              "<IPython.core.display.HTML object>"
            ]
          },
          "metadata": {},
          "output_type": "display_data"
        },
        {
          "data": {
            "text/html": [
              "Syncing run <strong><a href=\"https://wandb.ai/rajeshtr/car_resale_value/runs/3qrld772\" target=\"_blank\">fallen-sweep-48</a></strong> to <a href=\"https://wandb.ai/rajeshtr/car_resale_value\" target=\"_blank\">Weights & Biases</a> (<a href=\"https://wandb.me/run\" target=\"_blank\">docs</a>)<br/>Sweep page:  <a href=\"https://wandb.ai/rajeshtr/car_resale_value/sweeps/b30glh4n\" target=\"_blank\">https://wandb.ai/rajeshtr/car_resale_value/sweeps/b30glh4n</a>"
            ],
            "text/plain": [
              "<IPython.core.display.HTML object>"
            ]
          },
          "metadata": {},
          "output_type": "display_data"
        },
        {
          "name": "stderr",
          "output_type": "stream",
          "text": [
            "C:\\Users\\Rajesh\\anaconda3\\lib\\site-packages\\sklearn\\utils\\validation.py:993: DataConversionWarning: A column-vector y was passed when a 1d array was expected. Please change the shape of y to (n_samples, ), for example using ravel().\n",
            "  y = column_or_1d(y, warn=True)\n"
          ]
        },
        {
          "data": {
            "text/html": [
              "Waiting for W&B process to finish... <strong style=\"color:green\">(success).</strong>"
            ],
            "text/plain": [
              "<IPython.core.display.HTML object>"
            ]
          },
          "metadata": {},
          "output_type": "display_data"
        },
        {
          "data": {
            "text/html": [
              "<style>\n",
              "    table.wandb td:nth-child(1) { padding: 0 10px; text-align: left ; width: auto;} td:nth-child(2) {text-align: left ; width: 100%}\n",
              "    .wandb-row { display: flex; flex-direction: row; flex-wrap: wrap; justify-content: flex-start; width: 100% }\n",
              "    .wandb-col { display: flex; flex-direction: column; flex-basis: 100%; flex: 1; padding: 10px; }\n",
              "    </style>\n",
              "<div class=\"wandb-row\"><div class=\"wandb-col\"><h3>Run history:</h3><br/><table class=\"wandb\"><tr><td>adj_r2</td><td>▁</td></tr><tr><td>mae</td><td>▁</td></tr><tr><td>mse</td><td>▁</td></tr><tr><td>r2</td><td>▁</td></tr><tr><td>rmse</td><td>▁</td></tr><tr><td>rmsle</td><td>▁</td></tr></table><br/></div><div class=\"wandb-col\"><h3>Run summary:</h3><br/><table class=\"wandb\"><tr><td>adj_r2</td><td>0.86949</td></tr><tr><td>mae</td><td>1366.21695</td></tr><tr><td>mse</td><td>9302686.85872</td></tr><tr><td>r2</td><td>0.86949</td></tr><tr><td>rmse</td><td>3050.03063</td></tr><tr><td>rmsle</td><td>8.02291</td></tr></table><br/></div></div>"
            ],
            "text/plain": [
              "<IPython.core.display.HTML object>"
            ]
          },
          "metadata": {},
          "output_type": "display_data"
        },
        {
          "data": {
            "text/html": [
              "Synced <strong style=\"color:#cdcd00\">fallen-sweep-48</strong>: <a href=\"https://wandb.ai/rajeshtr/car_resale_value/runs/3qrld772\" target=\"_blank\">https://wandb.ai/rajeshtr/car_resale_value/runs/3qrld772</a><br/>Synced 6 W&B file(s), 0 media file(s), 0 artifact file(s) and 0 other file(s)"
            ],
            "text/plain": [
              "<IPython.core.display.HTML object>"
            ]
          },
          "metadata": {},
          "output_type": "display_data"
        },
        {
          "data": {
            "text/html": [
              "Find logs at: <code>.\\wandb\\run-20221110_151057-3qrld772\\logs</code>"
            ],
            "text/plain": [
              "<IPython.core.display.HTML object>"
            ]
          },
          "metadata": {},
          "output_type": "display_data"
        },
        {
          "name": "stderr",
          "output_type": "stream",
          "text": [
            "\u001b[34m\u001b[1mwandb\u001b[0m: Sweep Agent: Waiting for job.\n",
            "\u001b[34m\u001b[1mwandb\u001b[0m: Sweep Agent: Exiting.\n"
          ]
        }
      ],
      "source": [
        "lgbm_configs = {\n",
        "    \"name\":'LGBMRegressor',\n",
        "    \"method\": \"grid\",\n",
        "    \"metric\": {\n",
        "        \"name\": \"adj_r2\",\n",
        "        \"goal\": \"maximize\"\n",
        "    },\n",
        "    \"parameters\": {\n",
        "        \"learning_rate\": {\n",
        "            \"values\": [0.01, 0.03, 0.05, 0.07]\n",
        "        },\n",
        "        \"objective\": {\n",
        "            \"values\": ['root_mean_squared_error']\n",
        "        },\n",
        "        \"boosting_type\": {\n",
        "            \"values\": ['gbdt','dart','goss','rf']\n",
        "        },\n",
        "        \"reg_sqrt\": {\n",
        "            \"values\": [True]\n",
        "        },\n",
        "        \"metric\": {\n",
        "            \"values\": ['rmse']\n",
        "        },\n",
        "        \"n_estimators\": {\n",
        "            \"values\": [100,200,300]\n",
        "        },\n",
        "        \"random_state\": {\n",
        "            \"values\": [42]\n",
        "        }\n",
        "    }\n",
        "}\n",
        "\n",
        "sweep_id = wandb.sweep(sweep=lgbm_configs, project=\"car_resale_value\")\n",
        "wandb.agent(sweep_id=sweep_id, function=LGBM_regressor)"
      ]
    },
    {
      "cell_type": "markdown",
      "id": "3ee7f5c9",
      "metadata": {
        "id": "3ee7f5c9"
      },
      "source": [
        "# LGBM Regressor Results"
      ]
    },
    {
      "cell_type": "markdown",
      "id": "064c0986",
      "metadata": {
        "id": "064c0986"
      },
      "source": [
        "![W&B%20Chart%2011_10_2022,%203_20_48%20PM.png](attachment:W&B%20Chart%2011_10_2022,%203_20_48%20PM.png)"
      ]
    },
    {
      "cell_type": "code",
      "execution_count": null,
      "id": "6192b66e",
      "metadata": {
        "id": "6192b66e"
      },
      "outputs": [],
      "source": []
    }
  ],
  "metadata": {
    "kernelspec": {
      "display_name": "Python 3 (ipykernel)",
      "language": "python",
      "name": "python3"
    },
    "language_info": {
      "codemirror_mode": {
        "name": "ipython",
        "version": 3
      },
      "file_extension": ".py",
      "mimetype": "text/x-python",
      "name": "python",
      "nbconvert_exporter": "python",
      "pygments_lexer": "ipython3",
      "version": "3.9.13"
    },
    "colab": {
      "provenance": []
    }
  },
  "nbformat": 4,
  "nbformat_minor": 5
}